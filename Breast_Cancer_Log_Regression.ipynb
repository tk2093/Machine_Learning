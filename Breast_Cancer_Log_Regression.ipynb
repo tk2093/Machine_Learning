{
  "nbformat": 4,
  "nbformat_minor": 0,
  "metadata": {
    "colab": {
      "name": "Breast_Cancer_Log_Regression.ipynb",
      "provenance": []
    },
    "kernelspec": {
      "name": "python3",
      "display_name": "Python 3"
    },
    "language_info": {
      "name": "python"
    }
  },
  "cells": [
    {
      "cell_type": "code",
      "execution_count": 1,
      "metadata": {
        "id": "LMT_6it_MXME"
      },
      "outputs": [],
      "source": [
        "#importing libraries\n",
        "import numpy as np\n",
        "import pandas as pd\n",
        "import matplotlib.pyplot as plt\n",
        "from sklearn.model_selection import train_test_split, cross_val_score\n",
        "from sklearn.preprocessing import StandardScaler\n",
        "from sklearn.linear_model import LogisticRegression\n",
        "from sklearn.metrics import confusion_matrix, accuracy_score"
      ]
    },
    {
      "cell_type": "code",
      "source": [
        "#importing dataset\n",
        "df = pd.read_csv('breast_cancer.csv')\n",
        "X=df.iloc[:,1:-1].values\n",
        "y=df.iloc[:,-1].values"
      ],
      "metadata": {
        "id": "FBz3yI8_Mm5o"
      },
      "execution_count": 2,
      "outputs": []
    },
    {
      "cell_type": "code",
      "source": [
        "#splitting the dataset\n",
        "\n",
        "X_train, X_test, y_train, y_test = train_test_split(X, y, test_size= 0.2, random_state=0)"
      ],
      "metadata": {
        "id": "hwVC-XlZNnYN"
      },
      "execution_count": 3,
      "outputs": []
    },
    {
      "cell_type": "code",
      "source": [
        "#training the model\n",
        "classifier= LogisticRegression(random_state=0)\n",
        "classifier.fit(X_train, y_train)\n"
      ],
      "metadata": {
        "colab": {
          "base_uri": "https://localhost:8080/"
        },
        "id": "VuZOGwRROWId",
        "outputId": "c54b21e9-a915-43b1-989a-239509f8219d"
      },
      "execution_count": 4,
      "outputs": [
        {
          "output_type": "execute_result",
          "data": {
            "text/plain": [
              "LogisticRegression(random_state=0)"
            ]
          },
          "metadata": {},
          "execution_count": 4
        }
      ]
    },
    {
      "cell_type": "code",
      "source": [
        "#predicting Test set\n",
        "y_hat = classifier.predict(X_test)"
      ],
      "metadata": {
        "id": "VVnJxVkBOmBn"
      },
      "execution_count": 5,
      "outputs": []
    },
    {
      "cell_type": "code",
      "source": [
        "#confusion matrix\n",
        "cm = confusion_matrix(y_test, y_hat)\n",
        "print(\"\\nConfusion matrix:\")\n",
        "print(pd.crosstab(y_test, y_hat, rownames=['True'], colnames=['Predicted'], margins=True))\n",
        "acc= accuracy_score(y_test, y_hat)\n",
        "print(\"\\nAccuracy: {:.2f}\".format(acc))"
      ],
      "metadata": {
        "colab": {
          "base_uri": "https://localhost:8080/"
        },
        "id": "MAwn15dGO1Vi",
        "outputId": "8dab9ab2-2f7c-47b4-a6d3-ba018667f119"
      },
      "execution_count": 6,
      "outputs": [
        {
          "output_type": "stream",
          "name": "stdout",
          "text": [
            "\n",
            "Confusion matrix:\n",
            "Predicted   2   4  All\n",
            "True                  \n",
            "2          84   3   87\n",
            "4           3  47   50\n",
            "All        87  50  137\n",
            "\n",
            "Accuracy: 0.96\n"
          ]
        }
      ]
    },
    {
      "cell_type": "code",
      "source": [
        "# 10-fold cross validation for the model\n",
        "scores = cross_val_score(classifier, X_train, y_train, cv=10) \n",
        "#print(\"\\n\\n\\n Cross-validation scores: {}\".format(scores))\n",
        "print(\"Average cross-validation score: {:.2f}\\n\".format(scores.mean()*100))\n",
        "print(\"Standard deviation cross-validation score: {:.2f}\\n\\n\\n\".format(scores.std()*100))"
      ],
      "metadata": {
        "colab": {
          "base_uri": "https://localhost:8080/"
        },
        "id": "DFLrKkaDP776",
        "outputId": "cddf54b0-76d6-4e2e-ff1f-94fe9c45ccde"
      },
      "execution_count": 7,
      "outputs": [
        {
          "output_type": "stream",
          "name": "stdout",
          "text": [
            "Average cross-validation score: 96.70\n",
            "\n",
            "Standard deviation cross-validation score: 1.97\n",
            "\n",
            "\n",
            "\n"
          ]
        }
      ]
    }
  ]
}