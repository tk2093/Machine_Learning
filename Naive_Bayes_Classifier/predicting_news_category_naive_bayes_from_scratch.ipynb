{
 "metadata": {
  "kernelspec": {
   "language": "python",
   "display_name": "Python 3",
   "name": "python3"
  },
  "language_info": {
   "name": "python",
   "version": "3.7.12",
   "mimetype": "text/x-python",
   "codemirror_mode": {
    "name": "ipython",
    "version": 3
   },
   "pygments_lexer": "ipython3",
   "nbconvert_exporter": "python",
   "file_extension": ".py"
  },
  "colab": {
   "name": "predicting-news-category-naive-bayes-from-scratch.ipynb",
   "provenance": []
  }
 },
 "nbformat_minor": 0,
 "nbformat": 4,
 "cells": [
  {
   "cell_type": "code",
   "source": [
    "import pandas as pd\n",
    "import numpy as np\n",
    "from sklearn.model_selection import train_test_split\n",
    "import regex as re\n",
    "import time\n",
    "import functools as f"
   ],
   "metadata": {
    "id": "1gXK4o6Vuu_p",
    "execution": {
     "iopub.status.busy": "2022-04-15T02:58:12.620526Z",
     "iopub.execute_input": "2022-04-15T02:58:12.621064Z",
     "iopub.status.idle": "2022-04-15T02:58:13.690537Z",
     "shell.execute_reply.started": "2022-04-15T02:58:12.620928Z",
     "shell.execute_reply": "2022-04-15T02:58:13.689924Z"
    },
    "trusted": true
   },
   "execution_count": 11,
   "outputs": []
  },
  {
   "cell_type": "code",
   "source": [
    "def counter(df, label):\n",
    "  word_count = {}\n",
    "  for cat in categories:\n",
    "    word_dict = {}\n",
    "    data = df[df[label] == cat]['headline'] +' '+ df[df[label] == cat]['short_description']\n",
    "    for row in data:\n",
    "      words = list(set(re.split(\"[^a-zA-Z]\",row)))#.split(' ')\n",
    "      for word in words:\n",
    "        word = word.lower()\n",
    "        if word in word_dict:\n",
    "          word_dict[word] = word_dict[word]+1\n",
    "        else:\n",
    "          word_dict[word] = 1\n",
    "    for word, count in dict(word_dict).items():\n",
    "      if (len(word)<3) or (count<4):\n",
    "        word_dict.pop(word)\n",
    "    word_count[cat] = word_dict\n",
    "  return pd.DataFrame(word_count).fillna(0)"
   ],
   "metadata": {
    "id": "CEqQsuEY6to-",
    "execution": {
     "iopub.status.busy": "2022-04-15T02:58:13.692119Z",
     "iopub.execute_input": "2022-04-15T02:58:13.692577Z",
     "iopub.status.idle": "2022-04-15T02:58:13.701742Z",
     "shell.execute_reply.started": "2022-04-15T02:58:13.692524Z",
     "shell.execute_reply": "2022-04-15T02:58:13.700949Z"
    },
    "trusted": true
   },
   "execution_count": 12,
   "outputs": []
  },
  {
   "cell_type": "code",
   "source": [
    "def prob_cond(word, category, word_df, a=0):\n",
    "  \"\"\"word: word whose probability needs to be found\n",
    "     category: prior condition of the probabilty\n",
    "     word_df: dictionary of the count of word in categories\n",
    "     a: laplace smoothing factor\"\"\"\n",
    "  word = word.lower()\n",
    "  category = category.upper()\n",
    "  if word in vocab:\n",
    "    prob = (word_df.loc[word,category]+a)/(word_df[category].sum()+a*len(word_df[category]))\n",
    "  else:\n",
    "    prob = (a)/(word_df[category].sum()+a*len(word_df[category]))\n",
    "  return prob"
   ],
   "metadata": {
    "id": "KW8AVpv99Okz",
    "execution": {
     "iopub.status.busy": "2022-04-15T02:58:13.703089Z",
     "iopub.execute_input": "2022-04-15T02:58:13.703468Z",
     "iopub.status.idle": "2022-04-15T02:58:13.714253Z",
     "shell.execute_reply.started": "2022-04-15T02:58:13.703425Z",
     "shell.execute_reply": "2022-04-15T02:58:13.713549Z"
    },
    "trusted": true
   },
   "execution_count": 13,
   "outputs": []
  },
  {
   "cell_type": "code",
   "source": [
    "def prob(word, prob_df):\n",
    "  word = word.lower()\n",
    "  probblty = 0\n",
    "  try:\n",
    "    for cat in prob_df.columns:\n",
    "      probblty += prob_df.loc[word,cat]*p_cat[cat]\n",
    "    return probblty\n",
    "  except:\n",
    "    return probblty"
   ],
   "metadata": {
    "id": "INOilvGKCrvU",
    "execution": {
     "iopub.status.busy": "2022-04-15T02:58:13.716207Z",
     "iopub.execute_input": "2022-04-15T02:58:13.716706Z",
     "iopub.status.idle": "2022-04-15T02:58:13.724028Z",
     "shell.execute_reply.started": "2022-04-15T02:58:13.716671Z",
     "shell.execute_reply": "2022-04-15T02:58:13.723452Z"
    },
    "trusted": true
   },
   "execution_count": 14,
   "outputs": []
  },
  {
   "cell_type": "code",
   "source": [
    "def train(df,label='category', smoothing = 1):\n",
    "  global categories\n",
    "  categories = df[label].unique()\n",
    "  temp = df[label].value_counts(sort=False)/df[label].value_counts().sum()\n",
    "  p_cat = temp.to_dict()\n",
    "\n",
    "  word_count = counter(df, label)\n",
    "  global vocab\n",
    "  vocab = word_count.index\n",
    "  pc_word = {}\n",
    "  for cat in categories:\n",
    "    word_prob = {}\n",
    "    for word in vocab:#word_count[cat].keys():\n",
    "      word_prob[word] = prob_cond(word,cat,word_count,a=smoothing)\n",
    "    pc_word[cat] = word_prob\n",
    "  pc_word = pd.DataFrame(pc_word)\n",
    "  return p_cat, word_count, pc_word"
   ],
   "metadata": {
    "id": "I86U3Z4xB7ey",
    "execution": {
     "iopub.status.busy": "2022-04-15T02:58:13.827800Z",
     "iopub.execute_input": "2022-04-15T02:58:13.828556Z",
     "iopub.status.idle": "2022-04-15T02:58:13.835035Z",
     "shell.execute_reply.started": "2022-04-15T02:58:13.828517Z",
     "shell.execute_reply": "2022-04-15T02:58:13.834491Z"
    },
    "trusted": true
   },
   "execution_count": 15,
   "outputs": []
  },
  {
   "cell_type": "code",
   "source": [
    "def predict(X):\n",
    "  cat_pred = np.array([])\n",
    "  #data = X#df_val['headline']#df_val['short_description']+' '+df_val['headline']\n",
    "  for row in X:\n",
    "    val_words = list(set(re.split(\"[^a-zA-Z]\",row)))\n",
    "    for word in val_words:\n",
    "      if (len(word)<3):\n",
    "        val_words.remove(word)\n",
    "    cat_prob = np.array([])\n",
    "    for cat in categories:\n",
    "      list_prob = np.array([])\n",
    "      for word in val_words:\n",
    "        if word in vocab:#try:\n",
    "          list_prob = np.append(list_prob,pc_word.loc[word,cat])#,word_count,a=1))\n",
    "        else:\n",
    "          list_prob = np.append(list_prob,prob_cond(word,cat,word_count,a=smoothing))\n",
    "      cat_prob = np.append(cat_prob,np.prod(list_prob)*p_cat[cat])\n",
    "    cat_prob = cat_prob/sum(cat_prob)\n",
    "    # id = np.argmax(cat_prob)\n",
    "    cat_pred = np.append(cat_pred,np.argmax(cat_prob))\n",
    "  return cat_pred"
   ],
   "metadata": {
    "id": "G_RFw8HGt7MX",
    "execution": {
     "iopub.status.busy": "2022-04-15T02:58:14.110931Z",
     "iopub.execute_input": "2022-04-15T02:58:14.111438Z",
     "iopub.status.idle": "2022-04-15T02:58:14.119272Z",
     "shell.execute_reply.started": "2022-04-15T02:58:14.111405Z",
     "shell.execute_reply": "2022-04-15T02:58:14.118723Z"
    },
    "trusted": true
   },
   "execution_count": 16,
   "outputs": []
  },
  {
   "cell_type": "code",
   "source": [
    "def accuracy(prediction, actual):\n",
    "  accu = 0\n",
    "  for i in range(len(prediction)):\n",
    "    if prediction[i] == actual[i]:\n",
    "      accu += 1\n",
    "  accu = accu/len(prediction)\n",
    "  return accu"
   ],
   "metadata": {
    "id": "cWBp_2Detf57",
    "execution": {
     "iopub.status.busy": "2022-04-15T02:58:14.452242Z",
     "iopub.execute_input": "2022-04-15T02:58:14.452519Z",
     "iopub.status.idle": "2022-04-15T02:58:14.458016Z",
     "shell.execute_reply.started": "2022-04-15T02:58:14.452481Z",
     "shell.execute_reply": "2022-04-15T02:58:14.457072Z"
    },
    "trusted": true
   },
   "execution_count": 17,
   "outputs": []
  },
  {
   "cell_type": "code",
   "source": [
    "#!wget -O news.json 'https://drive.google.com/uc?export=download&id=1Fjy7lj4WkGDjcHRiuw1yHEPuNekwqWhp'\n",
    "# # https://drive.google.com/file/d/1Fjy7lj4WkGDjcHRiuw1yHEPuNekwqWhp/view?usp=sharing"
   ],
   "metadata": {
    "id": "oCtTl13vvpnM",
    "execution": {
     "iopub.status.busy": "2022-04-15T02:58:14.676477Z",
     "iopub.execute_input": "2022-04-15T02:58:14.676782Z",
     "iopub.status.idle": "2022-04-15T02:58:14.679898Z",
     "shell.execute_reply.started": "2022-04-15T02:58:14.676746Z",
     "shell.execute_reply": "2022-04-15T02:58:14.679195Z"
    },
    "trusted": true,
    "colab": {
     "base_uri": "https://localhost:8080/"
    },
    "outputId": "26568ecd-84c5-4b80-cf93-c4ac238a23ad"
   },
   "execution_count": 18,
   "outputs": []
  },
  {
   "cell_type": "code",
   "source": [
    "df = pd.read_json('news.json',lines=True)\n",
    "df.head()"
   ],
   "metadata": {
    "id": "Kdrf2v2mvtB1",
    "outputId": "8e06225a-b679-4724-f1b2-1f759049c52a",
    "execution": {
     "iopub.status.busy": "2022-04-15T02:58:14.973528Z",
     "iopub.execute_input": "2022-04-15T02:58:14.973831Z",
     "iopub.status.idle": "2022-04-15T02:58:18.313552Z",
     "shell.execute_reply.started": "2022-04-15T02:58:14.973798Z",
     "shell.execute_reply": "2022-04-15T02:58:18.312440Z"
    },
    "trusted": true,
    "colab": {
     "base_uri": "https://localhost:8080/",
     "height": 739
    }
   },
   "execution_count": 19,
   "outputs": [
    {
     "data": {
      "text/plain": "        category                                           headline  \\\n0          CRIME  There Were 2 Mass Shootings In Texas Last Week...   \n1  ENTERTAINMENT  Will Smith Joins Diplo And Nicky Jam For The 2...   \n2  ENTERTAINMENT    Hugh Grant Marries For The First Time At Age 57   \n3  ENTERTAINMENT  Jim Carrey Blasts 'Castrato' Adam Schiff And D...   \n4  ENTERTAINMENT  Julianna Margulies Uses Donald Trump Poop Bags...   \n\n           authors                                               link  \\\n0  Melissa Jeltsen  https://www.huffingtonpost.com/entry/texas-ama...   \n1    Andy McDonald  https://www.huffingtonpost.com/entry/will-smit...   \n2       Ron Dicker  https://www.huffingtonpost.com/entry/hugh-gran...   \n3       Ron Dicker  https://www.huffingtonpost.com/entry/jim-carre...   \n4       Ron Dicker  https://www.huffingtonpost.com/entry/julianna-...   \n\n                                   short_description       date  \n0  She left her husband. He killed their children... 2018-05-26  \n1                           Of course it has a song. 2018-05-26  \n2  The actor and his longtime girlfriend Anna Ebe... 2018-05-26  \n3  The actor gives Dems an ass-kicking for not fi... 2018-05-26  \n4  The \"Dietland\" actress said using the bags is ... 2018-05-26  ",
      "text/html": "<div>\n<style scoped>\n    .dataframe tbody tr th:only-of-type {\n        vertical-align: middle;\n    }\n\n    .dataframe tbody tr th {\n        vertical-align: top;\n    }\n\n    .dataframe thead th {\n        text-align: right;\n    }\n</style>\n<table border=\"1\" class=\"dataframe\">\n  <thead>\n    <tr style=\"text-align: right;\">\n      <th></th>\n      <th>category</th>\n      <th>headline</th>\n      <th>authors</th>\n      <th>link</th>\n      <th>short_description</th>\n      <th>date</th>\n    </tr>\n  </thead>\n  <tbody>\n    <tr>\n      <th>0</th>\n      <td>CRIME</td>\n      <td>There Were 2 Mass Shootings In Texas Last Week...</td>\n      <td>Melissa Jeltsen</td>\n      <td>https://www.huffingtonpost.com/entry/texas-ama...</td>\n      <td>She left her husband. He killed their children...</td>\n      <td>2018-05-26</td>\n    </tr>\n    <tr>\n      <th>1</th>\n      <td>ENTERTAINMENT</td>\n      <td>Will Smith Joins Diplo And Nicky Jam For The 2...</td>\n      <td>Andy McDonald</td>\n      <td>https://www.huffingtonpost.com/entry/will-smit...</td>\n      <td>Of course it has a song.</td>\n      <td>2018-05-26</td>\n    </tr>\n    <tr>\n      <th>2</th>\n      <td>ENTERTAINMENT</td>\n      <td>Hugh Grant Marries For The First Time At Age 57</td>\n      <td>Ron Dicker</td>\n      <td>https://www.huffingtonpost.com/entry/hugh-gran...</td>\n      <td>The actor and his longtime girlfriend Anna Ebe...</td>\n      <td>2018-05-26</td>\n    </tr>\n    <tr>\n      <th>3</th>\n      <td>ENTERTAINMENT</td>\n      <td>Jim Carrey Blasts 'Castrato' Adam Schiff And D...</td>\n      <td>Ron Dicker</td>\n      <td>https://www.huffingtonpost.com/entry/jim-carre...</td>\n      <td>The actor gives Dems an ass-kicking for not fi...</td>\n      <td>2018-05-26</td>\n    </tr>\n    <tr>\n      <th>4</th>\n      <td>ENTERTAINMENT</td>\n      <td>Julianna Margulies Uses Donald Trump Poop Bags...</td>\n      <td>Ron Dicker</td>\n      <td>https://www.huffingtonpost.com/entry/julianna-...</td>\n      <td>The \"Dietland\" actress said using the bags is ...</td>\n      <td>2018-05-26</td>\n    </tr>\n  </tbody>\n</table>\n</div>"
     },
     "execution_count": 19,
     "metadata": {},
     "output_type": "execute_result"
    }
   ]
  },
  {
   "cell_type": "code",
   "source": [
    "df['category'] = df['category'].replace(['CULTURE & ARTS','THE WORLDPOST','PARENTS','ARTS','STYLE','TASTE','WELLNESS','WORLDPOST'],\n",
    "                                        ['ARTS & CULTURE','WORLD NEWS','PARENTING','ARTS & CULTURE','STYLE & BEAUTY','FOOD & DRINK','HEALTHY LIVING','WORLD NEWS'])"
   ],
   "metadata": {
    "id": "q59u46TpKmHv",
    "execution": {
     "iopub.status.busy": "2022-04-15T02:58:18.418496Z",
     "iopub.execute_input": "2022-04-15T02:58:18.418765Z",
     "iopub.status.idle": "2022-04-15T02:58:18.632254Z",
     "shell.execute_reply.started": "2022-04-15T02:58:18.418735Z",
     "shell.execute_reply": "2022-04-15T02:58:18.631629Z"
    },
    "trusted": true
   },
   "execution_count": 20,
   "outputs": []
  },
  {
   "cell_type": "code",
   "source": [
    "df.info()"
   ],
   "metadata": {
    "id": "uxgyMlvjyQjq",
    "outputId": "5b9be412-bbfd-4687-882d-bb803e8e9595",
    "execution": {
     "iopub.status.busy": "2022-04-15T02:58:18.738544Z",
     "iopub.execute_input": "2022-04-15T02:58:18.738785Z",
     "iopub.status.idle": "2022-04-15T02:58:18.885361Z",
     "shell.execute_reply.started": "2022-04-15T02:58:18.738757Z",
     "shell.execute_reply": "2022-04-15T02:58:18.884334Z"
    },
    "trusted": true,
    "colab": {
     "base_uri": "https://localhost:8080/"
    }
   },
   "execution_count": 21,
   "outputs": [
    {
     "name": "stdout",
     "output_type": "stream",
     "text": [
      "<class 'pandas.core.frame.DataFrame'>\n",
      "RangeIndex: 200853 entries, 0 to 200852\n",
      "Data columns (total 6 columns):\n",
      " #   Column             Non-Null Count   Dtype         \n",
      "---  ------             --------------   -----         \n",
      " 0   category           200853 non-null  object        \n",
      " 1   headline           200853 non-null  object        \n",
      " 2   authors            200853 non-null  object        \n",
      " 3   link               200853 non-null  object        \n",
      " 4   short_description  200853 non-null  object        \n",
      " 5   date               200853 non-null  datetime64[ns]\n",
      "dtypes: datetime64[ns](1), object(5)\n",
      "memory usage: 9.2+ MB\n"
     ]
    }
   ]
  },
  {
   "cell_type": "code",
   "source": [
    "df, df_test = train_test_split(df, test_size=0.1, stratify=df['category'])\n",
    "# df_val, df_test = train_test_split(df_val, test_size=0.5, random_state=42)"
   ],
   "metadata": {
    "id": "GY446D6l1xW8",
    "execution": {
     "iopub.status.busy": "2022-04-15T02:58:18.886681Z",
     "iopub.execute_input": "2022-04-15T02:58:18.886972Z",
     "iopub.status.idle": "2022-04-15T02:58:19.504667Z",
     "shell.execute_reply.started": "2022-04-15T02:58:18.886932Z",
     "shell.execute_reply": "2022-04-15T02:58:19.503758Z"
    },
    "trusted": true
   },
   "execution_count": 22,
   "outputs": []
  },
  {
   "cell_type": "code",
   "source": [
    "smoothing = 1"
   ],
   "metadata": {
    "id": "jZMD6PiiYG8D",
    "execution": {
     "iopub.status.busy": "2022-04-15T02:58:19.506076Z",
     "iopub.execute_input": "2022-04-15T02:58:19.506398Z",
     "iopub.status.idle": "2022-04-15T02:58:19.511201Z",
     "shell.execute_reply.started": "2022-04-15T02:58:19.506353Z",
     "shell.execute_reply": "2022-04-15T02:58:19.510258Z"
    },
    "trusted": true
   },
   "execution_count": 23,
   "outputs": []
  },
  {
   "cell_type": "code",
   "source": [
    "# p_cat, word_count, pc_word = train(df, 'category', stpwrds=stpwrds, smoothing=smoothing)\n",
    "# cat_dict = {k:v for k,v in zip(range(len(categories)),categories)}\n"
   ],
   "metadata": {
    "id": "SZeXkvvJFliX",
    "execution": {
     "iopub.status.busy": "2022-04-15T02:58:19.514664Z",
     "iopub.execute_input": "2022-04-15T02:58:19.515049Z",
     "iopub.status.idle": "2022-04-15T02:58:19.521087Z",
     "shell.execute_reply.started": "2022-04-15T02:58:19.515006Z",
     "shell.execute_reply": "2022-04-15T02:58:19.520290Z"
    },
    "trusted": true
   },
   "execution_count": 24,
   "outputs": []
  },
  {
   "cell_type": "code",
   "source": [
    "# start = time.time()\n",
    "# input = df_val['headline']#+' '+df_val['short_description']\n",
    "# predictions = predict(input)\n",
    "# predictions = [cat_dict[v] for v in predictions]\n",
    "# print(time.time()-start)"
   ],
   "metadata": {
    "id": "UfAYdp6URBng",
    "execution": {
     "iopub.status.busy": "2022-04-15T02:58:19.522083Z",
     "iopub.execute_input": "2022-04-15T02:58:19.522716Z",
     "iopub.status.idle": "2022-04-15T02:58:19.535700Z",
     "shell.execute_reply.started": "2022-04-15T02:58:19.522680Z",
     "shell.execute_reply": "2022-04-15T02:58:19.534859Z"
    },
    "trusted": true
   },
   "execution_count": 25,
   "outputs": []
  },
  {
   "cell_type": "code",
   "source": [
    "cv= 5\n",
    "split_df = np.array_split(df.copy(), cv)\n",
    "score = []\n",
    "for i in range(cv):\n",
    "    df_val = split_df[i]\n",
    "    diff = split_df[:i]+split_df[i+1:]\n",
    "    df_train = f.reduce(lambda a, b: pd.concat([a,b]),diff)\n",
    "#    df_train, df_val = train_test_split(df, test_size=0.1)#, random_state=42)\n",
    "    p_cat, word_count, pc_word = train(df_train, 'category', smoothing=smoothing)\n",
    "    cat_dict = {k:v for k,v in zip(range(len(categories)),categories)}\n",
    "    input = df_val['headline']#+' '+df_val['short_description']\n",
    "    predictions = predict(input)\n",
    "    predictions = [cat_dict[v] for v in predictions]\n",
    "    actual = df_val['category'].values\n",
    "    score.append(accuracy(predictions,actual))\n",
    "print('Cross validation scores are: ', score)\n",
    "print('Cross validation mean score is: ', np.mean(score))"
   ],
   "metadata": {
    "execution": {
     "iopub.status.busy": "2022-04-15T02:58:19.536939Z",
     "iopub.execute_input": "2022-04-15T02:58:19.537173Z"
    },
    "trusted": true,
    "id": "-ZdSoks7XL_K"
   },
   "execution_count": 26,
   "outputs": [
    {
     "name": "stdout",
     "output_type": "stream",
     "text": [
      "Cross validation scores are:  [0.5920506721247994, 0.5886485589423024, 0.5906840372859791, 0.5857881780211878, 0.5895499681907449]\n",
      "Cross validation mean score is:  0.5893442829130027\n"
     ]
    }
   ]
  },
  {
   "cell_type": "code",
   "source": [
    "p_cat, word_count, pc_word = train(df, 'category',smoothing=smoothing)\n",
    "cat_dict = {k:v for k,v in zip(range(len(categories)),categories)}\n",
    "print(\"Probability of 'The' occuring in a headline is: \", round(prob('The',pc_word),3))\n",
    "print(\"Probability of 'The' occuring in a 'Business' headline is: \", round(prob_cond('The'.lower(),'BUSINESS'.upper(),word_count, a=smoothing),3))"
   ],
   "metadata": {
    "trusted": true,
    "colab": {
     "base_uri": "https://localhost:8080/"
    },
    "id": "m_tweEeoXL_S",
    "outputId": "93e3747c-dd7e-4b3b-e9ff-73e18ecac3b0"
   },
   "execution_count": 27,
   "outputs": [
    {
     "name": "stdout",
     "output_type": "stream",
     "text": [
      "Probability of 'The' occuring in a headline is:  0.037\n",
      "Probability of 'The' occuring in a 'Business' headline is:  0.038\n"
     ]
    }
   ]
  },
  {
   "cell_type": "code",
   "source": [
    "input = df_test['headline']+' '+df_test['short_description']\n",
    "predictions = predict(input)\n",
    "predictions = [cat_dict[v] for v in predictions]\n",
    "actual = df_test['category'].values\n",
    "accuracy(predictions,actual)"
   ],
   "metadata": {
    "trusted": true,
    "colab": {
     "base_uri": "https://localhost:8080/"
    },
    "id": "bCzDoeATXL_T",
    "outputId": "007c95cd-156f-4a5a-d322-7e67b4f112e6"
   },
   "execution_count": 28,
   "outputs": [
    {
     "name": "stderr",
     "output_type": "stream",
     "text": [
      "C:\\Users\\TKC2CC~1.-20\\AppData\\Local\\Temp/ipykernel_16540/2667250092.py:18: RuntimeWarning: invalid value encountered in true_divide\n",
      "  cat_prob = cat_prob/sum(cat_prob)\n"
     ]
    },
    {
     "data": {
      "text/plain": "0.6094792392711341"
     },
     "execution_count": 28,
     "metadata": {},
     "output_type": "execute_result"
    }
   ]
  },
  {
   "cell_type": "code",
   "source": [
    "full_prob = []\n",
    "for cat in categories:\n",
    "  word_prob = []\n",
    "  for word in vocab:\n",
    "    word_prob.append(pc_word.loc[word,cat]*p_cat[cat]/prob(word,pc_word))\n",
    "  full_prob.append(word_prob)\n",
    "full_prob = np.array(full_prob)\n",
    "full_prob_df = pd.DataFrame(full_prob.T,columns=categories,index=vocab)\n",
    "\n",
    "top_word = []\n",
    "for cat in categories:\n",
    "  top_word.append(full_prob_df[cat].sort_values(ascending=False).index)\n",
    "top_word = np.array(top_word)\n",
    "top_words_df = pd.DataFrame(top_word.T,columns=categories)\n"
   ],
   "metadata": {
    "id": "-L886YlY-8Ar",
    "trusted": true
   },
   "execution_count": 29,
   "outputs": []
  },
  {
   "cell_type": "code",
   "source": [
    "top_words_df.iloc[:10,:16]"
   ],
   "metadata": {
    "trusted": true,
    "colab": {
     "base_uri": "https://localhost:8080/",
     "height": 363
    },
    "id": "3deHor46XL_W",
    "outputId": "3fffdfe4-1e8e-4f4f-9ead-7fce2c8409e6"
   },
   "execution_count": 30,
   "outputs": [
    {
     "data": {
      "text/plain": "  BLACK VOICES HEALTHY LIVING      POLITICS         TECH  WORLD NEWS  \\\n0      panther            gps     democrats      samsung    migrants   \n1      trayvon        workout  huffpollster       iphone      aleppo   \n2          mlk       diabetes           sen    microsoft    rohingya   \n3       blacks       workouts      democrat  unconfirmed       mosul   \n4     philando        fitness        senate      android  referendum   \n5        black         strain   republicans        apple      rebels   \n6       luther    mindfulness         rubio       google     myanmar   \n7      castile       exercise         marco          ios   ceasefire   \n8     duvernay       fearless     mcconnell      iphones    minister   \n9         hbcu        chronic       senator   encryption   militants   \n\n     HOME & LIVING         GREEN  WEDDINGS QUEER VOICES        SPORTS  \\\n0            decor      wildfire  weddings        queer          ncaa   \n1  homesubmissions      meatless    brides        lgbtq           nba   \n2        furniture        carbon     bride      lesbian     touchdown   \n3          pitches     elephants   wedding     bisexual    tournament   \n4           crafts        oceans     groom          gay        lebron   \n5      repurposing      seaworld    bridal        trans           mlb   \n6       decorating  conservation    grooms         lgbt           nfl   \n7           sprout      fracking  nuptials       rupaul  championship   \n8              diy     wildfires   planner  transgender   quarterback   \n9        appraises     pollution      knot   homophobia       playoff   \n\n      DIVORCE STYLE & BEAUTY FOOD & DRINK        TRAVEL     COMEDY  \\\n0     divorce  huffpoststyle      recipes  destinations      maher   \n1    divorced        fashion       recipe        hotels    colbert   \n2   divorcing      stylelist    cocktails      traveler     meyers   \n3  infidelity      middleton        baked     travelers      conan   \n4     blended         tumblr      dessert   attractions     trevor   \n5    cheating       wardrobe        salad       resorts      spoof   \n6     breakup         outfit        sauce       beaches       seth   \n7    divorces        outfits     desserts           tsa     fallon   \n8     alimony         makeup       cheese      getaways     kimmel   \n9        exes         runway       flavor        looney  comedians   \n\n       PARENTING  \n0  breastfeeding  \n1      parenting  \n2          mommy  \n3       toddlers  \n4        toddler  \n5     motherhood  \n6       darndest  \n7         parent  \n8           moms  \n9      nameberry  ",
      "text/html": "<div>\n<style scoped>\n    .dataframe tbody tr th:only-of-type {\n        vertical-align: middle;\n    }\n\n    .dataframe tbody tr th {\n        vertical-align: top;\n    }\n\n    .dataframe thead th {\n        text-align: right;\n    }\n</style>\n<table border=\"1\" class=\"dataframe\">\n  <thead>\n    <tr style=\"text-align: right;\">\n      <th></th>\n      <th>BLACK VOICES</th>\n      <th>HEALTHY LIVING</th>\n      <th>POLITICS</th>\n      <th>TECH</th>\n      <th>WORLD NEWS</th>\n      <th>HOME &amp; LIVING</th>\n      <th>GREEN</th>\n      <th>WEDDINGS</th>\n      <th>QUEER VOICES</th>\n      <th>SPORTS</th>\n      <th>DIVORCE</th>\n      <th>STYLE &amp; BEAUTY</th>\n      <th>FOOD &amp; DRINK</th>\n      <th>TRAVEL</th>\n      <th>COMEDY</th>\n      <th>PARENTING</th>\n    </tr>\n  </thead>\n  <tbody>\n    <tr>\n      <th>0</th>\n      <td>panther</td>\n      <td>gps</td>\n      <td>democrats</td>\n      <td>samsung</td>\n      <td>migrants</td>\n      <td>decor</td>\n      <td>wildfire</td>\n      <td>weddings</td>\n      <td>queer</td>\n      <td>ncaa</td>\n      <td>divorce</td>\n      <td>huffpoststyle</td>\n      <td>recipes</td>\n      <td>destinations</td>\n      <td>maher</td>\n      <td>breastfeeding</td>\n    </tr>\n    <tr>\n      <th>1</th>\n      <td>trayvon</td>\n      <td>workout</td>\n      <td>huffpollster</td>\n      <td>iphone</td>\n      <td>aleppo</td>\n      <td>homesubmissions</td>\n      <td>meatless</td>\n      <td>brides</td>\n      <td>lgbtq</td>\n      <td>nba</td>\n      <td>divorced</td>\n      <td>fashion</td>\n      <td>recipe</td>\n      <td>hotels</td>\n      <td>colbert</td>\n      <td>parenting</td>\n    </tr>\n    <tr>\n      <th>2</th>\n      <td>mlk</td>\n      <td>diabetes</td>\n      <td>sen</td>\n      <td>microsoft</td>\n      <td>rohingya</td>\n      <td>furniture</td>\n      <td>carbon</td>\n      <td>bride</td>\n      <td>lesbian</td>\n      <td>touchdown</td>\n      <td>divorcing</td>\n      <td>stylelist</td>\n      <td>cocktails</td>\n      <td>traveler</td>\n      <td>meyers</td>\n      <td>mommy</td>\n    </tr>\n    <tr>\n      <th>3</th>\n      <td>blacks</td>\n      <td>workouts</td>\n      <td>democrat</td>\n      <td>unconfirmed</td>\n      <td>mosul</td>\n      <td>pitches</td>\n      <td>elephants</td>\n      <td>wedding</td>\n      <td>bisexual</td>\n      <td>tournament</td>\n      <td>infidelity</td>\n      <td>middleton</td>\n      <td>baked</td>\n      <td>travelers</td>\n      <td>conan</td>\n      <td>toddlers</td>\n    </tr>\n    <tr>\n      <th>4</th>\n      <td>philando</td>\n      <td>fitness</td>\n      <td>senate</td>\n      <td>android</td>\n      <td>referendum</td>\n      <td>crafts</td>\n      <td>oceans</td>\n      <td>groom</td>\n      <td>gay</td>\n      <td>lebron</td>\n      <td>blended</td>\n      <td>tumblr</td>\n      <td>dessert</td>\n      <td>attractions</td>\n      <td>trevor</td>\n      <td>toddler</td>\n    </tr>\n    <tr>\n      <th>5</th>\n      <td>black</td>\n      <td>strain</td>\n      <td>republicans</td>\n      <td>apple</td>\n      <td>rebels</td>\n      <td>repurposing</td>\n      <td>seaworld</td>\n      <td>bridal</td>\n      <td>trans</td>\n      <td>mlb</td>\n      <td>cheating</td>\n      <td>wardrobe</td>\n      <td>salad</td>\n      <td>resorts</td>\n      <td>spoof</td>\n      <td>motherhood</td>\n    </tr>\n    <tr>\n      <th>6</th>\n      <td>luther</td>\n      <td>mindfulness</td>\n      <td>rubio</td>\n      <td>google</td>\n      <td>myanmar</td>\n      <td>decorating</td>\n      <td>conservation</td>\n      <td>grooms</td>\n      <td>lgbt</td>\n      <td>nfl</td>\n      <td>breakup</td>\n      <td>outfit</td>\n      <td>sauce</td>\n      <td>beaches</td>\n      <td>seth</td>\n      <td>darndest</td>\n    </tr>\n    <tr>\n      <th>7</th>\n      <td>castile</td>\n      <td>exercise</td>\n      <td>marco</td>\n      <td>ios</td>\n      <td>ceasefire</td>\n      <td>sprout</td>\n      <td>fracking</td>\n      <td>nuptials</td>\n      <td>rupaul</td>\n      <td>championship</td>\n      <td>divorces</td>\n      <td>outfits</td>\n      <td>desserts</td>\n      <td>tsa</td>\n      <td>fallon</td>\n      <td>parent</td>\n    </tr>\n    <tr>\n      <th>8</th>\n      <td>duvernay</td>\n      <td>fearless</td>\n      <td>mcconnell</td>\n      <td>iphones</td>\n      <td>minister</td>\n      <td>diy</td>\n      <td>wildfires</td>\n      <td>planner</td>\n      <td>transgender</td>\n      <td>quarterback</td>\n      <td>alimony</td>\n      <td>makeup</td>\n      <td>cheese</td>\n      <td>getaways</td>\n      <td>kimmel</td>\n      <td>moms</td>\n    </tr>\n    <tr>\n      <th>9</th>\n      <td>hbcu</td>\n      <td>chronic</td>\n      <td>senator</td>\n      <td>encryption</td>\n      <td>militants</td>\n      <td>appraises</td>\n      <td>pollution</td>\n      <td>knot</td>\n      <td>homophobia</td>\n      <td>playoff</td>\n      <td>exes</td>\n      <td>runway</td>\n      <td>flavor</td>\n      <td>looney</td>\n      <td>comedians</td>\n      <td>nameberry</td>\n    </tr>\n  </tbody>\n</table>\n</div>"
     },
     "execution_count": 30,
     "metadata": {},
     "output_type": "execute_result"
    }
   ]
  },
  {
   "cell_type": "code",
   "source": [
    "top_words_df.iloc[:10,16:]"
   ],
   "metadata": {
    "trusted": true,
    "colab": {
     "base_uri": "https://localhost:8080/",
     "height": 363
    },
    "id": "HeyBfI7tXL_W",
    "outputId": "bc5baaf0-2305-4ddf-a7ce-acf17271a384"
   },
   "execution_count": 31,
   "outputs": [
    {
     "data": {
      "text/plain": "         IMPACT ENTERTAINMENT ARTS & CULTURE   GOOD NEWS ENVIRONMENT  \\\n0  homelessness       trailer      imageblog         pup     networx   \n1      homeless        teaser     exhibition        pups       sands   \n2     charities       thrones      paintings         pit     tornado   \n3         aspen         swift        nighter        bull      animal   \n4    nonprofits        grande        theatre     kittens         tar   \n5    charitable         album          opera  prosthetic       sloth   \n6      maternal      reynolds         ballet   paralyzed       spill   \n7   trafficking         khloe         canvas     bulldog    keystone   \n8     nonprofit        ariana      portraits     amputee       panda   \n9    mutilation        sequel        gallery    selfless     species   \n\n          BUSINESS      WOMEN       COLLEGE     RELIGION      CRIME  \\\n0          krugman   succinct    fraternity      bishops    fatally   \n1        investors   feminism          frat      francis    suspect   \n2        marketing   feminist      colleges         pope    shooter   \n3         jpmorgan   brighten  universities   interfaith     gunman   \n4         managers    steinem       faculty      prayers   tsarnaev   \n5          startup   funniest        campus       bishop    manhunt   \n6         startups      metoo         grads        jesus   stabbing   \n7            tesla     sexism      campuses     catholic    stabbed   \n8        marketers       slut           uva   christians  allegedly   \n9  entrepreneurial  feminists    professors  maintaining     inmate   \n\n           FIFTY LATINO VOICES        MEDIA      SCIENCE     MONEY WEIRD NEWS  \\\n0         boomer        latina       gawker         nasa    credit       fark   \n1        boomers        latino   journalism   spacecraft   prepaid        ufo   \n2        midlife       latinos        msnbc  astronomers   lottery   squirrel   \n3     retirement       latinas     newsroom        rover   savings      snake   \n4          aging       ferrera  advertisers    telescope  mortgage      pooch   \n5      menopause       shakira  journalists      planets    refund   kangaroo   \n6  grandchildren          afro       reilly     asteroid  expenses   burglary   \n7      grandkids      hispanic      hannity   astronauts   jackpot  alligator   \n8       retirees     rodriguez      jazeera         mars  finances  hydraulic   \n9         retire     despacito      murdoch    astronaut       irs        mph   \n\n      EDUCATION  \n0       charter  \n1     classroom  \n2      teachers  \n3     education  \n4     educators  \n5     repayment  \n6   educational  \n7         devos  \n8      educator  \n9  standardized  ",
      "text/html": "<div>\n<style scoped>\n    .dataframe tbody tr th:only-of-type {\n        vertical-align: middle;\n    }\n\n    .dataframe tbody tr th {\n        vertical-align: top;\n    }\n\n    .dataframe thead th {\n        text-align: right;\n    }\n</style>\n<table border=\"1\" class=\"dataframe\">\n  <thead>\n    <tr style=\"text-align: right;\">\n      <th></th>\n      <th>IMPACT</th>\n      <th>ENTERTAINMENT</th>\n      <th>ARTS &amp; CULTURE</th>\n      <th>GOOD NEWS</th>\n      <th>ENVIRONMENT</th>\n      <th>BUSINESS</th>\n      <th>WOMEN</th>\n      <th>COLLEGE</th>\n      <th>RELIGION</th>\n      <th>CRIME</th>\n      <th>FIFTY</th>\n      <th>LATINO VOICES</th>\n      <th>MEDIA</th>\n      <th>SCIENCE</th>\n      <th>MONEY</th>\n      <th>WEIRD NEWS</th>\n      <th>EDUCATION</th>\n    </tr>\n  </thead>\n  <tbody>\n    <tr>\n      <th>0</th>\n      <td>homelessness</td>\n      <td>trailer</td>\n      <td>imageblog</td>\n      <td>pup</td>\n      <td>networx</td>\n      <td>krugman</td>\n      <td>succinct</td>\n      <td>fraternity</td>\n      <td>bishops</td>\n      <td>fatally</td>\n      <td>boomer</td>\n      <td>latina</td>\n      <td>gawker</td>\n      <td>nasa</td>\n      <td>credit</td>\n      <td>fark</td>\n      <td>charter</td>\n    </tr>\n    <tr>\n      <th>1</th>\n      <td>homeless</td>\n      <td>teaser</td>\n      <td>exhibition</td>\n      <td>pups</td>\n      <td>sands</td>\n      <td>investors</td>\n      <td>feminism</td>\n      <td>frat</td>\n      <td>francis</td>\n      <td>suspect</td>\n      <td>boomers</td>\n      <td>latino</td>\n      <td>journalism</td>\n      <td>spacecraft</td>\n      <td>prepaid</td>\n      <td>ufo</td>\n      <td>classroom</td>\n    </tr>\n    <tr>\n      <th>2</th>\n      <td>charities</td>\n      <td>thrones</td>\n      <td>paintings</td>\n      <td>pit</td>\n      <td>tornado</td>\n      <td>marketing</td>\n      <td>feminist</td>\n      <td>colleges</td>\n      <td>pope</td>\n      <td>shooter</td>\n      <td>midlife</td>\n      <td>latinos</td>\n      <td>msnbc</td>\n      <td>astronomers</td>\n      <td>lottery</td>\n      <td>squirrel</td>\n      <td>teachers</td>\n    </tr>\n    <tr>\n      <th>3</th>\n      <td>aspen</td>\n      <td>swift</td>\n      <td>nighter</td>\n      <td>bull</td>\n      <td>animal</td>\n      <td>jpmorgan</td>\n      <td>brighten</td>\n      <td>universities</td>\n      <td>interfaith</td>\n      <td>gunman</td>\n      <td>retirement</td>\n      <td>latinas</td>\n      <td>newsroom</td>\n      <td>rover</td>\n      <td>savings</td>\n      <td>snake</td>\n      <td>education</td>\n    </tr>\n    <tr>\n      <th>4</th>\n      <td>nonprofits</td>\n      <td>grande</td>\n      <td>theatre</td>\n      <td>kittens</td>\n      <td>tar</td>\n      <td>managers</td>\n      <td>steinem</td>\n      <td>faculty</td>\n      <td>prayers</td>\n      <td>tsarnaev</td>\n      <td>aging</td>\n      <td>ferrera</td>\n      <td>advertisers</td>\n      <td>telescope</td>\n      <td>mortgage</td>\n      <td>pooch</td>\n      <td>educators</td>\n    </tr>\n    <tr>\n      <th>5</th>\n      <td>charitable</td>\n      <td>album</td>\n      <td>opera</td>\n      <td>prosthetic</td>\n      <td>sloth</td>\n      <td>startup</td>\n      <td>funniest</td>\n      <td>campus</td>\n      <td>bishop</td>\n      <td>manhunt</td>\n      <td>menopause</td>\n      <td>shakira</td>\n      <td>journalists</td>\n      <td>planets</td>\n      <td>refund</td>\n      <td>kangaroo</td>\n      <td>repayment</td>\n    </tr>\n    <tr>\n      <th>6</th>\n      <td>maternal</td>\n      <td>reynolds</td>\n      <td>ballet</td>\n      <td>paralyzed</td>\n      <td>spill</td>\n      <td>startups</td>\n      <td>metoo</td>\n      <td>grads</td>\n      <td>jesus</td>\n      <td>stabbing</td>\n      <td>grandchildren</td>\n      <td>afro</td>\n      <td>reilly</td>\n      <td>asteroid</td>\n      <td>expenses</td>\n      <td>burglary</td>\n      <td>educational</td>\n    </tr>\n    <tr>\n      <th>7</th>\n      <td>trafficking</td>\n      <td>khloe</td>\n      <td>canvas</td>\n      <td>bulldog</td>\n      <td>keystone</td>\n      <td>tesla</td>\n      <td>sexism</td>\n      <td>campuses</td>\n      <td>catholic</td>\n      <td>stabbed</td>\n      <td>grandkids</td>\n      <td>hispanic</td>\n      <td>hannity</td>\n      <td>astronauts</td>\n      <td>jackpot</td>\n      <td>alligator</td>\n      <td>devos</td>\n    </tr>\n    <tr>\n      <th>8</th>\n      <td>nonprofit</td>\n      <td>ariana</td>\n      <td>portraits</td>\n      <td>amputee</td>\n      <td>panda</td>\n      <td>marketers</td>\n      <td>slut</td>\n      <td>uva</td>\n      <td>christians</td>\n      <td>allegedly</td>\n      <td>retirees</td>\n      <td>rodriguez</td>\n      <td>jazeera</td>\n      <td>mars</td>\n      <td>finances</td>\n      <td>hydraulic</td>\n      <td>educator</td>\n    </tr>\n    <tr>\n      <th>9</th>\n      <td>mutilation</td>\n      <td>sequel</td>\n      <td>gallery</td>\n      <td>selfless</td>\n      <td>species</td>\n      <td>entrepreneurial</td>\n      <td>feminists</td>\n      <td>professors</td>\n      <td>maintaining</td>\n      <td>inmate</td>\n      <td>retire</td>\n      <td>despacito</td>\n      <td>murdoch</td>\n      <td>astronaut</td>\n      <td>irs</td>\n      <td>mph</td>\n      <td>standardized</td>\n    </tr>\n  </tbody>\n</table>\n</div>"
     },
     "execution_count": 31,
     "metadata": {},
     "output_type": "execute_result"
    }
   ]
  }
 ]
}