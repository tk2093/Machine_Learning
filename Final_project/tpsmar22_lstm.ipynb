{
  "metadata": {
    "kernelspec": {
      "language": "python",
      "display_name": "Python 3",
      "name": "python3"
    },
    "language_info": {
      "name": "python",
      "version": "3.7.12",
      "mimetype": "text/x-python",
      "codemirror_mode": {
        "name": "ipython",
        "version": 3
      },
      "pygments_lexer": "ipython3",
      "nbconvert_exporter": "python",
      "file_extension": ".py"
    },
    "colab": {
      "name": "tpsmar22-lstm.ipynb",
      "provenance": []
    }
  },
  "nbformat_minor": 0,
  "nbformat": 4,
  "cells": [
    {
      "cell_type": "code",
      "source": [
        "import numpy as np\n",
        "import matplotlib.pyplot as plt\n",
        "import pandas as pd\n",
        "import random\n",
        "import os\n",
        "from datetime import datetime\n",
        "from functools import reduce\n",
        "from sklearn.preprocessing import MinMaxScaler\n",
        "from sklearn.metrics import mean_absolute_error as mae, mean_squared_error\n",
        "import tensorflow as tf\n",
        "from tensorflow import keras\n",
        "from tensorflow.keras.models import Sequential\n",
        "from tensorflow.keras.layers import LSTM, Dense, Dropout, TimeDistributed, Conv1D, MaxPooling1D, Flatten, Bidirectional, Input, Flatten, Activation, Reshape, RepeatVector, Concatenate\n",
        "from tensorflow.keras.models import Model\n",
        "from tensorflow.keras.utils import plot_model\n",
        "from tensorflow.keras.callbacks import EarlyStopping, ReduceLROnPlateau, ModelCheckpoint"
      ],
      "metadata": {
        "_uuid": "8f2839f25d086af736a60e9eeb907d3b93b6e0e5",
        "_cell_guid": "b1076dfc-b9ad-4769-8c92-a6c4dae69d19",
        "execution": {
          "iopub.status.busy": "2022-04-30T05:03:25.702529Z",
          "iopub.execute_input": "2022-04-30T05:03:25.702844Z",
          "iopub.status.idle": "2022-04-30T05:03:31.543453Z",
          "shell.execute_reply.started": "2022-04-30T05:03:25.702763Z",
          "shell.execute_reply": "2022-04-30T05:03:31.542689Z"
        },
        "trusted": true,
        "id": "T7OktAZpbEE4"
      },
      "execution_count": null,
      "outputs": []
    },
    {
      "cell_type": "code",
      "source": [
        "sess = tf.compat.v1.Session(config=tf.compat.v1.ConfigProto(log_device_placement=True))\n",
        "print(\"Num GPUs Available: \", len(tf.config.list_physical_devices('GPU')))"
      ],
      "metadata": {
        "execution": {
          "iopub.status.busy": "2022-04-30T05:03:31.544996Z",
          "iopub.execute_input": "2022-04-30T05:03:31.545266Z",
          "iopub.status.idle": "2022-04-30T05:03:33.688953Z",
          "shell.execute_reply.started": "2022-04-30T05:03:31.545224Z",
          "shell.execute_reply": "2022-04-30T05:03:33.688121Z"
        },
        "trusted": true,
        "id": "6U-5SgYdbEE-",
        "outputId": "514a1618-b941-4fe9-fced-4d3a9690ca6c"
      },
      "execution_count": null,
      "outputs": [
        {
          "name": "stderr",
          "text": "2022-04-30 05:03:31.555579: I tensorflow/core/platform/cpu_feature_guard.cc:142] This TensorFlow binary is optimized with oneAPI Deep Neural Network Library (oneDNN) to use the following CPU instructions in performance-critical operations:  AVX2 AVX512F FMA\nTo enable them in other operations, rebuild TensorFlow with the appropriate compiler flags.\n2022-04-30 05:03:31.618903: I tensorflow/stream_executor/cuda/cuda_gpu_executor.cc:937] successful NUMA node read from SysFS had negative value (-1), but there must be at least one NUMA node, so returning NUMA node zero\n2022-04-30 05:03:31.707073: I tensorflow/stream_executor/cuda/cuda_gpu_executor.cc:937] successful NUMA node read from SysFS had negative value (-1), but there must be at least one NUMA node, so returning NUMA node zero\n2022-04-30 05:03:31.708281: I tensorflow/stream_executor/cuda/cuda_gpu_executor.cc:937] successful NUMA node read from SysFS had negative value (-1), but there must be at least one NUMA node, so returning NUMA node zero\n",
          "output_type": "stream"
        },
        {
          "name": "stdout",
          "text": "Device mapping:\n/job:localhost/replica:0/task:0/device:GPU:0 -> device: 0, name: Tesla P100-PCIE-16GB, pci bus id: 0000:00:04.0, compute capability: 6.0\n\nNum GPUs Available:  1\n",
          "output_type": "stream"
        },
        {
          "name": "stderr",
          "text": "2022-04-30 05:03:33.667085: I tensorflow/stream_executor/cuda/cuda_gpu_executor.cc:937] successful NUMA node read from SysFS had negative value (-1), but there must be at least one NUMA node, so returning NUMA node zero\n2022-04-30 05:03:33.668682: I tensorflow/stream_executor/cuda/cuda_gpu_executor.cc:937] successful NUMA node read from SysFS had negative value (-1), but there must be at least one NUMA node, so returning NUMA node zero\n2022-04-30 05:03:33.670076: I tensorflow/stream_executor/cuda/cuda_gpu_executor.cc:937] successful NUMA node read from SysFS had negative value (-1), but there must be at least one NUMA node, so returning NUMA node zero\n2022-04-30 05:03:33.671955: I tensorflow/core/common_runtime/gpu/gpu_device.cc:1510] Created device /job:localhost/replica:0/task:0/device:GPU:0 with 15403 MB memory:  -> device: 0, name: Tesla P100-PCIE-16GB, pci bus id: 0000:00:04.0, compute capability: 6.0\n2022-04-30 05:03:33.678253: I tensorflow/stream_executor/cuda/cuda_gpu_executor.cc:937] successful NUMA node read from SysFS had negative value (-1), but there must be at least one NUMA node, so returning NUMA node zero\n2022-04-30 05:03:33.679400: I tensorflow/stream_executor/cuda/cuda_gpu_executor.cc:937] successful NUMA node read from SysFS had negative value (-1), but there must be at least one NUMA node, so returning NUMA node zero\n2022-04-30 05:03:33.680469: I tensorflow/stream_executor/cuda/cuda_gpu_executor.cc:937] successful NUMA node read from SysFS had negative value (-1), but there must be at least one NUMA node, so returning NUMA node zero\n",
          "output_type": "stream"
        }
      ]
    },
    {
      "cell_type": "code",
      "source": [
        "train_df = pd.read_csv('../input/tabular-playground-series-mar-2022/train.csv', parse_dates=[\"time\"])\n",
        "test_df = pd.read_csv('../input/tabular-playground-series-mar-2022/test.csv', parse_dates=[\"time\"])\n",
        "train_df.dropna(inplace = True)\n",
        "test_df.dropna(inplace = True)"
      ],
      "metadata": {
        "execution": {
          "iopub.status.busy": "2022-04-30T05:03:33.690118Z",
          "iopub.execute_input": "2022-04-30T05:03:33.690397Z",
          "iopub.status.idle": "2022-04-30T05:03:34.706845Z",
          "shell.execute_reply.started": "2022-04-30T05:03:33.690362Z",
          "shell.execute_reply": "2022-04-30T05:03:34.706113Z"
        },
        "trusted": true,
        "id": "m8QUxWAXbEFB"
      },
      "execution_count": null,
      "outputs": []
    },
    {
      "cell_type": "code",
      "source": [
        "train_df.info()"
      ],
      "metadata": {
        "execution": {
          "iopub.status.busy": "2022-04-29T03:53:00.616933Z",
          "iopub.execute_input": "2022-04-29T03:53:00.617273Z",
          "iopub.status.idle": "2022-04-29T03:53:00.740176Z",
          "shell.execute_reply.started": "2022-04-29T03:53:00.617241Z",
          "shell.execute_reply": "2022-04-29T03:53:00.739041Z"
        },
        "trusted": true,
        "id": "NefjHGI7bEFC"
      },
      "execution_count": null,
      "outputs": []
    },
    {
      "cell_type": "code",
      "source": [
        "train_df"
      ],
      "metadata": {
        "execution": {
          "iopub.status.busy": "2022-04-30T04:19:13.473496Z",
          "iopub.execute_input": "2022-04-30T04:19:13.473767Z",
          "iopub.status.idle": "2022-04-30T04:19:13.491775Z",
          "shell.execute_reply.started": "2022-04-30T04:19:13.473738Z",
          "shell.execute_reply": "2022-04-30T04:19:13.490747Z"
        },
        "trusted": true,
        "id": "hN3D_jVtbEFD",
        "outputId": "c6d2c14e-56a5-444c-b711-81db9a2b7286"
      },
      "execution_count": null,
      "outputs": [
        {
          "execution_count": 4,
          "output_type": "execute_result",
          "data": {
            "text/plain": "        row_id                time  x  y direction  congestion\n0            0 1991-04-01 00:00:00  0  0        EB          70\n1            1 1991-04-01 00:00:00  0  0        NB          49\n2            2 1991-04-01 00:00:00  0  0        SB          24\n3            3 1991-04-01 00:00:00  0  1        EB          18\n4            4 1991-04-01 00:00:00  0  1        NB          60\n...        ...                 ... .. ..       ...         ...\n848830  848830 1991-09-30 11:40:00  2  3        NB          54\n848831  848831 1991-09-30 11:40:00  2  3        NE          28\n848832  848832 1991-09-30 11:40:00  2  3        SB          68\n848833  848833 1991-09-30 11:40:00  2  3        SW          17\n848834  848834 1991-09-30 11:40:00  2  3        WB          24\n\n[848835 rows x 6 columns]",
            "text/html": "<div>\n<style scoped>\n    .dataframe tbody tr th:only-of-type {\n        vertical-align: middle;\n    }\n\n    .dataframe tbody tr th {\n        vertical-align: top;\n    }\n\n    .dataframe thead th {\n        text-align: right;\n    }\n</style>\n<table border=\"1\" class=\"dataframe\">\n  <thead>\n    <tr style=\"text-align: right;\">\n      <th></th>\n      <th>row_id</th>\n      <th>time</th>\n      <th>x</th>\n      <th>y</th>\n      <th>direction</th>\n      <th>congestion</th>\n    </tr>\n  </thead>\n  <tbody>\n    <tr>\n      <th>0</th>\n      <td>0</td>\n      <td>1991-04-01 00:00:00</td>\n      <td>0</td>\n      <td>0</td>\n      <td>EB</td>\n      <td>70</td>\n    </tr>\n    <tr>\n      <th>1</th>\n      <td>1</td>\n      <td>1991-04-01 00:00:00</td>\n      <td>0</td>\n      <td>0</td>\n      <td>NB</td>\n      <td>49</td>\n    </tr>\n    <tr>\n      <th>2</th>\n      <td>2</td>\n      <td>1991-04-01 00:00:00</td>\n      <td>0</td>\n      <td>0</td>\n      <td>SB</td>\n      <td>24</td>\n    </tr>\n    <tr>\n      <th>3</th>\n      <td>3</td>\n      <td>1991-04-01 00:00:00</td>\n      <td>0</td>\n      <td>1</td>\n      <td>EB</td>\n      <td>18</td>\n    </tr>\n    <tr>\n      <th>4</th>\n      <td>4</td>\n      <td>1991-04-01 00:00:00</td>\n      <td>0</td>\n      <td>1</td>\n      <td>NB</td>\n      <td>60</td>\n    </tr>\n    <tr>\n      <th>...</th>\n      <td>...</td>\n      <td>...</td>\n      <td>...</td>\n      <td>...</td>\n      <td>...</td>\n      <td>...</td>\n    </tr>\n    <tr>\n      <th>848830</th>\n      <td>848830</td>\n      <td>1991-09-30 11:40:00</td>\n      <td>2</td>\n      <td>3</td>\n      <td>NB</td>\n      <td>54</td>\n    </tr>\n    <tr>\n      <th>848831</th>\n      <td>848831</td>\n      <td>1991-09-30 11:40:00</td>\n      <td>2</td>\n      <td>3</td>\n      <td>NE</td>\n      <td>28</td>\n    </tr>\n    <tr>\n      <th>848832</th>\n      <td>848832</td>\n      <td>1991-09-30 11:40:00</td>\n      <td>2</td>\n      <td>3</td>\n      <td>SB</td>\n      <td>68</td>\n    </tr>\n    <tr>\n      <th>848833</th>\n      <td>848833</td>\n      <td>1991-09-30 11:40:00</td>\n      <td>2</td>\n      <td>3</td>\n      <td>SW</td>\n      <td>17</td>\n    </tr>\n    <tr>\n      <th>848834</th>\n      <td>848834</td>\n      <td>1991-09-30 11:40:00</td>\n      <td>2</td>\n      <td>3</td>\n      <td>WB</td>\n      <td>24</td>\n    </tr>\n  </tbody>\n</table>\n<p>848835 rows × 6 columns</p>\n</div>"
          },
          "metadata": {}
        }
      ]
    },
    {
      "cell_type": "code",
      "source": [
        "train_pv = train_df.pivot(index=['time'], columns=['x', 'y', 'direction'], values= 'congestion')\n",
        "train_pv"
      ],
      "metadata": {
        "execution": {
          "iopub.status.busy": "2022-04-30T05:03:40.959835Z",
          "iopub.execute_input": "2022-04-30T05:03:40.960092Z",
          "iopub.status.idle": "2022-04-30T05:03:41.249427Z",
          "shell.execute_reply.started": "2022-04-30T05:03:40.960065Z",
          "shell.execute_reply": "2022-04-30T05:03:41.248724Z"
        },
        "trusted": true,
        "id": "DTyNpiEQbEFF",
        "outputId": "6773c658-ab66-4ae0-d64c-10137bdf2a0c"
      },
      "execution_count": null,
      "outputs": [
        {
          "execution_count": 4,
          "output_type": "execute_result",
          "data": {
            "text/plain": "x                     0                                      ...   2          \\\ny                     0           1               2          ...   2           \ndirection            EB  NB  SB  EB  NB  SB  WB  EB  NB  SB  ...  SB  SE  SW   \ntime                                                         ...               \n1991-04-01 00:00:00  70  49  24  18  60  58  26  31  49  46  ...  36  51  47   \n1991-04-01 00:20:00  70  49  24  26  64  55  57  41  40  46  ...  10  51  50   \n1991-04-01 00:40:00  70  49  24  31  51  57  91  42  41  35  ...  32  51  49   \n1991-04-01 01:00:00  70  49  24  36  51  46  49  39  44  58  ...  60  51  49   \n1991-04-01 01:20:00  70  49  24  29  53  83  62  36  46  46  ...  43  51  49   \n...                  ..  ..  ..  ..  ..  ..  ..  ..  ..  ..  ...  ..  ..  ..   \n1991-09-30 10:20:00  43  29  60  23  63  61  42  47  51  56  ...  66  20  50   \n1991-09-30 10:40:00  47  28  35  24  62  63  32  44  57  65  ...  60  21  49   \n1991-09-30 11:00:00  40  31  53  22  65  58  38  44  60  62  ...  58  27  53   \n1991-09-30 11:20:00  52  36  59  35  67  54  26  44  59  57  ...  52  20  53   \n1991-09-30 11:40:00  70  40  51  24  65  52  42  43  62  77  ...  64  40  51   \n\nx                                                \ny                         3                      \ndirection            WB  EB  NB  NE  SB  SW  WB  \ntime                                             \n1991-04-01 00:00:00  51  39  64  30  70  29  26  \n1991-04-01 00:20:00  58  33  67  30  80  29  57  \n1991-04-01 00:40:00  63  33  64  30  79  29  48  \n1991-04-01 01:00:00  52  33  33  30  77  29  44  \n1991-04-01 01:20:00  50  33  50  30  79  29  44  \n...                  ..  ..  ..  ..  ..  ..  ..  \n1991-09-30 10:20:00  70  90  53  29  68  22  49  \n1991-09-30 10:40:00  68  45  52  25  70  20  47  \n1991-09-30 11:00:00  68  44  58  29  69  19  37  \n1991-09-30 11:20:00  67  57  59  22  69  22  53  \n1991-09-30 11:40:00  71  48  54  28  68  17  24  \n\n[13059 rows x 65 columns]",
            "text/html": "<div>\n<style scoped>\n    .dataframe tbody tr th:only-of-type {\n        vertical-align: middle;\n    }\n\n    .dataframe tbody tr th {\n        vertical-align: top;\n    }\n\n    .dataframe thead tr th {\n        text-align: left;\n    }\n\n    .dataframe thead tr:last-of-type th {\n        text-align: right;\n    }\n</style>\n<table border=\"1\" class=\"dataframe\">\n  <thead>\n    <tr>\n      <th>x</th>\n      <th colspan=\"10\" halign=\"left\">0</th>\n      <th>...</th>\n      <th colspan=\"10\" halign=\"left\">2</th>\n    </tr>\n    <tr>\n      <th>y</th>\n      <th colspan=\"3\" halign=\"left\">0</th>\n      <th colspan=\"4\" halign=\"left\">1</th>\n      <th colspan=\"3\" halign=\"left\">2</th>\n      <th>...</th>\n      <th colspan=\"4\" halign=\"left\">2</th>\n      <th colspan=\"6\" halign=\"left\">3</th>\n    </tr>\n    <tr>\n      <th>direction</th>\n      <th>EB</th>\n      <th>NB</th>\n      <th>SB</th>\n      <th>EB</th>\n      <th>NB</th>\n      <th>SB</th>\n      <th>WB</th>\n      <th>EB</th>\n      <th>NB</th>\n      <th>SB</th>\n      <th>...</th>\n      <th>SB</th>\n      <th>SE</th>\n      <th>SW</th>\n      <th>WB</th>\n      <th>EB</th>\n      <th>NB</th>\n      <th>NE</th>\n      <th>SB</th>\n      <th>SW</th>\n      <th>WB</th>\n    </tr>\n    <tr>\n      <th>time</th>\n      <th></th>\n      <th></th>\n      <th></th>\n      <th></th>\n      <th></th>\n      <th></th>\n      <th></th>\n      <th></th>\n      <th></th>\n      <th></th>\n      <th></th>\n      <th></th>\n      <th></th>\n      <th></th>\n      <th></th>\n      <th></th>\n      <th></th>\n      <th></th>\n      <th></th>\n      <th></th>\n      <th></th>\n    </tr>\n  </thead>\n  <tbody>\n    <tr>\n      <th>1991-04-01 00:00:00</th>\n      <td>70</td>\n      <td>49</td>\n      <td>24</td>\n      <td>18</td>\n      <td>60</td>\n      <td>58</td>\n      <td>26</td>\n      <td>31</td>\n      <td>49</td>\n      <td>46</td>\n      <td>...</td>\n      <td>36</td>\n      <td>51</td>\n      <td>47</td>\n      <td>51</td>\n      <td>39</td>\n      <td>64</td>\n      <td>30</td>\n      <td>70</td>\n      <td>29</td>\n      <td>26</td>\n    </tr>\n    <tr>\n      <th>1991-04-01 00:20:00</th>\n      <td>70</td>\n      <td>49</td>\n      <td>24</td>\n      <td>26</td>\n      <td>64</td>\n      <td>55</td>\n      <td>57</td>\n      <td>41</td>\n      <td>40</td>\n      <td>46</td>\n      <td>...</td>\n      <td>10</td>\n      <td>51</td>\n      <td>50</td>\n      <td>58</td>\n      <td>33</td>\n      <td>67</td>\n      <td>30</td>\n      <td>80</td>\n      <td>29</td>\n      <td>57</td>\n    </tr>\n    <tr>\n      <th>1991-04-01 00:40:00</th>\n      <td>70</td>\n      <td>49</td>\n      <td>24</td>\n      <td>31</td>\n      <td>51</td>\n      <td>57</td>\n      <td>91</td>\n      <td>42</td>\n      <td>41</td>\n      <td>35</td>\n      <td>...</td>\n      <td>32</td>\n      <td>51</td>\n      <td>49</td>\n      <td>63</td>\n      <td>33</td>\n      <td>64</td>\n      <td>30</td>\n      <td>79</td>\n      <td>29</td>\n      <td>48</td>\n    </tr>\n    <tr>\n      <th>1991-04-01 01:00:00</th>\n      <td>70</td>\n      <td>49</td>\n      <td>24</td>\n      <td>36</td>\n      <td>51</td>\n      <td>46</td>\n      <td>49</td>\n      <td>39</td>\n      <td>44</td>\n      <td>58</td>\n      <td>...</td>\n      <td>60</td>\n      <td>51</td>\n      <td>49</td>\n      <td>52</td>\n      <td>33</td>\n      <td>33</td>\n      <td>30</td>\n      <td>77</td>\n      <td>29</td>\n      <td>44</td>\n    </tr>\n    <tr>\n      <th>1991-04-01 01:20:00</th>\n      <td>70</td>\n      <td>49</td>\n      <td>24</td>\n      <td>29</td>\n      <td>53</td>\n      <td>83</td>\n      <td>62</td>\n      <td>36</td>\n      <td>46</td>\n      <td>46</td>\n      <td>...</td>\n      <td>43</td>\n      <td>51</td>\n      <td>49</td>\n      <td>50</td>\n      <td>33</td>\n      <td>50</td>\n      <td>30</td>\n      <td>79</td>\n      <td>29</td>\n      <td>44</td>\n    </tr>\n    <tr>\n      <th>...</th>\n      <td>...</td>\n      <td>...</td>\n      <td>...</td>\n      <td>...</td>\n      <td>...</td>\n      <td>...</td>\n      <td>...</td>\n      <td>...</td>\n      <td>...</td>\n      <td>...</td>\n      <td>...</td>\n      <td>...</td>\n      <td>...</td>\n      <td>...</td>\n      <td>...</td>\n      <td>...</td>\n      <td>...</td>\n      <td>...</td>\n      <td>...</td>\n      <td>...</td>\n      <td>...</td>\n    </tr>\n    <tr>\n      <th>1991-09-30 10:20:00</th>\n      <td>43</td>\n      <td>29</td>\n      <td>60</td>\n      <td>23</td>\n      <td>63</td>\n      <td>61</td>\n      <td>42</td>\n      <td>47</td>\n      <td>51</td>\n      <td>56</td>\n      <td>...</td>\n      <td>66</td>\n      <td>20</td>\n      <td>50</td>\n      <td>70</td>\n      <td>90</td>\n      <td>53</td>\n      <td>29</td>\n      <td>68</td>\n      <td>22</td>\n      <td>49</td>\n    </tr>\n    <tr>\n      <th>1991-09-30 10:40:00</th>\n      <td>47</td>\n      <td>28</td>\n      <td>35</td>\n      <td>24</td>\n      <td>62</td>\n      <td>63</td>\n      <td>32</td>\n      <td>44</td>\n      <td>57</td>\n      <td>65</td>\n      <td>...</td>\n      <td>60</td>\n      <td>21</td>\n      <td>49</td>\n      <td>68</td>\n      <td>45</td>\n      <td>52</td>\n      <td>25</td>\n      <td>70</td>\n      <td>20</td>\n      <td>47</td>\n    </tr>\n    <tr>\n      <th>1991-09-30 11:00:00</th>\n      <td>40</td>\n      <td>31</td>\n      <td>53</td>\n      <td>22</td>\n      <td>65</td>\n      <td>58</td>\n      <td>38</td>\n      <td>44</td>\n      <td>60</td>\n      <td>62</td>\n      <td>...</td>\n      <td>58</td>\n      <td>27</td>\n      <td>53</td>\n      <td>68</td>\n      <td>44</td>\n      <td>58</td>\n      <td>29</td>\n      <td>69</td>\n      <td>19</td>\n      <td>37</td>\n    </tr>\n    <tr>\n      <th>1991-09-30 11:20:00</th>\n      <td>52</td>\n      <td>36</td>\n      <td>59</td>\n      <td>35</td>\n      <td>67</td>\n      <td>54</td>\n      <td>26</td>\n      <td>44</td>\n      <td>59</td>\n      <td>57</td>\n      <td>...</td>\n      <td>52</td>\n      <td>20</td>\n      <td>53</td>\n      <td>67</td>\n      <td>57</td>\n      <td>59</td>\n      <td>22</td>\n      <td>69</td>\n      <td>22</td>\n      <td>53</td>\n    </tr>\n    <tr>\n      <th>1991-09-30 11:40:00</th>\n      <td>70</td>\n      <td>40</td>\n      <td>51</td>\n      <td>24</td>\n      <td>65</td>\n      <td>52</td>\n      <td>42</td>\n      <td>43</td>\n      <td>62</td>\n      <td>77</td>\n      <td>...</td>\n      <td>64</td>\n      <td>40</td>\n      <td>51</td>\n      <td>71</td>\n      <td>48</td>\n      <td>54</td>\n      <td>28</td>\n      <td>68</td>\n      <td>17</td>\n      <td>24</td>\n    </tr>\n  </tbody>\n</table>\n<p>13059 rows × 65 columns</p>\n</div>"
          },
          "metadata": {}
        }
      ]
    },
    {
      "cell_type": "code",
      "source": [
        "full_data = pd.DataFrame(pd.date_range('1991-04-01 00:00:00', '1991-09-30 11:40:00', freq='20Min'), columns=['time'])\n",
        "full_data.index = full_data['time']\n",
        "full_data.columns = pd.MultiIndex.from_product([full_data.columns, [''],['']])"
      ],
      "metadata": {
        "execution": {
          "iopub.status.busy": "2022-04-30T05:03:43.268010Z",
          "iopub.execute_input": "2022-04-30T05:03:43.268563Z",
          "iopub.status.idle": "2022-04-30T05:03:43.277139Z",
          "shell.execute_reply.started": "2022-04-30T05:03:43.268523Z",
          "shell.execute_reply": "2022-04-30T05:03:43.276255Z"
        },
        "trusted": true,
        "id": "6ZT_QNnPbEFH"
      },
      "execution_count": null,
      "outputs": []
    },
    {
      "cell_type": "code",
      "source": [
        "full_train_pv = pd.merge(train_pv,full_data,how='outer', left_index=True, right_index=True)\n",
        "full_train_pv.drop('time',axis=1,inplace=True)"
      ],
      "metadata": {
        "execution": {
          "iopub.status.busy": "2022-04-30T05:03:46.147242Z",
          "iopub.execute_input": "2022-04-30T05:03:46.147810Z",
          "iopub.status.idle": "2022-04-30T05:03:46.172895Z",
          "shell.execute_reply.started": "2022-04-30T05:03:46.147759Z",
          "shell.execute_reply": "2022-04-30T05:03:46.172097Z"
        },
        "trusted": true,
        "id": "t9jk4VOLbEFK"
      },
      "execution_count": null,
      "outputs": []
    },
    {
      "cell_type": "markdown",
      "source": [
        "Imputing Null values"
      ],
      "metadata": {
        "id": "_wiYJSSFbEFM"
      }
    },
    {
      "cell_type": "code",
      "source": [
        "from sklearn.impute import SimpleImputer\n",
        "imp_mean = SimpleImputer(missing_values=np.nan, strategy='mean')\n",
        "imputed = imp_mean.fit_transform(full_train_pv)\n",
        "imputed_train = pd.DataFrame(imputed,columns=full_train_pv.columns,index=full_train_pv.index).astype(int)"
      ],
      "metadata": {
        "execution": {
          "iopub.status.busy": "2022-04-30T05:03:47.669906Z",
          "iopub.execute_input": "2022-04-30T05:03:47.670319Z",
          "iopub.status.idle": "2022-04-30T05:03:47.820375Z",
          "shell.execute_reply.started": "2022-04-30T05:03:47.670284Z",
          "shell.execute_reply": "2022-04-30T05:03:47.819515Z"
        },
        "trusted": true,
        "id": "24-XVxMybEFU",
        "outputId": "f0f08844-2d31-4129-b473-5465632d35be"
      },
      "execution_count": null,
      "outputs": [
        {
          "name": "stderr",
          "text": "/opt/conda/lib/python3.7/site-packages/sklearn/utils/validation.py:1692: FutureWarning: Feature names only support names that are all strings. Got feature names with dtypes: ['tuple']. An error will be raised in 1.2.\n  FutureWarning,\n/opt/conda/lib/python3.7/site-packages/sklearn/utils/validation.py:1692: FutureWarning: Feature names only support names that are all strings. Got feature names with dtypes: ['tuple']. An error will be raised in 1.2.\n  FutureWarning,\n",
          "output_type": "stream"
        }
      ]
    },
    {
      "cell_type": "code",
      "source": [
        "imputed_train"
      ],
      "metadata": {
        "execution": {
          "iopub.status.busy": "2022-04-30T04:25:22.031217Z",
          "iopub.execute_input": "2022-04-30T04:25:22.031488Z",
          "iopub.status.idle": "2022-04-30T04:25:22.066135Z",
          "shell.execute_reply.started": "2022-04-30T04:25:22.031460Z",
          "shell.execute_reply": "2022-04-30T04:25:22.065181Z"
        },
        "trusted": true,
        "id": "pxqwUhHYbEFW",
        "outputId": "c3c2a906-c356-49e8-a83d-2fffa69f5e32"
      },
      "execution_count": null,
      "outputs": [
        {
          "execution_count": 19,
          "output_type": "execute_result",
          "data": {
            "text/plain": "x                     0                                      ...   2          \\\ny                     0           1               2          ...   2           \ndirection            EB  NB  SB  EB  NB  SB  WB  EB  NB  SB  ...  SB  SE  SW   \ntime                                                         ...               \n1991-04-01 00:00:00  70  49  24  18  60  58  26  31  49  46  ...  36  51  47   \n1991-04-01 00:20:00  70  49  24  26  64  55  57  41  40  46  ...  10  51  50   \n1991-04-01 00:40:00  70  49  24  31  51  57  91  42  41  35  ...  32  51  49   \n1991-04-01 01:00:00  70  49  24  36  51  46  49  39  44  58  ...  60  51  49   \n1991-04-01 01:20:00  70  49  24  29  53  83  62  36  46  46  ...  43  51  49   \n...                  ..  ..  ..  ..  ..  ..  ..  ..  ..  ..  ...  ..  ..  ..   \n1991-09-30 10:20:00  43  29  60  23  63  61  42  47  51  56  ...  66  20  50   \n1991-09-30 10:40:00  47  28  35  24  62  63  32  44  57  65  ...  60  21  49   \n1991-09-30 11:00:00  40  31  53  22  65  58  38  44  60  62  ...  58  27  53   \n1991-09-30 11:20:00  52  36  59  35  67  54  26  44  59  57  ...  52  20  53   \n1991-09-30 11:40:00  70  40  51  24  65  52  42  43  62  77  ...  64  40  51   \n\nx                                                \ny                         3                      \ndirection            WB  EB  NB  NE  SB  SW  WB  \ntime                                             \n1991-04-01 00:00:00  51  39  64  30  70  29  26  \n1991-04-01 00:20:00  58  33  67  30  80  29  57  \n1991-04-01 00:40:00  63  33  64  30  79  29  48  \n1991-04-01 01:00:00  52  33  33  30  77  29  44  \n1991-04-01 01:20:00  50  33  50  30  79  29  44  \n...                  ..  ..  ..  ..  ..  ..  ..  \n1991-09-30 10:20:00  70  90  53  29  68  22  49  \n1991-09-30 10:40:00  68  45  52  25  70  20  47  \n1991-09-30 11:00:00  68  44  58  29  69  19  37  \n1991-09-30 11:20:00  67  57  59  22  69  22  53  \n1991-09-30 11:40:00  71  48  54  28  68  17  24  \n\n[13140 rows x 65 columns]",
            "text/html": "<div>\n<style scoped>\n    .dataframe tbody tr th:only-of-type {\n        vertical-align: middle;\n    }\n\n    .dataframe tbody tr th {\n        vertical-align: top;\n    }\n\n    .dataframe thead tr th {\n        text-align: left;\n    }\n\n    .dataframe thead tr:last-of-type th {\n        text-align: right;\n    }\n</style>\n<table border=\"1\" class=\"dataframe\">\n  <thead>\n    <tr>\n      <th>x</th>\n      <th colspan=\"10\" halign=\"left\">0</th>\n      <th>...</th>\n      <th colspan=\"10\" halign=\"left\">2</th>\n    </tr>\n    <tr>\n      <th>y</th>\n      <th colspan=\"3\" halign=\"left\">0</th>\n      <th colspan=\"4\" halign=\"left\">1</th>\n      <th colspan=\"3\" halign=\"left\">2</th>\n      <th>...</th>\n      <th colspan=\"4\" halign=\"left\">2</th>\n      <th colspan=\"6\" halign=\"left\">3</th>\n    </tr>\n    <tr>\n      <th>direction</th>\n      <th>EB</th>\n      <th>NB</th>\n      <th>SB</th>\n      <th>EB</th>\n      <th>NB</th>\n      <th>SB</th>\n      <th>WB</th>\n      <th>EB</th>\n      <th>NB</th>\n      <th>SB</th>\n      <th>...</th>\n      <th>SB</th>\n      <th>SE</th>\n      <th>SW</th>\n      <th>WB</th>\n      <th>EB</th>\n      <th>NB</th>\n      <th>NE</th>\n      <th>SB</th>\n      <th>SW</th>\n      <th>WB</th>\n    </tr>\n    <tr>\n      <th>time</th>\n      <th></th>\n      <th></th>\n      <th></th>\n      <th></th>\n      <th></th>\n      <th></th>\n      <th></th>\n      <th></th>\n      <th></th>\n      <th></th>\n      <th></th>\n      <th></th>\n      <th></th>\n      <th></th>\n      <th></th>\n      <th></th>\n      <th></th>\n      <th></th>\n      <th></th>\n      <th></th>\n      <th></th>\n    </tr>\n  </thead>\n  <tbody>\n    <tr>\n      <th>1991-04-01 00:00:00</th>\n      <td>70</td>\n      <td>49</td>\n      <td>24</td>\n      <td>18</td>\n      <td>60</td>\n      <td>58</td>\n      <td>26</td>\n      <td>31</td>\n      <td>49</td>\n      <td>46</td>\n      <td>...</td>\n      <td>36</td>\n      <td>51</td>\n      <td>47</td>\n      <td>51</td>\n      <td>39</td>\n      <td>64</td>\n      <td>30</td>\n      <td>70</td>\n      <td>29</td>\n      <td>26</td>\n    </tr>\n    <tr>\n      <th>1991-04-01 00:20:00</th>\n      <td>70</td>\n      <td>49</td>\n      <td>24</td>\n      <td>26</td>\n      <td>64</td>\n      <td>55</td>\n      <td>57</td>\n      <td>41</td>\n      <td>40</td>\n      <td>46</td>\n      <td>...</td>\n      <td>10</td>\n      <td>51</td>\n      <td>50</td>\n      <td>58</td>\n      <td>33</td>\n      <td>67</td>\n      <td>30</td>\n      <td>80</td>\n      <td>29</td>\n      <td>57</td>\n    </tr>\n    <tr>\n      <th>1991-04-01 00:40:00</th>\n      <td>70</td>\n      <td>49</td>\n      <td>24</td>\n      <td>31</td>\n      <td>51</td>\n      <td>57</td>\n      <td>91</td>\n      <td>42</td>\n      <td>41</td>\n      <td>35</td>\n      <td>...</td>\n      <td>32</td>\n      <td>51</td>\n      <td>49</td>\n      <td>63</td>\n      <td>33</td>\n      <td>64</td>\n      <td>30</td>\n      <td>79</td>\n      <td>29</td>\n      <td>48</td>\n    </tr>\n    <tr>\n      <th>1991-04-01 01:00:00</th>\n      <td>70</td>\n      <td>49</td>\n      <td>24</td>\n      <td>36</td>\n      <td>51</td>\n      <td>46</td>\n      <td>49</td>\n      <td>39</td>\n      <td>44</td>\n      <td>58</td>\n      <td>...</td>\n      <td>60</td>\n      <td>51</td>\n      <td>49</td>\n      <td>52</td>\n      <td>33</td>\n      <td>33</td>\n      <td>30</td>\n      <td>77</td>\n      <td>29</td>\n      <td>44</td>\n    </tr>\n    <tr>\n      <th>1991-04-01 01:20:00</th>\n      <td>70</td>\n      <td>49</td>\n      <td>24</td>\n      <td>29</td>\n      <td>53</td>\n      <td>83</td>\n      <td>62</td>\n      <td>36</td>\n      <td>46</td>\n      <td>46</td>\n      <td>...</td>\n      <td>43</td>\n      <td>51</td>\n      <td>49</td>\n      <td>50</td>\n      <td>33</td>\n      <td>50</td>\n      <td>30</td>\n      <td>79</td>\n      <td>29</td>\n      <td>44</td>\n    </tr>\n    <tr>\n      <th>...</th>\n      <td>...</td>\n      <td>...</td>\n      <td>...</td>\n      <td>...</td>\n      <td>...</td>\n      <td>...</td>\n      <td>...</td>\n      <td>...</td>\n      <td>...</td>\n      <td>...</td>\n      <td>...</td>\n      <td>...</td>\n      <td>...</td>\n      <td>...</td>\n      <td>...</td>\n      <td>...</td>\n      <td>...</td>\n      <td>...</td>\n      <td>...</td>\n      <td>...</td>\n      <td>...</td>\n    </tr>\n    <tr>\n      <th>1991-09-30 10:20:00</th>\n      <td>43</td>\n      <td>29</td>\n      <td>60</td>\n      <td>23</td>\n      <td>63</td>\n      <td>61</td>\n      <td>42</td>\n      <td>47</td>\n      <td>51</td>\n      <td>56</td>\n      <td>...</td>\n      <td>66</td>\n      <td>20</td>\n      <td>50</td>\n      <td>70</td>\n      <td>90</td>\n      <td>53</td>\n      <td>29</td>\n      <td>68</td>\n      <td>22</td>\n      <td>49</td>\n    </tr>\n    <tr>\n      <th>1991-09-30 10:40:00</th>\n      <td>47</td>\n      <td>28</td>\n      <td>35</td>\n      <td>24</td>\n      <td>62</td>\n      <td>63</td>\n      <td>32</td>\n      <td>44</td>\n      <td>57</td>\n      <td>65</td>\n      <td>...</td>\n      <td>60</td>\n      <td>21</td>\n      <td>49</td>\n      <td>68</td>\n      <td>45</td>\n      <td>52</td>\n      <td>25</td>\n      <td>70</td>\n      <td>20</td>\n      <td>47</td>\n    </tr>\n    <tr>\n      <th>1991-09-30 11:00:00</th>\n      <td>40</td>\n      <td>31</td>\n      <td>53</td>\n      <td>22</td>\n      <td>65</td>\n      <td>58</td>\n      <td>38</td>\n      <td>44</td>\n      <td>60</td>\n      <td>62</td>\n      <td>...</td>\n      <td>58</td>\n      <td>27</td>\n      <td>53</td>\n      <td>68</td>\n      <td>44</td>\n      <td>58</td>\n      <td>29</td>\n      <td>69</td>\n      <td>19</td>\n      <td>37</td>\n    </tr>\n    <tr>\n      <th>1991-09-30 11:20:00</th>\n      <td>52</td>\n      <td>36</td>\n      <td>59</td>\n      <td>35</td>\n      <td>67</td>\n      <td>54</td>\n      <td>26</td>\n      <td>44</td>\n      <td>59</td>\n      <td>57</td>\n      <td>...</td>\n      <td>52</td>\n      <td>20</td>\n      <td>53</td>\n      <td>67</td>\n      <td>57</td>\n      <td>59</td>\n      <td>22</td>\n      <td>69</td>\n      <td>22</td>\n      <td>53</td>\n    </tr>\n    <tr>\n      <th>1991-09-30 11:40:00</th>\n      <td>70</td>\n      <td>40</td>\n      <td>51</td>\n      <td>24</td>\n      <td>65</td>\n      <td>52</td>\n      <td>42</td>\n      <td>43</td>\n      <td>62</td>\n      <td>77</td>\n      <td>...</td>\n      <td>64</td>\n      <td>40</td>\n      <td>51</td>\n      <td>71</td>\n      <td>48</td>\n      <td>54</td>\n      <td>28</td>\n      <td>68</td>\n      <td>17</td>\n      <td>24</td>\n    </tr>\n  </tbody>\n</table>\n<p>13140 rows × 65 columns</p>\n</div>"
          },
          "metadata": {}
        }
      ]
    },
    {
      "cell_type": "code",
      "source": [
        "train_test_split = datetime.strptime('1991-09-23 12:00:00', '%Y-%m-%d %H:%M:%S')\n",
        "df_train = imputed_train.loc[imputed_train.index < train_test_split]\n",
        "df_val = imputed_train.loc[imputed_train.index >= train_test_split]"
      ],
      "metadata": {
        "execution": {
          "iopub.status.busy": "2022-04-30T05:03:57.319599Z",
          "iopub.execute_input": "2022-04-30T05:03:57.320151Z",
          "iopub.status.idle": "2022-04-30T05:03:57.331171Z",
          "shell.execute_reply.started": "2022-04-30T05:03:57.320116Z",
          "shell.execute_reply": "2022-04-30T05:03:57.330321Z"
        },
        "trusted": true,
        "id": "g6-xKNpubEFY"
      },
      "execution_count": null,
      "outputs": []
    },
    {
      "cell_type": "code",
      "source": [
        "sc = MinMaxScaler()\n",
        "train_sc = sc.fit_transform(df_train)\n",
        "val_sc = sc.transform(df_val)"
      ],
      "metadata": {
        "execution": {
          "iopub.status.busy": "2022-04-30T05:03:59.927341Z",
          "iopub.execute_input": "2022-04-30T05:03:59.927625Z",
          "iopub.status.idle": "2022-04-30T05:03:59.948811Z",
          "shell.execute_reply.started": "2022-04-30T05:03:59.927594Z",
          "shell.execute_reply": "2022-04-30T05:03:59.947967Z"
        },
        "trusted": true,
        "id": "byalPL4obEFZ",
        "outputId": "c8b9c4fc-73cb-40c0-a2d3-723fe20257f0"
      },
      "execution_count": null,
      "outputs": [
        {
          "name": "stderr",
          "text": "/opt/conda/lib/python3.7/site-packages/sklearn/utils/validation.py:1692: FutureWarning: Feature names only support names that are all strings. Got feature names with dtypes: ['tuple']. An error will be raised in 1.2.\n  FutureWarning,\n/opt/conda/lib/python3.7/site-packages/sklearn/utils/validation.py:1692: FutureWarning: Feature names only support names that are all strings. Got feature names with dtypes: ['tuple']. An error will be raised in 1.2.\n  FutureWarning,\n/opt/conda/lib/python3.7/site-packages/sklearn/utils/validation.py:1692: FutureWarning: Feature names only support names that are all strings. Got feature names with dtypes: ['tuple']. An error will be raised in 1.2.\n  FutureWarning,\n",
          "output_type": "stream"
        }
      ]
    },
    {
      "cell_type": "markdown",
      "source": [
        "## LSTM\n",
        "\n",
        "Long Short Term Memory networks – usually just called “LSTMs” – are a special kind of RNN, capable of learning long-term dependencies.\n",
        "\n",
        "LSTMs are explicitly designed to avoid the long-term dependency problem. Remembering information for long periods of time is practically their default behavior, not something they struggle to learn! [source: [link](https://colah.github.io/posts/2015-08-Understanding-LSTMs/)]"
      ],
      "metadata": {
        "id": "i8_LDhl0eMx_"
      }
    },
    {
      "cell_type": "code",
      "source": [
        "# reference: https://towardsdatascience.com/cnn-lstm-based-models-for-multiple-parallel-input-and-multi-step-forecast-6fe2172f7668\n",
        "\n",
        "\n",
        "def split_sequence(sequence, look_back, forecast_horizon):\n",
        "    \n",
        "    X, y = list(), list()\n",
        "    for i in range(len(sequence)): \n",
        "        lag_end = i + look_back\n",
        "        forecast_end = lag_end + forecast_horizon\n",
        "        if forecast_end > len(sequence):\n",
        "            break\n",
        "        seq_x, seq_y = sequence[i:lag_end], sequence[lag_end:forecast_end]\n",
        "        X.append(seq_x)\n",
        "        y.append(seq_y)\n",
        "    return np.array(X), np.array(y)"
      ],
      "metadata": {
        "execution": {
          "iopub.status.busy": "2022-04-30T05:04:03.840572Z",
          "iopub.execute_input": "2022-04-30T05:04:03.840824Z",
          "iopub.status.idle": "2022-04-30T05:04:03.847137Z",
          "shell.execute_reply.started": "2022-04-30T05:04:03.840796Z",
          "shell.execute_reply": "2022-04-30T05:04:03.846345Z"
        },
        "trusted": true,
        "id": "5UuJhzW-bEFb"
      },
      "execution_count": null,
      "outputs": []
    },
    {
      "cell_type": "code",
      "source": [
        "def inverse_transform(y_test, yhat):\n",
        "    y_test_reshaped = y_test.reshape(-1, y_test.shape[-1])\n",
        "    yhat_reshaped = yhat.reshape(-1, yhat.shape[-1])\n",
        "    yhat_inverse = sc.inverse_transform(yhat_reshaped)\n",
        "    y_test_inverse = sc.inverse_transform(y_test_reshaped)\n",
        "    return yhat_inverse, y_test_inverse"
      ],
      "metadata": {
        "execution": {
          "iopub.status.busy": "2022-04-30T05:04:10.042509Z",
          "iopub.execute_input": "2022-04-30T05:04:10.042772Z",
          "iopub.status.idle": "2022-04-30T05:04:10.048600Z",
          "shell.execute_reply.started": "2022-04-30T05:04:10.042744Z",
          "shell.execute_reply": "2022-04-30T05:04:10.047633Z"
        },
        "trusted": true,
        "id": "IZ5ga_vBbEFe"
      },
      "execution_count": null,
      "outputs": []
    },
    {
      "cell_type": "code",
      "source": [
        "features = len(df_train.columns)\n",
        "forecast = 36\n",
        "period = 108"
      ],
      "metadata": {
        "execution": {
          "iopub.status.busy": "2022-04-30T05:04:05.542119Z",
          "iopub.execute_input": "2022-04-30T05:04:05.542393Z",
          "iopub.status.idle": "2022-04-30T05:04:05.547897Z",
          "shell.execute_reply.started": "2022-04-30T05:04:05.542363Z",
          "shell.execute_reply": "2022-04-30T05:04:05.547141Z"
        },
        "trusted": true,
        "id": "fJBfsx8ibEFc"
      },
      "execution_count": null,
      "outputs": []
    },
    {
      "cell_type": "code",
      "source": [
        "X_train, y_train = split_sequence(train_sc, look_back=period, forecast_horizon=forecast)\n",
        "X_val, y_val = split_sequence(val_sc, look_back=period, forecast_horizon=forecast)\n",
        "rlrop = tf.keras.callbacks.ReduceLROnPlateau(monitor='val_loss', factor=0.2, mode='min', patience=3, min_lr=0.001)"
      ],
      "metadata": {
        "execution": {
          "iopub.status.busy": "2022-04-30T05:04:08.299903Z",
          "iopub.execute_input": "2022-04-30T05:04:08.300255Z",
          "iopub.status.idle": "2022-04-30T05:04:08.682731Z",
          "shell.execute_reply.started": "2022-04-30T05:04:08.300206Z",
          "shell.execute_reply": "2022-04-30T05:04:08.681914Z"
        },
        "trusted": true,
        "id": "zTcIxoBubEFd"
      },
      "execution_count": null,
      "outputs": []
    },
    {
      "cell_type": "code",
      "source": [
        "epochs = 15\n",
        "batch_size = 72\n",
        "validation = 0.1"
      ],
      "metadata": {
        "execution": {
          "iopub.status.busy": "2022-04-30T05:04:18.148567Z",
          "iopub.execute_input": "2022-04-30T05:04:18.149264Z",
          "iopub.status.idle": "2022-04-30T05:04:18.153384Z",
          "shell.execute_reply.started": "2022-04-30T05:04:18.149208Z",
          "shell.execute_reply": "2022-04-30T05:04:18.152325Z"
        },
        "trusted": true,
        "id": "FusoWw2vbEFh"
      },
      "execution_count": null,
      "outputs": []
    },
    {
      "cell_type": "code",
      "source": [
        "model = Sequential()\n",
        "model.add(Conv1D(filters=64, kernel_size=9, activation='relu', input_shape=(period, features)))\n",
        "model.add(Conv1D(filters=64, kernel_size=9, activation='relu'))\n",
        "model.add(MaxPooling1D(pool_size=2))\n",
        "# model.add(Conv1D(filters=32, kernel_size=3, activation='relu'))\n",
        "# model.add(MaxPooling1D(pool_size=2))\n",
        "model.add(Flatten())\n",
        "model.add(RepeatVector(forecast))\n",
        "model.add(LSTM(200, activation='relu', return_sequences=True))\n",
        "model.add(LSTM(100, activation='relu', return_sequences=True))\n",
        "# model.add(LSTM(units = 100, return_sequences=True))\n",
        "model.add(TimeDistributed(Dense(100, activation='relu')))\n",
        "# model.add(TimeDistributed(Dense(512, kernel_initializer='normal',activation='relu')))\n",
        "# model.add(TimeDistributed(Dense(100, kernel_initializer='normal',activation='relu')))\n",
        "model.add(TimeDistributed(Dense(features, kernel_initializer='normal')))\n",
        "model.compile(loss='mse', optimizer='adam', metrics=['mean_absolute_error'])"
      ],
      "metadata": {
        "execution": {
          "iopub.status.busy": "2022-04-30T06:11:35.272971Z",
          "iopub.execute_input": "2022-04-30T06:11:35.273238Z",
          "iopub.status.idle": "2022-04-30T06:11:35.449351Z",
          "shell.execute_reply.started": "2022-04-30T06:11:35.273209Z",
          "shell.execute_reply": "2022-04-30T06:11:35.448575Z"
        },
        "trusted": true,
        "id": "x8P1Y3SPbEFi"
      },
      "execution_count": null,
      "outputs": []
    },
    {
      "cell_type": "code",
      "source": [
        "model.summary()"
      ],
      "metadata": {
        "execution": {
          "iopub.status.busy": "2022-04-30T06:11:36.762261Z",
          "iopub.execute_input": "2022-04-30T06:11:36.762688Z",
          "iopub.status.idle": "2022-04-30T06:11:36.772111Z",
          "shell.execute_reply.started": "2022-04-30T06:11:36.762652Z",
          "shell.execute_reply": "2022-04-30T06:11:36.771426Z"
        },
        "trusted": true,
        "id": "eojGblujbEFj",
        "outputId": "3dda56c9-46cc-41d8-adb9-276cd685ce1c"
      },
      "execution_count": null,
      "outputs": [
        {
          "name": "stdout",
          "text": "Model: \"sequential_9\"\n_________________________________________________________________\nLayer (type)                 Output Shape              Param #   \n=================================================================\nconv1d_19 (Conv1D)           (None, 100, 64)           37504     \n_________________________________________________________________\nconv1d_20 (Conv1D)           (None, 92, 64)            36928     \n_________________________________________________________________\nmax_pooling1d_10 (MaxPooling (None, 46, 64)            0         \n_________________________________________________________________\nflatten_9 (Flatten)          (None, 2944)              0         \n_________________________________________________________________\nrepeat_vector_9 (RepeatVecto (None, 36, 2944)          0         \n_________________________________________________________________\nlstm_18 (LSTM)               (None, 36, 200)           2516000   \n_________________________________________________________________\nlstm_19 (LSTM)               (None, 36, 100)           120400    \n_________________________________________________________________\ntime_distributed_21 (TimeDis (None, 36, 100)           10100     \n_________________________________________________________________\ntime_distributed_22 (TimeDis (None, 36, 65)            6565      \n=================================================================\nTotal params: 2,727,497\nTrainable params: 2,727,497\nNon-trainable params: 0\n_________________________________________________________________\n",
          "output_type": "stream"
        }
      ]
    },
    {
      "cell_type": "code",
      "source": [
        "history = model.fit(X_train, y_train, epochs=epochs, batch_size=batch_size, validation_split=validation,callbacks=[rlrop])"
      ],
      "metadata": {
        "execution": {
          "iopub.status.busy": "2022-04-30T05:59:23.938806Z",
          "iopub.execute_input": "2022-04-30T05:59:23.939056Z",
          "iopub.status.idle": "2022-04-30T06:05:49.110601Z",
          "shell.execute_reply.started": "2022-04-30T05:59:23.939028Z",
          "shell.execute_reply": "2022-04-30T06:05:49.109651Z"
        },
        "trusted": true,
        "id": "g3cP4QMEbEFk",
        "outputId": "63d18eb0-59cd-4cad-f131-8af6816c9083"
      },
      "execution_count": null,
      "outputs": [
        {
          "name": "stdout",
          "text": "Epoch 1/15\n157/157 [==============================] - 25s 145ms/step - loss: 1.7963 - mean_absolute_error: 0.1918 - val_loss: 0.0130 - val_mean_absolute_error: 0.0840\nEpoch 2/15\n157/157 [==============================] - 23s 149ms/step - loss: 0.0114 - mean_absolute_error: 0.0783 - val_loss: 0.0113 - val_mean_absolute_error: 0.0762\nEpoch 3/15\n157/157 [==============================] - 22s 143ms/step - loss: 0.0106 - mean_absolute_error: 0.0751 - val_loss: 0.0111 - val_mean_absolute_error: 0.0769\nEpoch 4/15\n157/157 [==============================] - 23s 144ms/step - loss: 0.0103 - mean_absolute_error: 0.0740 - val_loss: 0.0112 - val_mean_absolute_error: 0.0777\nEpoch 5/15\n157/157 [==============================] - 22s 140ms/step - loss: 0.0101 - mean_absolute_error: 0.0732 - val_loss: 0.0111 - val_mean_absolute_error: 0.0772\nEpoch 6/15\n157/157 [==============================] - 23s 146ms/step - loss: 0.0100 - mean_absolute_error: 0.0726 - val_loss: 0.0104 - val_mean_absolute_error: 0.0735\nEpoch 7/15\n157/157 [==============================] - 22s 143ms/step - loss: 0.0098 - mean_absolute_error: 0.0719 - val_loss: 0.0106 - val_mean_absolute_error: 0.0745\nEpoch 8/15\n157/157 [==============================] - 22s 143ms/step - loss: 0.0097 - mean_absolute_error: 0.0713 - val_loss: 0.0103 - val_mean_absolute_error: 0.0726\nEpoch 9/15\n157/157 [==============================] - 23s 147ms/step - loss: 0.0096 - mean_absolute_error: 0.0709 - val_loss: 0.0102 - val_mean_absolute_error: 0.0721\nEpoch 10/15\n157/157 [==============================] - 23s 146ms/step - loss: 0.0095 - mean_absolute_error: 0.0704 - val_loss: 0.0102 - val_mean_absolute_error: 0.0720\nEpoch 11/15\n157/157 [==============================] - 22s 141ms/step - loss: 0.0094 - mean_absolute_error: 0.0702 - val_loss: 0.0102 - val_mean_absolute_error: 0.0718\nEpoch 12/15\n157/157 [==============================] - 23s 144ms/step - loss: 0.0094 - mean_absolute_error: 0.0697 - val_loss: 0.0100 - val_mean_absolute_error: 0.0717\nEpoch 13/15\n157/157 [==============================] - 23s 145ms/step - loss: 0.0093 - mean_absolute_error: 0.0695 - val_loss: 0.0099 - val_mean_absolute_error: 0.0711\nEpoch 14/15\n157/157 [==============================] - 23s 145ms/step - loss: 0.0093 - mean_absolute_error: 0.0693 - val_loss: 0.0101 - val_mean_absolute_error: 0.0715\nEpoch 15/15\n157/157 [==============================] - 22s 139ms/step - loss: 0.0092 - mean_absolute_error: 0.0690 - val_loss: 0.0099 - val_mean_absolute_error: 0.0712\n",
          "output_type": "stream"
        }
      ]
    },
    {
      "cell_type": "code",
      "source": [
        "mond = model.predict(df_train.iloc[-period:,:].values.reshape(1,period,features)/100, verbose=0)\n",
        "mae_ = tf.keras.losses.MeanAbsoluteError()\n",
        "mae = mae_(df_val.iloc[:forecast,:].values,np.round(mond*100).reshape(forecast,features))"
      ],
      "metadata": {
        "execution": {
          "iopub.status.busy": "2022-04-30T06:07:22.419814Z",
          "iopub.execute_input": "2022-04-30T06:07:22.420087Z",
          "iopub.status.idle": "2022-04-30T06:07:22.484031Z",
          "shell.execute_reply.started": "2022-04-30T06:07:22.420057Z",
          "shell.execute_reply": "2022-04-30T06:07:22.483249Z"
        },
        "trusted": true,
        "id": "yS-t0hqobEFl",
        "outputId": "01b4628b-52d4-4d2c-9f05-28397cab9a3d"
      },
      "execution_count": null,
      "outputs": [
        {
          "name": "stdout",
          "text": "mae: tf.Tensor(5.789316, shape=(), dtype=float32)\nmse: tf.Tensor(60.013252, shape=(), dtype=float32)\n",
          "output_type": "stream"
        }
      ]
    },
    {
      "cell_type": "code",
      "source": [
        "X_train_f, y_train_f = split_sequence(sc.fit_transform(imputed_train), look_back=period, forecast_horizon=forecast)"
      ],
      "metadata": {
        "execution": {
          "iopub.status.busy": "2022-04-30T06:10:51.128655Z",
          "iopub.execute_input": "2022-04-30T06:10:51.128946Z",
          "iopub.status.idle": "2022-04-30T06:10:51.441351Z",
          "shell.execute_reply.started": "2022-04-30T06:10:51.128914Z",
          "shell.execute_reply": "2022-04-30T06:10:51.440590Z"
        },
        "trusted": true,
        "id": "854GQc0hbEFm",
        "outputId": "9418ccd7-8dd3-43d0-a09e-b42846763885"
      },
      "execution_count": null,
      "outputs": [
        {
          "name": "stderr",
          "text": "/opt/conda/lib/python3.7/site-packages/sklearn/utils/validation.py:1692: FutureWarning: Feature names only support names that are all strings. Got feature names with dtypes: ['tuple']. An error will be raised in 1.2.\n  FutureWarning,\n/opt/conda/lib/python3.7/site-packages/sklearn/utils/validation.py:1692: FutureWarning: Feature names only support names that are all strings. Got feature names with dtypes: ['tuple']. An error will be raised in 1.2.\n  FutureWarning,\n",
          "output_type": "stream"
        }
      ]
    },
    {
      "cell_type": "code",
      "source": [
        "history_f = model.fit(X_train_f, y_train_f, epochs=epochs, batch_size=batch_size, validation_split=validation,callbacks=[rlrop])"
      ],
      "metadata": {
        "execution": {
          "iopub.status.busy": "2022-04-30T06:12:00.214903Z",
          "iopub.execute_input": "2022-04-30T06:12:00.215615Z",
          "iopub.status.idle": "2022-04-30T06:18:24.940113Z",
          "shell.execute_reply.started": "2022-04-30T06:12:00.215578Z",
          "shell.execute_reply": "2022-04-30T06:18:24.939335Z"
        },
        "trusted": true,
        "id": "_0Hqdf30bEFn",
        "outputId": "da2e35d3-02e6-4f2a-c060-cd0b378af40a"
      },
      "execution_count": null,
      "outputs": [
        {
          "name": "stdout",
          "text": "Epoch 1/15\n163/163 [==============================] - 26s 149ms/step - loss: 0.1235 - mean_absolute_error: 0.1541 - val_loss: 0.0123 - val_mean_absolute_error: 0.0809\nEpoch 2/15\n163/163 [==============================] - 24s 144ms/step - loss: 0.0109 - mean_absolute_error: 0.0761 - val_loss: 0.0106 - val_mean_absolute_error: 0.0744\nEpoch 3/15\n163/163 [==============================] - 23s 141ms/step - loss: 0.0103 - mean_absolute_error: 0.0736 - val_loss: 0.0103 - val_mean_absolute_error: 0.0730\nEpoch 4/15\n163/163 [==============================] - 24s 146ms/step - loss: 0.0100 - mean_absolute_error: 0.0724 - val_loss: 0.0102 - val_mean_absolute_error: 0.0723\nEpoch 5/15\n163/163 [==============================] - 23s 144ms/step - loss: 0.0098 - mean_absolute_error: 0.0715 - val_loss: 0.0103 - val_mean_absolute_error: 0.0723\nEpoch 6/15\n163/163 [==============================] - 24s 145ms/step - loss: 0.0096 - mean_absolute_error: 0.0707 - val_loss: 0.0103 - val_mean_absolute_error: 0.0722\nEpoch 7/15\n163/163 [==============================] - 23s 142ms/step - loss: 0.0095 - mean_absolute_error: 0.0702 - val_loss: 0.0100 - val_mean_absolute_error: 0.0712\nEpoch 8/15\n163/163 [==============================] - 24s 148ms/step - loss: 0.0093 - mean_absolute_error: 0.0695 - val_loss: 0.0100 - val_mean_absolute_error: 0.0712\nEpoch 9/15\n163/163 [==============================] - 24s 145ms/step - loss: 0.0092 - mean_absolute_error: 0.0688 - val_loss: 0.0099 - val_mean_absolute_error: 0.0713\nEpoch 10/15\n163/163 [==============================] - 24s 148ms/step - loss: 0.0091 - mean_absolute_error: 0.0687 - val_loss: 0.0100 - val_mean_absolute_error: 0.0713\nEpoch 11/15\n163/163 [==============================] - 23s 141ms/step - loss: 0.0091 - mean_absolute_error: 0.0682 - val_loss: 0.0097 - val_mean_absolute_error: 0.0702\nEpoch 12/15\n163/163 [==============================] - 24s 145ms/step - loss: 0.0090 - mean_absolute_error: 0.0679 - val_loss: 0.0100 - val_mean_absolute_error: 0.0716\nEpoch 13/15\n163/163 [==============================] - 24s 148ms/step - loss: 0.0089 - mean_absolute_error: 0.0676 - val_loss: 0.0097 - val_mean_absolute_error: 0.0700\nEpoch 14/15\n163/163 [==============================] - 23s 142ms/step - loss: 0.0088 - mean_absolute_error: 0.0672 - val_loss: 0.0097 - val_mean_absolute_error: 0.0703\nEpoch 15/15\n163/163 [==============================] - 24s 145ms/step - loss: 0.0088 - mean_absolute_error: 0.0668 - val_loss: 0.0097 - val_mean_absolute_error: 0.0701\n",
          "output_type": "stream"
        }
      ]
    },
    {
      "cell_type": "code",
      "source": [
        "pred = model.predict(imputed_train.iloc[-period:,:].values.reshape(1,period,features)/100, verbose=0)\n"
      ],
      "metadata": {
        "execution": {
          "iopub.status.busy": "2022-04-30T06:19:36.803598Z",
          "iopub.execute_input": "2022-04-30T06:19:36.803856Z",
          "iopub.status.idle": "2022-04-30T06:19:37.092091Z",
          "shell.execute_reply.started": "2022-04-30T06:19:36.803827Z",
          "shell.execute_reply": "2022-04-30T06:19:37.091242Z"
        },
        "trusted": true,
        "id": "BrRzW56CbEFo"
      },
      "execution_count": null,
      "outputs": []
    },
    {
      "cell_type": "code",
      "source": [
        "submission = pd.read_csv('../input/tabular-playground-series-mar-2022/sample_submission.csv')\n",
        "submission['congestion'] = np.round(pred.reshape(36*65,)*100).astype(int)\n",
        "submission.to_csv('./submission.csv', index=False)"
      ],
      "metadata": {
        "execution": {
          "iopub.status.busy": "2022-04-30T06:23:30.673273Z",
          "iopub.execute_input": "2022-04-30T06:23:30.673791Z",
          "iopub.status.idle": "2022-04-30T06:23:30.682043Z",
          "shell.execute_reply.started": "2022-04-30T06:23:30.673755Z",
          "shell.execute_reply": "2022-04-30T06:23:30.681235Z"
        },
        "trusted": true,
        "id": "zqTUFZjTbEFp"
      },
      "execution_count": null,
      "outputs": []
    },
    {
      "cell_type": "code",
      "source": [
        "submission"
      ],
      "metadata": {
        "execution": {
          "iopub.status.busy": "2022-04-30T06:24:04.917401Z",
          "iopub.execute_input": "2022-04-30T06:24:04.917648Z",
          "iopub.status.idle": "2022-04-30T06:24:04.930847Z",
          "shell.execute_reply.started": "2022-04-30T06:24:04.917621Z",
          "shell.execute_reply": "2022-04-30T06:24:04.930070Z"
        },
        "trusted": true,
        "id": "MD5vKdTgbEFp",
        "outputId": "07483db4-92a9-4cf4-c237-6a2dbae243ee"
      },
      "execution_count": null,
      "outputs": [
        {
          "execution_count": 93,
          "output_type": "execute_result",
          "data": {
            "text/plain": "      row_id  congestion\n0     848835          46\n1     848836          37\n2     848837          49\n3     848838          25\n4     848839          67\n...      ...         ...\n2335  851170          61\n2336  851171          33\n2337  851172          73\n2338  851173          19\n2339  851174          39\n\n[2340 rows x 2 columns]",
            "text/html": "<div>\n<style scoped>\n    .dataframe tbody tr th:only-of-type {\n        vertical-align: middle;\n    }\n\n    .dataframe tbody tr th {\n        vertical-align: top;\n    }\n\n    .dataframe thead th {\n        text-align: right;\n    }\n</style>\n<table border=\"1\" class=\"dataframe\">\n  <thead>\n    <tr style=\"text-align: right;\">\n      <th></th>\n      <th>row_id</th>\n      <th>congestion</th>\n    </tr>\n  </thead>\n  <tbody>\n    <tr>\n      <th>0</th>\n      <td>848835</td>\n      <td>46</td>\n    </tr>\n    <tr>\n      <th>1</th>\n      <td>848836</td>\n      <td>37</td>\n    </tr>\n    <tr>\n      <th>2</th>\n      <td>848837</td>\n      <td>49</td>\n    </tr>\n    <tr>\n      <th>3</th>\n      <td>848838</td>\n      <td>25</td>\n    </tr>\n    <tr>\n      <th>4</th>\n      <td>848839</td>\n      <td>67</td>\n    </tr>\n    <tr>\n      <th>...</th>\n      <td>...</td>\n      <td>...</td>\n    </tr>\n    <tr>\n      <th>2335</th>\n      <td>851170</td>\n      <td>61</td>\n    </tr>\n    <tr>\n      <th>2336</th>\n      <td>851171</td>\n      <td>33</td>\n    </tr>\n    <tr>\n      <th>2337</th>\n      <td>851172</td>\n      <td>73</td>\n    </tr>\n    <tr>\n      <th>2338</th>\n      <td>851173</td>\n      <td>19</td>\n    </tr>\n    <tr>\n      <th>2339</th>\n      <td>851174</td>\n      <td>39</td>\n    </tr>\n  </tbody>\n</table>\n<p>2340 rows × 2 columns</p>\n</div>"
          },
          "metadata": {}
        }
      ]
    }
  ]
}