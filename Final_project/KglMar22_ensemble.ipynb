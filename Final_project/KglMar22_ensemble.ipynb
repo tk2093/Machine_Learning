{
  "nbformat": 4,
  "nbformat_minor": 0,
  "metadata": {
    "colab": {
      "name": "KglMar22_ensemble.ipynb",
      "provenance": []
    },
    "kernelspec": {
      "name": "python3",
      "display_name": "Python 3"
    },
    "language_info": {
      "name": "python"
    }
  },
  "cells": [
    {
      "cell_type": "code",
      "execution_count": 1,
      "metadata": {
        "id": "w8LJK76LrMmz"
      },
      "outputs": [],
      "source": [
        "import pandas as pd\n",
        "import numpy as np\n",
        "from dateutil import parser\n",
        "from datetime import datetime\n",
        "import matplotlib.pyplot as plt\n",
        "import seaborn as sns\n",
        "import sklearn\n",
        "import tensorflow as tf\n",
        "from sklearn.preprocessing import MinMaxScaler\n",
        "from sklearn.model_selection import train_test_split, RepeatedKFold, cross_val_score\n",
        "from sklearn.metrics import mean_absolute_error\n",
        "from sklearn.ensemble import RandomForestRegressor\n",
        "from keras.callbacks import ModelCheckpoint\n",
        "from keras.models import Sequential\n",
        "from keras.layers import Dense, Activation, Flatten\n",
        "from xgboost import XGBRegressor\n",
        "from sklearn.metrics import mean_absolute_error"
      ]
    },
    {
      "cell_type": "code",
      "source": [
        "!gdown \"https://drive.google.com/uc?id=1qB32WBARlZe3VIVEPi0Ontgry-_AyBJe\"\n",
        "!gdown \"https://drive.google.com/uc?id=1KTDgNMLQaIV2529h4xOcRqMGURFnoVQs\""
      ],
      "metadata": {
        "id": "HmoPH7nJ60PV",
        "colab": {
          "base_uri": "https://localhost:8080/"
        },
        "outputId": "fae63df3-8f95-4f77-8af8-63b20b179b60"
      },
      "execution_count": 2,
      "outputs": [
        {
          "output_type": "stream",
          "name": "stdout",
          "text": [
            "Downloading...\n",
            "From: https://drive.google.com/uc?id=1qB32WBARlZe3VIVEPi0Ontgry-_AyBJe\n",
            "To: /content/train.csv\n",
            "100% 31.3M/31.3M [00:00<00:00, 130MB/s]\n",
            "Downloading...\n",
            "From: https://drive.google.com/uc?id=1KTDgNMLQaIV2529h4xOcRqMGURFnoVQs\n",
            "To: /content/test.csv\n",
            "100% 79.6k/79.6k [00:00<00:00, 32.6MB/s]\n"
          ]
        }
      ]
    },
    {
      "cell_type": "code",
      "source": [
        "train_pd = pd.read_csv('train.csv', parse_dates=[\"time\"])\n",
        "test_pd = pd.read_csv('test.csv', parse_dates=[\"time\"])"
      ],
      "metadata": {
        "id": "Vk_KceherTZC"
      },
      "execution_count": 3,
      "outputs": []
    },
    {
      "cell_type": "code",
      "source": [
        "train_pd.dropna(inplace = True)\n",
        "test_pd.dropna(inplace = True)"
      ],
      "metadata": {
        "id": "ai-_mnZ1rjfP"
      },
      "execution_count": 4,
      "outputs": []
    },
    {
      "cell_type": "code",
      "source": [
        "train_pd.info()"
      ],
      "metadata": {
        "colab": {
          "base_uri": "https://localhost:8080/"
        },
        "id": "s_fQ95Vn2xbK",
        "outputId": "def52cfa-ab0d-466c-a08a-6289c5d2a4b1"
      },
      "execution_count": null,
      "outputs": [
        {
          "output_type": "stream",
          "name": "stdout",
          "text": [
            "<class 'pandas.core.frame.DataFrame'>\n",
            "Int64Index: 848835 entries, 0 to 848834\n",
            "Data columns (total 6 columns):\n",
            " #   Column      Non-Null Count   Dtype         \n",
            "---  ------      --------------   -----         \n",
            " 0   row_id      848835 non-null  int64         \n",
            " 1   time        848835 non-null  datetime64[ns]\n",
            " 2   x           848835 non-null  int64         \n",
            " 3   y           848835 non-null  int64         \n",
            " 4   direction   848835 non-null  object        \n",
            " 5   congestion  848835 non-null  int64         \n",
            "dtypes: datetime64[ns](1), int64(4), object(1)\n",
            "memory usage: 45.3+ MB\n"
          ]
        }
      ]
    },
    {
      "cell_type": "code",
      "source": [
        "train_pd.describe()"
      ],
      "metadata": {
        "colab": {
          "base_uri": "https://localhost:8080/",
          "height": 300
        },
        "id": "EZji9zLf2_JQ",
        "outputId": "62bb395c-a707-452a-baf1-d9a4cc2475f2"
      },
      "execution_count": null,
      "outputs": [
        {
          "output_type": "execute_result",
          "data": {
            "text/plain": [
              "             row_id              x              y     congestion\n",
              "count  848835.00000  848835.000000  848835.000000  848835.000000\n",
              "mean   424417.00000       1.138462       1.630769      47.815305\n",
              "std    245037.70221       0.801478       1.089379      16.799392\n",
              "min         0.00000       0.000000       0.000000       0.000000\n",
              "25%    212208.50000       0.000000       1.000000      35.000000\n",
              "50%    424417.00000       1.000000       2.000000      47.000000\n",
              "75%    636625.50000       2.000000       3.000000      60.000000\n",
              "max    848834.00000       2.000000       3.000000     100.000000"
            ],
            "text/html": [
              "\n",
              "  <div id=\"df-49aeea58-6fe6-4efd-b104-919b690c4da5\">\n",
              "    <div class=\"colab-df-container\">\n",
              "      <div>\n",
              "<style scoped>\n",
              "    .dataframe tbody tr th:only-of-type {\n",
              "        vertical-align: middle;\n",
              "    }\n",
              "\n",
              "    .dataframe tbody tr th {\n",
              "        vertical-align: top;\n",
              "    }\n",
              "\n",
              "    .dataframe thead th {\n",
              "        text-align: right;\n",
              "    }\n",
              "</style>\n",
              "<table border=\"1\" class=\"dataframe\">\n",
              "  <thead>\n",
              "    <tr style=\"text-align: right;\">\n",
              "      <th></th>\n",
              "      <th>row_id</th>\n",
              "      <th>x</th>\n",
              "      <th>y</th>\n",
              "      <th>congestion</th>\n",
              "    </tr>\n",
              "  </thead>\n",
              "  <tbody>\n",
              "    <tr>\n",
              "      <th>count</th>\n",
              "      <td>848835.00000</td>\n",
              "      <td>848835.000000</td>\n",
              "      <td>848835.000000</td>\n",
              "      <td>848835.000000</td>\n",
              "    </tr>\n",
              "    <tr>\n",
              "      <th>mean</th>\n",
              "      <td>424417.00000</td>\n",
              "      <td>1.138462</td>\n",
              "      <td>1.630769</td>\n",
              "      <td>47.815305</td>\n",
              "    </tr>\n",
              "    <tr>\n",
              "      <th>std</th>\n",
              "      <td>245037.70221</td>\n",
              "      <td>0.801478</td>\n",
              "      <td>1.089379</td>\n",
              "      <td>16.799392</td>\n",
              "    </tr>\n",
              "    <tr>\n",
              "      <th>min</th>\n",
              "      <td>0.00000</td>\n",
              "      <td>0.000000</td>\n",
              "      <td>0.000000</td>\n",
              "      <td>0.000000</td>\n",
              "    </tr>\n",
              "    <tr>\n",
              "      <th>25%</th>\n",
              "      <td>212208.50000</td>\n",
              "      <td>0.000000</td>\n",
              "      <td>1.000000</td>\n",
              "      <td>35.000000</td>\n",
              "    </tr>\n",
              "    <tr>\n",
              "      <th>50%</th>\n",
              "      <td>424417.00000</td>\n",
              "      <td>1.000000</td>\n",
              "      <td>2.000000</td>\n",
              "      <td>47.000000</td>\n",
              "    </tr>\n",
              "    <tr>\n",
              "      <th>75%</th>\n",
              "      <td>636625.50000</td>\n",
              "      <td>2.000000</td>\n",
              "      <td>3.000000</td>\n",
              "      <td>60.000000</td>\n",
              "    </tr>\n",
              "    <tr>\n",
              "      <th>max</th>\n",
              "      <td>848834.00000</td>\n",
              "      <td>2.000000</td>\n",
              "      <td>3.000000</td>\n",
              "      <td>100.000000</td>\n",
              "    </tr>\n",
              "  </tbody>\n",
              "</table>\n",
              "</div>\n",
              "      <button class=\"colab-df-convert\" onclick=\"convertToInteractive('df-49aeea58-6fe6-4efd-b104-919b690c4da5')\"\n",
              "              title=\"Convert this dataframe to an interactive table.\"\n",
              "              style=\"display:none;\">\n",
              "        \n",
              "  <svg xmlns=\"http://www.w3.org/2000/svg\" height=\"24px\"viewBox=\"0 0 24 24\"\n",
              "       width=\"24px\">\n",
              "    <path d=\"M0 0h24v24H0V0z\" fill=\"none\"/>\n",
              "    <path d=\"M18.56 5.44l.94 2.06.94-2.06 2.06-.94-2.06-.94-.94-2.06-.94 2.06-2.06.94zm-11 1L8.5 8.5l.94-2.06 2.06-.94-2.06-.94L8.5 2.5l-.94 2.06-2.06.94zm10 10l.94 2.06.94-2.06 2.06-.94-2.06-.94-.94-2.06-.94 2.06-2.06.94z\"/><path d=\"M17.41 7.96l-1.37-1.37c-.4-.4-.92-.59-1.43-.59-.52 0-1.04.2-1.43.59L10.3 9.45l-7.72 7.72c-.78.78-.78 2.05 0 2.83L4 21.41c.39.39.9.59 1.41.59.51 0 1.02-.2 1.41-.59l7.78-7.78 2.81-2.81c.8-.78.8-2.07 0-2.86zM5.41 20L4 18.59l7.72-7.72 1.47 1.35L5.41 20z\"/>\n",
              "  </svg>\n",
              "      </button>\n",
              "      \n",
              "  <style>\n",
              "    .colab-df-container {\n",
              "      display:flex;\n",
              "      flex-wrap:wrap;\n",
              "      gap: 12px;\n",
              "    }\n",
              "\n",
              "    .colab-df-convert {\n",
              "      background-color: #E8F0FE;\n",
              "      border: none;\n",
              "      border-radius: 50%;\n",
              "      cursor: pointer;\n",
              "      display: none;\n",
              "      fill: #1967D2;\n",
              "      height: 32px;\n",
              "      padding: 0 0 0 0;\n",
              "      width: 32px;\n",
              "    }\n",
              "\n",
              "    .colab-df-convert:hover {\n",
              "      background-color: #E2EBFA;\n",
              "      box-shadow: 0px 1px 2px rgba(60, 64, 67, 0.3), 0px 1px 3px 1px rgba(60, 64, 67, 0.15);\n",
              "      fill: #174EA6;\n",
              "    }\n",
              "\n",
              "    [theme=dark] .colab-df-convert {\n",
              "      background-color: #3B4455;\n",
              "      fill: #D2E3FC;\n",
              "    }\n",
              "\n",
              "    [theme=dark] .colab-df-convert:hover {\n",
              "      background-color: #434B5C;\n",
              "      box-shadow: 0px 1px 3px 1px rgba(0, 0, 0, 0.15);\n",
              "      filter: drop-shadow(0px 1px 2px rgba(0, 0, 0, 0.3));\n",
              "      fill: #FFFFFF;\n",
              "    }\n",
              "  </style>\n",
              "\n",
              "      <script>\n",
              "        const buttonEl =\n",
              "          document.querySelector('#df-49aeea58-6fe6-4efd-b104-919b690c4da5 button.colab-df-convert');\n",
              "        buttonEl.style.display =\n",
              "          google.colab.kernel.accessAllowed ? 'block' : 'none';\n",
              "\n",
              "        async function convertToInteractive(key) {\n",
              "          const element = document.querySelector('#df-49aeea58-6fe6-4efd-b104-919b690c4da5');\n",
              "          const dataTable =\n",
              "            await google.colab.kernel.invokeFunction('convertToInteractive',\n",
              "                                                     [key], {});\n",
              "          if (!dataTable) return;\n",
              "\n",
              "          const docLinkHtml = 'Like what you see? Visit the ' +\n",
              "            '<a target=\"_blank\" href=https://colab.research.google.com/notebooks/data_table.ipynb>data table notebook</a>'\n",
              "            + ' to learn more about interactive tables.';\n",
              "          element.innerHTML = '';\n",
              "          dataTable['output_type'] = 'display_data';\n",
              "          await google.colab.output.renderOutput(dataTable, element);\n",
              "          const docLink = document.createElement('div');\n",
              "          docLink.innerHTML = docLinkHtml;\n",
              "          element.appendChild(docLink);\n",
              "        }\n",
              "      </script>\n",
              "    </div>\n",
              "  </div>\n",
              "  "
            ]
          },
          "metadata": {},
          "execution_count": 6
        }
      ]
    },
    {
      "cell_type": "code",
      "source": [
        "# Unique roadways\n",
        "roadways = train_pd[['x', 'y']].drop_duplicates()\n",
        "\n",
        "# Unique roadways with direction\n",
        "road_dir = train_pd[['x', 'y', 'direction']].drop_duplicates()\n",
        "\n",
        "dir_dict = {'EB': (1, 0), 'NB': (0, 1), 'SB': (0, -1), 'WB': (-1, 0), 'NE': (1, 1), 'SE': (1, -1), 'NW': (-1, 1), 'SW': (-1, -1)}\n",
        "\n",
        "plt.figure(figsize=(8, 8))\n",
        "plt.scatter(roadways.x, roadways.y)\n",
        "plt.gca().set_aspect('equal')\n",
        "for _, x, y, d in road_dir.itertuples():\n",
        "    dx, dy = dir_dict[d]\n",
        "    dx, dy = dx/4, dy/4\n",
        "    plt.plot([x, x+dx], [y, y+dy], color='#ffd700')\n",
        "plt.xlabel('x')\n",
        "plt.ylabel('y')\n",
        "plt.show()"
      ],
      "metadata": {
        "colab": {
          "base_uri": "https://localhost:8080/",
          "height": 497
        },
        "id": "iiAUBqln1END",
        "outputId": "af1246f1-0f14-49a5-d3c2-0adcb9f7b641"
      },
      "execution_count": 6,
      "outputs": [
        {
          "output_type": "display_data",
          "data": {
            "text/plain": [
              "<Figure size 576x576 with 1 Axes>"
            ],
            "image/png": "[encoded data removed]"
          },
          "metadata": {
            "needs_background": "light"
          }
        }
      ]
    },
    {
      "cell_type": "code",
      "source": [
        "plt.figure(figsize=(10, 6))\n",
        "\n",
        "plt.bar(range(101), train_pd.congestion.value_counts().sort_index(), width=1,)\n",
        "plt.ylabel('Count')\n",
        "plt.xlabel('Congestion')\n",
        "plt.show()"
      ],
      "metadata": {
        "colab": {
          "base_uri": "https://localhost:8080/",
          "height": 388
        },
        "id": "IixnVGE02qcH",
        "outputId": "6bae0578-bcbe-40fb-fba9-f1eb127d9d3f"
      },
      "execution_count": 13,
      "outputs": [
        {
          "output_type": "display_data",
          "data": {
            "text/plain": [
              "<Figure size 720x432 with 1 Axes>"
            ],
            "image/png": "[encoded data removed]"
          },
          "metadata": {
            "needs_background": "light"
          }
        }
      ]
    },
    {
      "cell_type": "code",
      "source": [
        "test_pd['day'] = test_pd['time'].dt.dayofweek\n",
        "# test_pd['date'] = test_pd['time'].dt.date\n",
        "# test_pd['day_month'] = test_pd['time'].dt.strftime('%d').astype('int')\n",
        "test_pd['weekend'] = (test_pd['day'] > 4).astype('uint8')\n",
        "test_pd['hour'] = test_pd['time'].dt.hour\n",
        "test_pd['hour_part'] = test_pd['time'].dt.minute\n",
        "test_pd['hour_part'] = test_pd['hour_part'].map({0:0, 20: 1, 40: 2})\n",
        "# test_pd['month'] = test_pd['time'].dt.month\n",
        "\n",
        "train_pd['day'] = train_pd['time'].dt.dayofweek\n",
        "# train_pd['date'] = train_pd['time'].dt.date\n",
        "# train_pd['day_month'] = train_pd['time'].dt.strftime('%d').astype('int')\n",
        "train_pd['weekend'] = (train_pd['day'] > 4).astype('uint8')\n",
        "train_pd['hour'] = train_pd['time'].dt.hour\n",
        "train_pd['hour_part'] = train_pd['time'].dt.minute\n",
        "train_pd['hour_part'] = train_pd['hour_part'].map({0:0, 20: 1, 40: 2})\n",
        "# train_pd['month'] = train_pd['time'].dt.month\n"
      ],
      "metadata": {
        "id": "0EgoRO-msAGe"
      },
      "execution_count": 9,
      "outputs": []
    },
    {
      "cell_type": "code",
      "source": [
        "train_pd"
      ],
      "metadata": {
        "colab": {
          "base_uri": "https://localhost:8080/",
          "height": 424
        },
        "id": "6dWwuN_Qerta",
        "outputId": "deb061b7-2a58-4d64-af62-cb6ff3c10d9b"
      },
      "execution_count": null,
      "outputs": [
        {
          "output_type": "execute_result",
          "data": {
            "text/plain": [
              "        row_id                time  x  y direction  congestion  day  weekend  \\\n",
              "0            0 1991-04-01 00:00:00  0  0        EB          70    0        0   \n",
              "1            1 1991-04-01 00:00:00  0  0        NB          49    0        0   \n",
              "2            2 1991-04-01 00:00:00  0  0        SB          24    0        0   \n",
              "3            3 1991-04-01 00:00:00  0  1        EB          18    0        0   \n",
              "4            4 1991-04-01 00:00:00  0  1        NB          60    0        0   \n",
              "...        ...                 ... .. ..       ...         ...  ...      ...   \n",
              "848830  848830 1991-09-30 11:40:00  2  3        NB          54    0        0   \n",
              "848831  848831 1991-09-30 11:40:00  2  3        NE          28    0        0   \n",
              "848832  848832 1991-09-30 11:40:00  2  3        SB          68    0        0   \n",
              "848833  848833 1991-09-30 11:40:00  2  3        SW          17    0        0   \n",
              "848834  848834 1991-09-30 11:40:00  2  3        WB          24    0        0   \n",
              "\n",
              "        hour  hour_part  \n",
              "0          0          0  \n",
              "1          0          0  \n",
              "2          0          0  \n",
              "3          0          0  \n",
              "4          0          0  \n",
              "...      ...        ...  \n",
              "848830    11          2  \n",
              "848831    11          2  \n",
              "848832    11          2  \n",
              "848833    11          2  \n",
              "848834    11          2  \n",
              "\n",
              "[848835 rows x 10 columns]"
            ],
            "text/html": [
              "\n",
              "  <div id=\"df-f0bf00ad-bf2b-4077-ba14-514394e514cc\">\n",
              "    <div class=\"colab-df-container\">\n",
              "      <div>\n",
              "<style scoped>\n",
              "    .dataframe tbody tr th:only-of-type {\n",
              "        vertical-align: middle;\n",
              "    }\n",
              "\n",
              "    .dataframe tbody tr th {\n",
              "        vertical-align: top;\n",
              "    }\n",
              "\n",
              "    .dataframe thead th {\n",
              "        text-align: right;\n",
              "    }\n",
              "</style>\n",
              "<table border=\"1\" class=\"dataframe\">\n",
              "  <thead>\n",
              "    <tr style=\"text-align: right;\">\n",
              "      <th></th>\n",
              "      <th>row_id</th>\n",
              "      <th>time</th>\n",
              "      <th>x</th>\n",
              "      <th>y</th>\n",
              "      <th>direction</th>\n",
              "      <th>congestion</th>\n",
              "      <th>day</th>\n",
              "      <th>weekend</th>\n",
              "      <th>hour</th>\n",
              "      <th>hour_part</th>\n",
              "    </tr>\n",
              "  </thead>\n",
              "  <tbody>\n",
              "    <tr>\n",
              "      <th>0</th>\n",
              "      <td>0</td>\n",
              "      <td>1991-04-01 00:00:00</td>\n",
              "      <td>0</td>\n",
              "      <td>0</td>\n",
              "      <td>EB</td>\n",
              "      <td>70</td>\n",
              "      <td>0</td>\n",
              "      <td>0</td>\n",
              "      <td>0</td>\n",
              "      <td>0</td>\n",
              "    </tr>\n",
              "    <tr>\n",
              "      <th>1</th>\n",
              "      <td>1</td>\n",
              "      <td>1991-04-01 00:00:00</td>\n",
              "      <td>0</td>\n",
              "      <td>0</td>\n",
              "      <td>NB</td>\n",
              "      <td>49</td>\n",
              "      <td>0</td>\n",
              "      <td>0</td>\n",
              "      <td>0</td>\n",
              "      <td>0</td>\n",
              "    </tr>\n",
              "    <tr>\n",
              "      <th>2</th>\n",
              "      <td>2</td>\n",
              "      <td>1991-04-01 00:00:00</td>\n",
              "      <td>0</td>\n",
              "      <td>0</td>\n",
              "      <td>SB</td>\n",
              "      <td>24</td>\n",
              "      <td>0</td>\n",
              "      <td>0</td>\n",
              "      <td>0</td>\n",
              "      <td>0</td>\n",
              "    </tr>\n",
              "    <tr>\n",
              "      <th>3</th>\n",
              "      <td>3</td>\n",
              "      <td>1991-04-01 00:00:00</td>\n",
              "      <td>0</td>\n",
              "      <td>1</td>\n",
              "      <td>EB</td>\n",
              "      <td>18</td>\n",
              "      <td>0</td>\n",
              "      <td>0</td>\n",
              "      <td>0</td>\n",
              "      <td>0</td>\n",
              "    </tr>\n",
              "    <tr>\n",
              "      <th>4</th>\n",
              "      <td>4</td>\n",
              "      <td>1991-04-01 00:00:00</td>\n",
              "      <td>0</td>\n",
              "      <td>1</td>\n",
              "      <td>NB</td>\n",
              "      <td>60</td>\n",
              "      <td>0</td>\n",
              "      <td>0</td>\n",
              "      <td>0</td>\n",
              "      <td>0</td>\n",
              "    </tr>\n",
              "    <tr>\n",
              "      <th>...</th>\n",
              "      <td>...</td>\n",
              "      <td>...</td>\n",
              "      <td>...</td>\n",
              "      <td>...</td>\n",
              "      <td>...</td>\n",
              "      <td>...</td>\n",
              "      <td>...</td>\n",
              "      <td>...</td>\n",
              "      <td>...</td>\n",
              "      <td>...</td>\n",
              "    </tr>\n",
              "    <tr>\n",
              "      <th>848830</th>\n",
              "      <td>848830</td>\n",
              "      <td>1991-09-30 11:40:00</td>\n",
              "      <td>2</td>\n",
              "      <td>3</td>\n",
              "      <td>NB</td>\n",
              "      <td>54</td>\n",
              "      <td>0</td>\n",
              "      <td>0</td>\n",
              "      <td>11</td>\n",
              "      <td>2</td>\n",
              "    </tr>\n",
              "    <tr>\n",
              "      <th>848831</th>\n",
              "      <td>848831</td>\n",
              "      <td>1991-09-30 11:40:00</td>\n",
              "      <td>2</td>\n",
              "      <td>3</td>\n",
              "      <td>NE</td>\n",
              "      <td>28</td>\n",
              "      <td>0</td>\n",
              "      <td>0</td>\n",
              "      <td>11</td>\n",
              "      <td>2</td>\n",
              "    </tr>\n",
              "    <tr>\n",
              "      <th>848832</th>\n",
              "      <td>848832</td>\n",
              "      <td>1991-09-30 11:40:00</td>\n",
              "      <td>2</td>\n",
              "      <td>3</td>\n",
              "      <td>SB</td>\n",
              "      <td>68</td>\n",
              "      <td>0</td>\n",
              "      <td>0</td>\n",
              "      <td>11</td>\n",
              "      <td>2</td>\n",
              "    </tr>\n",
              "    <tr>\n",
              "      <th>848833</th>\n",
              "      <td>848833</td>\n",
              "      <td>1991-09-30 11:40:00</td>\n",
              "      <td>2</td>\n",
              "      <td>3</td>\n",
              "      <td>SW</td>\n",
              "      <td>17</td>\n",
              "      <td>0</td>\n",
              "      <td>0</td>\n",
              "      <td>11</td>\n",
              "      <td>2</td>\n",
              "    </tr>\n",
              "    <tr>\n",
              "      <th>848834</th>\n",
              "      <td>848834</td>\n",
              "      <td>1991-09-30 11:40:00</td>\n",
              "      <td>2</td>\n",
              "      <td>3</td>\n",
              "      <td>WB</td>\n",
              "      <td>24</td>\n",
              "      <td>0</td>\n",
              "      <td>0</td>\n",
              "      <td>11</td>\n",
              "      <td>2</td>\n",
              "    </tr>\n",
              "  </tbody>\n",
              "</table>\n",
              "<p>848835 rows × 10 columns</p>\n",
              "</div>\n",
              "      <button class=\"colab-df-convert\" onclick=\"convertToInteractive('df-f0bf00ad-bf2b-4077-ba14-514394e514cc')\"\n",
              "              title=\"Convert this dataframe to an interactive table.\"\n",
              "              style=\"display:none;\">\n",
              "        \n",
              "  <svg xmlns=\"http://www.w3.org/2000/svg\" height=\"24px\"viewBox=\"0 0 24 24\"\n",
              "       width=\"24px\">\n",
              "    <path d=\"M0 0h24v24H0V0z\" fill=\"none\"/>\n",
              "    <path d=\"M18.56 5.44l.94 2.06.94-2.06 2.06-.94-2.06-.94-.94-2.06-.94 2.06-2.06.94zm-11 1L8.5 8.5l.94-2.06 2.06-.94-2.06-.94L8.5 2.5l-.94 2.06-2.06.94zm10 10l.94 2.06.94-2.06 2.06-.94-2.06-.94-.94-2.06-.94 2.06-2.06.94z\"/><path d=\"M17.41 7.96l-1.37-1.37c-.4-.4-.92-.59-1.43-.59-.52 0-1.04.2-1.43.59L10.3 9.45l-7.72 7.72c-.78.78-.78 2.05 0 2.83L4 21.41c.39.39.9.59 1.41.59.51 0 1.02-.2 1.41-.59l7.78-7.78 2.81-2.81c.8-.78.8-2.07 0-2.86zM5.41 20L4 18.59l7.72-7.72 1.47 1.35L5.41 20z\"/>\n",
              "  </svg>\n",
              "      </button>\n",
              "      \n",
              "  <style>\n",
              "    .colab-df-container {\n",
              "      display:flex;\n",
              "      flex-wrap:wrap;\n",
              "      gap: 12px;\n",
              "    }\n",
              "\n",
              "    .colab-df-convert {\n",
              "      background-color: #E8F0FE;\n",
              "      border: none;\n",
              "      border-radius: 50%;\n",
              "      cursor: pointer;\n",
              "      display: none;\n",
              "      fill: #1967D2;\n",
              "      height: 32px;\n",
              "      padding: 0 0 0 0;\n",
              "      width: 32px;\n",
              "    }\n",
              "\n",
              "    .colab-df-convert:hover {\n",
              "      background-color: #E2EBFA;\n",
              "      box-shadow: 0px 1px 2px rgba(60, 64, 67, 0.3), 0px 1px 3px 1px rgba(60, 64, 67, 0.15);\n",
              "      fill: #174EA6;\n",
              "    }\n",
              "\n",
              "    [theme=dark] .colab-df-convert {\n",
              "      background-color: #3B4455;\n",
              "      fill: #D2E3FC;\n",
              "    }\n",
              "\n",
              "    [theme=dark] .colab-df-convert:hover {\n",
              "      background-color: #434B5C;\n",
              "      box-shadow: 0px 1px 3px 1px rgba(0, 0, 0, 0.15);\n",
              "      filter: drop-shadow(0px 1px 2px rgba(0, 0, 0, 0.3));\n",
              "      fill: #FFFFFF;\n",
              "    }\n",
              "  </style>\n",
              "\n",
              "      <script>\n",
              "        const buttonEl =\n",
              "          document.querySelector('#df-f0bf00ad-bf2b-4077-ba14-514394e514cc button.colab-df-convert');\n",
              "        buttonEl.style.display =\n",
              "          google.colab.kernel.accessAllowed ? 'block' : 'none';\n",
              "\n",
              "        async function convertToInteractive(key) {\n",
              "          const element = document.querySelector('#df-f0bf00ad-bf2b-4077-ba14-514394e514cc');\n",
              "          const dataTable =\n",
              "            await google.colab.kernel.invokeFunction('convertToInteractive',\n",
              "                                                     [key], {});\n",
              "          if (!dataTable) return;\n",
              "\n",
              "          const docLinkHtml = 'Like what you see? Visit the ' +\n",
              "            '<a target=\"_blank\" href=https://colab.research.google.com/notebooks/data_table.ipynb>data table notebook</a>'\n",
              "            + ' to learn more about interactive tables.';\n",
              "          element.innerHTML = '';\n",
              "          dataTable['output_type'] = 'display_data';\n",
              "          await google.colab.output.renderOutput(dataTable, element);\n",
              "          const docLink = document.createElement('div');\n",
              "          docLink.innerHTML = docLinkHtml;\n",
              "          element.appendChild(docLink);\n",
              "        }\n",
              "      </script>\n",
              "    </div>\n",
              "  </div>\n",
              "  "
            ]
          },
          "metadata": {},
          "execution_count": 6
        }
      ]
    },
    {
      "cell_type": "code",
      "source": [
        "test_pd"
      ],
      "metadata": {
        "colab": {
          "base_uri": "https://localhost:8080/",
          "height": 424
        },
        "id": "nrapNCgYUvKB",
        "outputId": "86a89a2d-154f-498e-f6d3-97f26cba4339"
      },
      "execution_count": null,
      "outputs": [
        {
          "output_type": "execute_result",
          "data": {
            "text/plain": [
              "      row_id                time  x  y direction  day  weekend  hour  \\\n",
              "0     848835 1991-09-30 12:00:00  0  0        EB    0        0    12   \n",
              "1     848836 1991-09-30 12:00:00  0  0        NB    0        0    12   \n",
              "2     848837 1991-09-30 12:00:00  0  0        SB    0        0    12   \n",
              "3     848838 1991-09-30 12:00:00  0  1        EB    0        0    12   \n",
              "4     848839 1991-09-30 12:00:00  0  1        NB    0        0    12   \n",
              "...      ...                 ... .. ..       ...  ...      ...   ...   \n",
              "2335  851170 1991-09-30 23:40:00  2  3        NB    0        0    23   \n",
              "2336  851171 1991-09-30 23:40:00  2  3        NE    0        0    23   \n",
              "2337  851172 1991-09-30 23:40:00  2  3        SB    0        0    23   \n",
              "2338  851173 1991-09-30 23:40:00  2  3        SW    0        0    23   \n",
              "2339  851174 1991-09-30 23:40:00  2  3        WB    0        0    23   \n",
              "\n",
              "      hour_part  \n",
              "0             0  \n",
              "1             0  \n",
              "2             0  \n",
              "3             0  \n",
              "4             0  \n",
              "...         ...  \n",
              "2335          2  \n",
              "2336          2  \n",
              "2337          2  \n",
              "2338          2  \n",
              "2339          2  \n",
              "\n",
              "[2340 rows x 9 columns]"
            ],
            "text/html": [
              "\n",
              "  <div id=\"df-05f49de2-e5d2-4b32-a2ab-a8b2fdef433c\">\n",
              "    <div class=\"colab-df-container\">\n",
              "      <div>\n",
              "<style scoped>\n",
              "    .dataframe tbody tr th:only-of-type {\n",
              "        vertical-align: middle;\n",
              "    }\n",
              "\n",
              "    .dataframe tbody tr th {\n",
              "        vertical-align: top;\n",
              "    }\n",
              "\n",
              "    .dataframe thead th {\n",
              "        text-align: right;\n",
              "    }\n",
              "</style>\n",
              "<table border=\"1\" class=\"dataframe\">\n",
              "  <thead>\n",
              "    <tr style=\"text-align: right;\">\n",
              "      <th></th>\n",
              "      <th>row_id</th>\n",
              "      <th>time</th>\n",
              "      <th>x</th>\n",
              "      <th>y</th>\n",
              "      <th>direction</th>\n",
              "      <th>day</th>\n",
              "      <th>weekend</th>\n",
              "      <th>hour</th>\n",
              "      <th>hour_part</th>\n",
              "    </tr>\n",
              "  </thead>\n",
              "  <tbody>\n",
              "    <tr>\n",
              "      <th>0</th>\n",
              "      <td>848835</td>\n",
              "      <td>1991-09-30 12:00:00</td>\n",
              "      <td>0</td>\n",
              "      <td>0</td>\n",
              "      <td>EB</td>\n",
              "      <td>0</td>\n",
              "      <td>0</td>\n",
              "      <td>12</td>\n",
              "      <td>0</td>\n",
              "    </tr>\n",
              "    <tr>\n",
              "      <th>1</th>\n",
              "      <td>848836</td>\n",
              "      <td>1991-09-30 12:00:00</td>\n",
              "      <td>0</td>\n",
              "      <td>0</td>\n",
              "      <td>NB</td>\n",
              "      <td>0</td>\n",
              "      <td>0</td>\n",
              "      <td>12</td>\n",
              "      <td>0</td>\n",
              "    </tr>\n",
              "    <tr>\n",
              "      <th>2</th>\n",
              "      <td>848837</td>\n",
              "      <td>1991-09-30 12:00:00</td>\n",
              "      <td>0</td>\n",
              "      <td>0</td>\n",
              "      <td>SB</td>\n",
              "      <td>0</td>\n",
              "      <td>0</td>\n",
              "      <td>12</td>\n",
              "      <td>0</td>\n",
              "    </tr>\n",
              "    <tr>\n",
              "      <th>3</th>\n",
              "      <td>848838</td>\n",
              "      <td>1991-09-30 12:00:00</td>\n",
              "      <td>0</td>\n",
              "      <td>1</td>\n",
              "      <td>EB</td>\n",
              "      <td>0</td>\n",
              "      <td>0</td>\n",
              "      <td>12</td>\n",
              "      <td>0</td>\n",
              "    </tr>\n",
              "    <tr>\n",
              "      <th>4</th>\n",
              "      <td>848839</td>\n",
              "      <td>1991-09-30 12:00:00</td>\n",
              "      <td>0</td>\n",
              "      <td>1</td>\n",
              "      <td>NB</td>\n",
              "      <td>0</td>\n",
              "      <td>0</td>\n",
              "      <td>12</td>\n",
              "      <td>0</td>\n",
              "    </tr>\n",
              "    <tr>\n",
              "      <th>...</th>\n",
              "      <td>...</td>\n",
              "      <td>...</td>\n",
              "      <td>...</td>\n",
              "      <td>...</td>\n",
              "      <td>...</td>\n",
              "      <td>...</td>\n",
              "      <td>...</td>\n",
              "      <td>...</td>\n",
              "      <td>...</td>\n",
              "    </tr>\n",
              "    <tr>\n",
              "      <th>2335</th>\n",
              "      <td>851170</td>\n",
              "      <td>1991-09-30 23:40:00</td>\n",
              "      <td>2</td>\n",
              "      <td>3</td>\n",
              "      <td>NB</td>\n",
              "      <td>0</td>\n",
              "      <td>0</td>\n",
              "      <td>23</td>\n",
              "      <td>2</td>\n",
              "    </tr>\n",
              "    <tr>\n",
              "      <th>2336</th>\n",
              "      <td>851171</td>\n",
              "      <td>1991-09-30 23:40:00</td>\n",
              "      <td>2</td>\n",
              "      <td>3</td>\n",
              "      <td>NE</td>\n",
              "      <td>0</td>\n",
              "      <td>0</td>\n",
              "      <td>23</td>\n",
              "      <td>2</td>\n",
              "    </tr>\n",
              "    <tr>\n",
              "      <th>2337</th>\n",
              "      <td>851172</td>\n",
              "      <td>1991-09-30 23:40:00</td>\n",
              "      <td>2</td>\n",
              "      <td>3</td>\n",
              "      <td>SB</td>\n",
              "      <td>0</td>\n",
              "      <td>0</td>\n",
              "      <td>23</td>\n",
              "      <td>2</td>\n",
              "    </tr>\n",
              "    <tr>\n",
              "      <th>2338</th>\n",
              "      <td>851173</td>\n",
              "      <td>1991-09-30 23:40:00</td>\n",
              "      <td>2</td>\n",
              "      <td>3</td>\n",
              "      <td>SW</td>\n",
              "      <td>0</td>\n",
              "      <td>0</td>\n",
              "      <td>23</td>\n",
              "      <td>2</td>\n",
              "    </tr>\n",
              "    <tr>\n",
              "      <th>2339</th>\n",
              "      <td>851174</td>\n",
              "      <td>1991-09-30 23:40:00</td>\n",
              "      <td>2</td>\n",
              "      <td>3</td>\n",
              "      <td>WB</td>\n",
              "      <td>0</td>\n",
              "      <td>0</td>\n",
              "      <td>23</td>\n",
              "      <td>2</td>\n",
              "    </tr>\n",
              "  </tbody>\n",
              "</table>\n",
              "<p>2340 rows × 9 columns</p>\n",
              "</div>\n",
              "      <button class=\"colab-df-convert\" onclick=\"convertToInteractive('df-05f49de2-e5d2-4b32-a2ab-a8b2fdef433c')\"\n",
              "              title=\"Convert this dataframe to an interactive table.\"\n",
              "              style=\"display:none;\">\n",
              "        \n",
              "  <svg xmlns=\"http://www.w3.org/2000/svg\" height=\"24px\"viewBox=\"0 0 24 24\"\n",
              "       width=\"24px\">\n",
              "    <path d=\"M0 0h24v24H0V0z\" fill=\"none\"/>\n",
              "    <path d=\"M18.56 5.44l.94 2.06.94-2.06 2.06-.94-2.06-.94-.94-2.06-.94 2.06-2.06.94zm-11 1L8.5 8.5l.94-2.06 2.06-.94-2.06-.94L8.5 2.5l-.94 2.06-2.06.94zm10 10l.94 2.06.94-2.06 2.06-.94-2.06-.94-.94-2.06-.94 2.06-2.06.94z\"/><path d=\"M17.41 7.96l-1.37-1.37c-.4-.4-.92-.59-1.43-.59-.52 0-1.04.2-1.43.59L10.3 9.45l-7.72 7.72c-.78.78-.78 2.05 0 2.83L4 21.41c.39.39.9.59 1.41.59.51 0 1.02-.2 1.41-.59l7.78-7.78 2.81-2.81c.8-.78.8-2.07 0-2.86zM5.41 20L4 18.59l7.72-7.72 1.47 1.35L5.41 20z\"/>\n",
              "  </svg>\n",
              "      </button>\n",
              "      \n",
              "  <style>\n",
              "    .colab-df-container {\n",
              "      display:flex;\n",
              "      flex-wrap:wrap;\n",
              "      gap: 12px;\n",
              "    }\n",
              "\n",
              "    .colab-df-convert {\n",
              "      background-color: #E8F0FE;\n",
              "      border: none;\n",
              "      border-radius: 50%;\n",
              "      cursor: pointer;\n",
              "      display: none;\n",
              "      fill: #1967D2;\n",
              "      height: 32px;\n",
              "      padding: 0 0 0 0;\n",
              "      width: 32px;\n",
              "    }\n",
              "\n",
              "    .colab-df-convert:hover {\n",
              "      background-color: #E2EBFA;\n",
              "      box-shadow: 0px 1px 2px rgba(60, 64, 67, 0.3), 0px 1px 3px 1px rgba(60, 64, 67, 0.15);\n",
              "      fill: #174EA6;\n",
              "    }\n",
              "\n",
              "    [theme=dark] .colab-df-convert {\n",
              "      background-color: #3B4455;\n",
              "      fill: #D2E3FC;\n",
              "    }\n",
              "\n",
              "    [theme=dark] .colab-df-convert:hover {\n",
              "      background-color: #434B5C;\n",
              "      box-shadow: 0px 1px 3px 1px rgba(0, 0, 0, 0.15);\n",
              "      filter: drop-shadow(0px 1px 2px rgba(0, 0, 0, 0.3));\n",
              "      fill: #FFFFFF;\n",
              "    }\n",
              "  </style>\n",
              "\n",
              "      <script>\n",
              "        const buttonEl =\n",
              "          document.querySelector('#df-05f49de2-e5d2-4b32-a2ab-a8b2fdef433c button.colab-df-convert');\n",
              "        buttonEl.style.display =\n",
              "          google.colab.kernel.accessAllowed ? 'block' : 'none';\n",
              "\n",
              "        async function convertToInteractive(key) {\n",
              "          const element = document.querySelector('#df-05f49de2-e5d2-4b32-a2ab-a8b2fdef433c');\n",
              "          const dataTable =\n",
              "            await google.colab.kernel.invokeFunction('convertToInteractive',\n",
              "                                                     [key], {});\n",
              "          if (!dataTable) return;\n",
              "\n",
              "          const docLinkHtml = 'Like what you see? Visit the ' +\n",
              "            '<a target=\"_blank\" href=https://colab.research.google.com/notebooks/data_table.ipynb>data table notebook</a>'\n",
              "            + ' to learn more about interactive tables.';\n",
              "          element.innerHTML = '';\n",
              "          dataTable['output_type'] = 'display_data';\n",
              "          await google.colab.output.renderOutput(dataTable, element);\n",
              "          const docLink = document.createElement('div');\n",
              "          docLink.innerHTML = docLinkHtml;\n",
              "          element.appendChild(docLink);\n",
              "        }\n",
              "      </script>\n",
              "    </div>\n",
              "  </div>\n",
              "  "
            ]
          },
          "metadata": {},
          "execution_count": 7
        }
      ]
    },
    {
      "cell_type": "code",
      "source": [
        "df = train_pd['congestion'].groupby(train_pd['date']).mean()"
      ],
      "metadata": {
        "id": "I9i4JkUbegWD"
      },
      "execution_count": null,
      "outputs": []
    },
    {
      "cell_type": "code",
      "source": [
        "plt.figure(figsize=(20,10)) \n",
        "plt.plot(df.index, df.values)\n",
        "# plt.xticks(df.index)\n",
        "plt.show()\n"
      ],
      "metadata": {
        "colab": {
          "base_uri": "https://localhost:8080/",
          "height": 592
        },
        "id": "BwItNoaUmXA9",
        "outputId": "a450a7a5-50a1-4d60-e040-3b335f6eb293"
      },
      "execution_count": null,
      "outputs": [
        {
          "output_type": "display_data",
          "data": {
            "text/plain": [
              "<Figure size 1440x720 with 1 Axes>"
            ],
            "image/png": "[encoded data removed]"
          },
          "metadata": {
            "needs_background": "light"
          }
        }
      ]
    },
    {
      "cell_type": "code",
      "source": [
        "df1 = train_pd['congestion'].groupby(train_pd['day']).mean()"
      ],
      "metadata": {
        "id": "5BMruIaTazop"
      },
      "execution_count": null,
      "outputs": []
    },
    {
      "cell_type": "code",
      "source": [
        "plt.figure(figsize=(20,10)) \n",
        "plt.plot(df1.index, df1.values)\n",
        "# plt.xticks(df.index)\n",
        "plt.show()\n"
      ],
      "metadata": {
        "colab": {
          "base_uri": "https://localhost:8080/",
          "height": 592
        },
        "id": "NhIFTvEcfAVd",
        "outputId": "ae008edb-cbe6-4b85-9511-c9263f8761ee"
      },
      "execution_count": null,
      "outputs": [
        {
          "output_type": "display_data",
          "data": {
            "text/plain": [
              "<Figure size 1440x720 with 1 Axes>"
            ],
            "image/png": "[encoded data removed]"
          },
          "metadata": {
            "needs_background": "light"
          }
        }
      ]
    },
    {
      "cell_type": "code",
      "source": [
        "df2 = train_pd['congestion'].groupby(train_pd['hour']).mean()"
      ],
      "metadata": {
        "id": "kfZ55xjfeFzA"
      },
      "execution_count": null,
      "outputs": []
    },
    {
      "cell_type": "code",
      "source": [
        "plt.figure(figsize=(20,10))\n",
        "plt.plot(df2.index, df2.values)\n",
        "plt.xticks(df2.index)\n",
        "plt.show()\n"
      ],
      "metadata": {
        "colab": {
          "base_uri": "https://localhost:8080/",
          "height": 592
        },
        "id": "Ye9dsPcgfPJs",
        "outputId": "4adba925-66d7-4924-ec35-85e70e1b6361"
      },
      "execution_count": null,
      "outputs": [
        {
          "output_type": "display_data",
          "data": {
            "text/plain": [
              "<Figure size 1440x720 with 1 Axes>"
            ],
            "image/png": "[encoded data removed]"
          },
          "metadata": {
            "needs_background": "light"
          }
        }
      ]
    },
    {
      "cell_type": "code",
      "source": [
        "df4 = train_pd[train_pd['weekend']==1]['congestion'].groupby(train_pd['hour']).mean()"
      ],
      "metadata": {
        "id": "xYLjFeHOjkAE"
      },
      "execution_count": null,
      "outputs": []
    },
    {
      "cell_type": "code",
      "source": [
        "plt.figure(figsize=(20,10)) \n",
        "plt.bar(df4.index, df4.values)\n",
        "plt.xticks(df4.index)\n",
        "plt.show()"
      ],
      "metadata": {
        "colab": {
          "base_uri": "https://localhost:8080/",
          "height": 592
        },
        "id": "AnSlD750joGO",
        "outputId": "d80ac63e-49b9-4192-9918-10891a349d13"
      },
      "execution_count": null,
      "outputs": [
        {
          "output_type": "display_data",
          "data": {
            "text/plain": [
              "<Figure size 1440x720 with 1 Axes>"
            ],
            "image/png": "[encoded data removed]"
          },
          "metadata": {
            "needs_background": "light"
          }
        }
      ]
    },
    {
      "cell_type": "code",
      "source": [
        "df5 = train_pd['congestion'].groupby(train_pd['month']).mean()"
      ],
      "metadata": {
        "id": "-YdG2GvIdDZV"
      },
      "execution_count": null,
      "outputs": []
    },
    {
      "cell_type": "code",
      "source": [
        "plt.figure(figsize=(20,10))\n",
        "plt.bar(df5.index, df5.values)\n",
        "plt.xticks(df5.index)\n",
        "plt.show()"
      ],
      "metadata": {
        "colab": {
          "base_uri": "https://localhost:8080/",
          "height": 592
        },
        "id": "HEJ2Z2fakCnt",
        "outputId": "f970eede-067a-42ef-9571-4e18afd3f330"
      },
      "execution_count": null,
      "outputs": [
        {
          "output_type": "display_data",
          "data": {
            "text/plain": [
              "<Figure size 1440x720 with 1 Axes>"
            ],
            "image/png": "[encoded data removed]"
          },
          "metadata": {
            "needs_background": "light"
          }
        }
      ]
    },
    {
      "cell_type": "code",
      "source": [
        "df6 = train_pd['congestion'].groupby(train_pd['direction']).mean()"
      ],
      "metadata": {
        "id": "KXY_HwT-nDi7"
      },
      "execution_count": null,
      "outputs": []
    },
    {
      "cell_type": "code",
      "source": [
        "plt.figure(figsize=(20,10))\n",
        "plt.bar(df6.index, df6.values)\n",
        "plt.xticks(df6.index)\n",
        "plt.show()"
      ],
      "metadata": {
        "colab": {
          "base_uri": "https://localhost:8080/",
          "height": 592
        },
        "id": "ZYT8YK-enHrt",
        "outputId": "91b2ef00-f165-446f-c7b1-1f66d9b6c2c8"
      },
      "execution_count": null,
      "outputs": [
        {
          "output_type": "display_data",
          "data": {
            "text/plain": [
              "<Figure size 1440x720 with 1 Axes>"
            ],
            "image/png": "[encoded data removed]"
          },
          "metadata": {
            "needs_background": "light"
          }
        }
      ]
    },
    {
      "cell_type": "code",
      "source": [
        "df7 = train_pd[(train_pd['direction']=='NW') & (train_pd['weekend']==0)]['congestion'].groupby(train_pd['hour']).mean()\n",
        "plt.figure(figsize=(20,10))\n",
        "plt.bar(df7.index, df7.values)\n",
        "plt.xticks(df7.index)\n",
        "plt.show()"
      ],
      "metadata": {
        "colab": {
          "base_uri": "https://localhost:8080/",
          "height": 592
        },
        "id": "o3clcni5njci",
        "outputId": "cb1ee8ff-a4e9-40d1-99cd-2f5e93c0b30c"
      },
      "execution_count": null,
      "outputs": [
        {
          "output_type": "display_data",
          "data": {
            "text/plain": [
              "<Figure size 1440x720 with 1 Axes>"
            ],
            "image/png": "[encoded data removed]"
          },
          "metadata": {
            "needs_background": "light"
          }
        }
      ]
    },
    {
      "cell_type": "code",
      "source": [
        "df8 = train_pd[(train_pd['direction']=='SE') & (train_pd['weekend']==0)]['congestion'].groupby(train_pd['hour']).mean()\n",
        "plt.figure(figsize=(20,10))\n",
        "plt.bar(df8.index, df8.values)\n",
        "plt.xticks(df8.index)\n",
        "plt.show()"
      ],
      "metadata": {
        "colab": {
          "base_uri": "https://localhost:8080/",
          "height": 592
        },
        "id": "UOmP800Ao83Z",
        "outputId": "a3a086b1-25dd-49c3-f04d-adae79310044"
      },
      "execution_count": null,
      "outputs": [
        {
          "output_type": "display_data",
          "data": {
            "text/plain": [
              "<Figure size 1440x720 with 1 Axes>"
            ],
            "image/png": "[encoded data removed]"
          },
          "metadata": {
            "needs_background": "light"
          }
        }
      ]
    },
    {
      "cell_type": "code",
      "source": [
        "df9 = train_pd[(train_pd['direction']=='NE') & (train_pd['weekend']==0)]['congestion'].groupby(train_pd['hour']).mean()\n",
        "plt.figure(figsize=(20,10))\n",
        "plt.bar(df9.index, df9.values)\n",
        "plt.xticks(df9.index)\n",
        "plt.show()"
      ],
      "metadata": {
        "colab": {
          "base_uri": "https://localhost:8080/",
          "height": 592
        },
        "id": "4lqoeFzppTqY",
        "outputId": "0d342ce7-b3f8-4cae-bad4-ad53659dc393"
      },
      "execution_count": null,
      "outputs": [
        {
          "output_type": "display_data",
          "data": {
            "text/plain": [
              "<Figure size 1440x720 with 1 Axes>"
            ],
            "image/png": "[encoded data removed]"
          },
          "metadata": {
            "needs_background": "light"
          }
        }
      ]
    },
    {
      "cell_type": "code",
      "source": [
        "df10 = train_pd[(train_pd['direction']=='SW') & (train_pd['weekend']==0)]['congestion'].groupby(train_pd['hour']).mean()\n",
        "plt.figure(figsize=(20,10))\n",
        "plt.bar(df10.index, df10.values)\n",
        "plt.xticks(df10.index)\n",
        "plt.show()"
      ],
      "metadata": {
        "colab": {
          "base_uri": "https://localhost:8080/",
          "height": 592
        },
        "id": "3XFXbf7apvAu",
        "outputId": "576104ba-8d06-489c-dc5d-8a4bcfaa5821"
      },
      "execution_count": null,
      "outputs": [
        {
          "output_type": "display_data",
          "data": {
            "text/plain": [
              "<Figure size 1440x720 with 1 Axes>"
            ],
            "image/png": "[encoded data removed]"
          },
          "metadata": {
            "needs_background": "light"
          }
        }
      ]
    },
    {
      "cell_type": "code",
      "source": [
        "dircn = pd.get_dummies(train_pd['direction'], prefix='direction')\n",
        "x = pd.get_dummies(train_pd['x'], prefix='x')\n",
        "y = pd.get_dummies(train_pd['y'], prefix='y')\n",
        "# month = pd.get_dummies(train_pd['month'], prefix='month')\n",
        "hour_part = pd.get_dummies(train_pd['hour_part'], prefix='hour_part')\n",
        "day = pd.get_dummies(train_pd['day'], prefix='day')\n",
        "# day_month = pd.get_dummies(train_pd['day_month'], prefix='day_month')\n",
        "hour = pd.get_dummies(train_pd['hour'], prefix='hour')\n",
        "\n",
        "train_pd = train_pd.drop(['direction'], axis=1)\n",
        "train_pd = train_pd.drop(['x'], axis=1)\n",
        "train_pd = train_pd.drop(['y'], axis=1)\n",
        "# train_pd = train_pd.drop(['month'], axis=1)\n",
        "train_pd = train_pd.drop(['hour_part'], axis=1)\n",
        "train_pd = train_pd.drop(['day'], axis=1)\n",
        "# train_pd = train_pd.drop(['day_month'], axis=1)\n",
        "train_pd = train_pd.drop(['hour'], axis=1)\n",
        "\n",
        "train_pd = pd.concat([train_pd, dircn], axis=1)\n",
        "train_pd = pd.concat([train_pd, x], axis=1)\n",
        "train_pd = pd.concat([train_pd, y], axis=1)\n",
        "# train_pd = pd.concat([train_pd, month], axis=1)\n",
        "train_pd = pd.concat([train_pd, hour_part], axis=1)\n",
        "train_pd = pd.concat([train_pd, day], axis=1)\n",
        "# train_pd = pd.concat([train_pd, day_month], axis=1)\n",
        "train_pd = pd.concat([train_pd, hour], axis=1)"
      ],
      "metadata": {
        "id": "0wuV6qlW-Y60"
      },
      "execution_count": 10,
      "outputs": []
    },
    {
      "cell_type": "code",
      "source": [
        "dircn = pd.get_dummies(test_pd['direction'], prefix='direction')\n",
        "x = pd.get_dummies(test_pd['x'], prefix='x')\n",
        "y = pd.get_dummies(test_pd['y'], prefix='y')\n",
        "# month = pd.get_dummies(test_pd['month'], prefix='month')\n",
        "hour_part = pd.get_dummies(test_pd['hour_part'], prefix='hour_part')\n",
        "day = pd.get_dummies(test_pd['day'], prefix='day')\n",
        "# day_month = pd.get_dummies(test_pd['day_month'], prefix='day_month')\n",
        "hour = pd.get_dummies(test_pd['hour'], prefix='hour')\n",
        "\n",
        "test_pd = test_pd.drop(['direction'], axis=1)\n",
        "test_pd = test_pd.drop(['x'], axis=1)\n",
        "test_pd = test_pd.drop(['y'], axis=1)\n",
        "# test_pd = test_pd.drop(['month'], axis=1)\n",
        "test_pd = test_pd.drop(['hour_part'], axis=1)\n",
        "test_pd = test_pd.drop(['day'], axis=1)\n",
        "# test_pd = test_pd.drop(['day_month'], axis=1)\n",
        "test_pd = test_pd.drop(['hour'], axis=1)\n",
        "\n",
        "test_pd = pd.concat([test_pd, dircn], axis=1)\n",
        "test_pd = pd.concat([test_pd, x], axis=1)\n",
        "test_pd = pd.concat([test_pd, y], axis=1)\n",
        "# test_pd = pd.concat([test_pd, month], axis=1)\n",
        "test_pd = pd.concat([test_pd, hour_part], axis=1)\n",
        "test_pd = pd.concat([test_pd, day], axis=1)\n",
        "# test_pd = pd.concat([test_pd, day_month], axis=1)\n",
        "test_pd = pd.concat([test_pd, hour], axis=1)\n",
        "# months = ['month_4', 'month_5', 'month_6', 'month_7', 'month_8']\n",
        "# for month in reversed(months):\n",
        "#   test_pd.insert(19, month, 0)\n",
        "\n",
        "days = ['day_1', 'day_2', 'day_3', 'day_4', 'day_5', 'day_6']\n",
        "\n",
        "# days_month = ['day_month_1', 'day_month_2', 'day_month_3', 'day_month_4',\n",
        "#               'day_month_5', 'day_month_6', 'day_month_7', 'day_month_8',\n",
        "#               'day_month_9', 'day_month_10', 'day_month_11', 'day_month_12',\n",
        "#               'day_month_13', 'day_month_14', 'day_month_15', 'day_month_16',\n",
        "#               'day_month_17', 'day_month_18', 'day_month_19', 'day_month_20',\n",
        "#               'day_month_21', 'day_month_22', 'day_month_23', 'day_month_24',\n",
        "#               'day_month_25', 'day_month_26', 'day_month_27', 'day_month_28',\n",
        "#               'day_month_29']#, 'day_month_31']\n",
        "\n",
        "hours = ['hour_0', 'hour_1', 'hour_2', 'hour_3', 'hour_4', 'hour_5', 'hour_6',\n",
        "         'hour_7', 'hour_8', 'hour_9', 'hour_10', 'hour_11']\n",
        "\n",
        "for d in reversed(days):\n",
        "  test_pd.insert(22, d, 0)\n",
        "# test_pd.insert(36, 'day_month_31', 0)\n",
        "# for dm in reversed(days_month):\n",
        "#   test_pd.insert(35, dm, 0)\n",
        "for h in reversed(hours):\n",
        "  test_pd.insert(28, h, 0)"
      ],
      "metadata": {
        "id": "0yWRZK89_nCh"
      },
      "execution_count": 11,
      "outputs": []
    },
    {
      "cell_type": "code",
      "source": [
        "test_pd.info()"
      ],
      "metadata": {
        "colab": {
          "base_uri": "https://localhost:8080/"
        },
        "id": "4aLc2EzfZx4Y",
        "outputId": "bd9c657b-82bf-4335-b2b4-47dd98a477b0"
      },
      "execution_count": null,
      "outputs": [
        {
          "output_type": "stream",
          "name": "stdout",
          "text": [
            "<class 'pandas.core.frame.DataFrame'>\n",
            "Int64Index: 2340 entries, 0 to 2339\n",
            "Data columns (total 52 columns):\n",
            " #   Column        Non-Null Count  Dtype         \n",
            "---  ------        --------------  -----         \n",
            " 0   row_id        2340 non-null   int64         \n",
            " 1   time          2340 non-null   datetime64[ns]\n",
            " 2   weekend       2340 non-null   uint8         \n",
            " 3   direction_EB  2340 non-null   uint8         \n",
            " 4   direction_NB  2340 non-null   uint8         \n",
            " 5   direction_NE  2340 non-null   uint8         \n",
            " 6   direction_NW  2340 non-null   uint8         \n",
            " 7   direction_SB  2340 non-null   uint8         \n",
            " 8   direction_SE  2340 non-null   uint8         \n",
            " 9   direction_SW  2340 non-null   uint8         \n",
            " 10  direction_WB  2340 non-null   uint8         \n",
            " 11  x_0           2340 non-null   uint8         \n",
            " 12  x_1           2340 non-null   uint8         \n",
            " 13  x_2           2340 non-null   uint8         \n",
            " 14  y_0           2340 non-null   uint8         \n",
            " 15  y_1           2340 non-null   uint8         \n",
            " 16  y_2           2340 non-null   uint8         \n",
            " 17  y_3           2340 non-null   uint8         \n",
            " 18  hour_part_0   2340 non-null   uint8         \n",
            " 19  hour_part_1   2340 non-null   uint8         \n",
            " 20  hour_part_2   2340 non-null   uint8         \n",
            " 21  day_0         2340 non-null   uint8         \n",
            " 22  day_1         2340 non-null   int64         \n",
            " 23  day_2         2340 non-null   int64         \n",
            " 24  day_3         2340 non-null   int64         \n",
            " 25  day_4         2340 non-null   int64         \n",
            " 26  day_5         2340 non-null   int64         \n",
            " 27  day_6         2340 non-null   int64         \n",
            " 28  hour_0        2340 non-null   int64         \n",
            " 29  hour_1        2340 non-null   int64         \n",
            " 30  hour_2        2340 non-null   int64         \n",
            " 31  hour_3        2340 non-null   int64         \n",
            " 32  hour_4        2340 non-null   int64         \n",
            " 33  hour_5        2340 non-null   int64         \n",
            " 34  hour_6        2340 non-null   int64         \n",
            " 35  hour_7        2340 non-null   int64         \n",
            " 36  hour_8        2340 non-null   int64         \n",
            " 37  hour_9        2340 non-null   int64         \n",
            " 38  hour_10       2340 non-null   int64         \n",
            " 39  hour_11       2340 non-null   int64         \n",
            " 40  hour_12       2340 non-null   uint8         \n",
            " 41  hour_13       2340 non-null   uint8         \n",
            " 42  hour_14       2340 non-null   uint8         \n",
            " 43  hour_15       2340 non-null   uint8         \n",
            " 44  hour_16       2340 non-null   uint8         \n",
            " 45  hour_17       2340 non-null   uint8         \n",
            " 46  hour_18       2340 non-null   uint8         \n",
            " 47  hour_19       2340 non-null   uint8         \n",
            " 48  hour_20       2340 non-null   uint8         \n",
            " 49  hour_21       2340 non-null   uint8         \n",
            " 50  hour_22       2340 non-null   uint8         \n",
            " 51  hour_23       2340 non-null   uint8         \n",
            "dtypes: datetime64[ns](1), int64(19), uint8(32)\n",
            "memory usage: 457.0 KB\n"
          ]
        }
      ]
    },
    {
      "cell_type": "code",
      "source": [
        "train_pd.info()"
      ],
      "metadata": {
        "colab": {
          "base_uri": "https://localhost:8080/"
        },
        "id": "t-jJiHtLpc1N",
        "outputId": "cec3f52a-b5b6-4f81-fce4-108c85262e0d"
      },
      "execution_count": null,
      "outputs": [
        {
          "output_type": "stream",
          "name": "stdout",
          "text": [
            "<class 'pandas.core.frame.DataFrame'>\n",
            "Int64Index: 848835 entries, 0 to 848834\n",
            "Data columns (total 53 columns):\n",
            " #   Column        Non-Null Count   Dtype         \n",
            "---  ------        --------------   -----         \n",
            " 0   row_id        848835 non-null  int64         \n",
            " 1   time          848835 non-null  datetime64[ns]\n",
            " 2   congestion    848835 non-null  int64         \n",
            " 3   weekend       848835 non-null  uint8         \n",
            " 4   direction_EB  848835 non-null  uint8         \n",
            " 5   direction_NB  848835 non-null  uint8         \n",
            " 6   direction_NE  848835 non-null  uint8         \n",
            " 7   direction_NW  848835 non-null  uint8         \n",
            " 8   direction_SB  848835 non-null  uint8         \n",
            " 9   direction_SE  848835 non-null  uint8         \n",
            " 10  direction_SW  848835 non-null  uint8         \n",
            " 11  direction_WB  848835 non-null  uint8         \n",
            " 12  x_0           848835 non-null  uint8         \n",
            " 13  x_1           848835 non-null  uint8         \n",
            " 14  x_2           848835 non-null  uint8         \n",
            " 15  y_0           848835 non-null  uint8         \n",
            " 16  y_1           848835 non-null  uint8         \n",
            " 17  y_2           848835 non-null  uint8         \n",
            " 18  y_3           848835 non-null  uint8         \n",
            " 19  hour_part_0   848835 non-null  uint8         \n",
            " 20  hour_part_1   848835 non-null  uint8         \n",
            " 21  hour_part_2   848835 non-null  uint8         \n",
            " 22  day_0         848835 non-null  uint8         \n",
            " 23  day_1         848835 non-null  uint8         \n",
            " 24  day_2         848835 non-null  uint8         \n",
            " 25  day_3         848835 non-null  uint8         \n",
            " 26  day_4         848835 non-null  uint8         \n",
            " 27  day_5         848835 non-null  uint8         \n",
            " 28  day_6         848835 non-null  uint8         \n",
            " 29  hour_0        848835 non-null  uint8         \n",
            " 30  hour_1        848835 non-null  uint8         \n",
            " 31  hour_2        848835 non-null  uint8         \n",
            " 32  hour_3        848835 non-null  uint8         \n",
            " 33  hour_4        848835 non-null  uint8         \n",
            " 34  hour_5        848835 non-null  uint8         \n",
            " 35  hour_6        848835 non-null  uint8         \n",
            " 36  hour_7        848835 non-null  uint8         \n",
            " 37  hour_8        848835 non-null  uint8         \n",
            " 38  hour_9        848835 non-null  uint8         \n",
            " 39  hour_10       848835 non-null  uint8         \n",
            " 40  hour_11       848835 non-null  uint8         \n",
            " 41  hour_12       848835 non-null  uint8         \n",
            " 42  hour_13       848835 non-null  uint8         \n",
            " 43  hour_14       848835 non-null  uint8         \n",
            " 44  hour_15       848835 non-null  uint8         \n",
            " 45  hour_16       848835 non-null  uint8         \n",
            " 46  hour_17       848835 non-null  uint8         \n",
            " 47  hour_18       848835 non-null  uint8         \n",
            " 48  hour_19       848835 non-null  uint8         \n",
            " 49  hour_20       848835 non-null  uint8         \n",
            " 50  hour_21       848835 non-null  uint8         \n",
            " 51  hour_22       848835 non-null  uint8         \n",
            " 52  hour_23       848835 non-null  uint8         \n",
            "dtypes: datetime64[ns](1), int64(2), uint8(50)\n",
            "memory usage: 66.4 MB\n"
          ]
        }
      ]
    },
    {
      "cell_type": "code",
      "source": [
        "X = train_pd[train_pd.columns.difference(['row_id', 'time', 'congestion'])].copy()\n",
        "y = train_pd[['congestion']].copy()\n",
        "\n",
        "X_test = test_pd[test_pd.columns.difference(['row_id', 'time'])].copy()"
      ],
      "metadata": {
        "id": "9VQg9fMkZGBk"
      },
      "execution_count": 12,
      "outputs": []
    },
    {
      "cell_type": "code",
      "source": [
        "train_test_split = datetime.strptime('1991-09-23 12:00:00', '%Y-%m-%d %H:%M:%S')"
      ],
      "metadata": {
        "id": "46LFdwvYRxIM"
      },
      "execution_count": 14,
      "outputs": []
    },
    {
      "cell_type": "code",
      "source": [
        "train_pd[['time','day_0']].iloc[848834-32629:848834-32629+2340,:]"
      ],
      "metadata": {
        "colab": {
          "base_uri": "https://localhost:8080/",
          "height": 424
        },
        "id": "UcJD3kwteNEG",
        "outputId": "a875a670-8f18-47e6-bf5a-4fd9dff680db"
      },
      "execution_count": null,
      "outputs": [
        {
          "output_type": "execute_result",
          "data": {
            "text/plain": [
              "                      time  day_0\n",
              "816205 1991-09-23 12:00:00      1\n",
              "816206 1991-09-23 12:00:00      1\n",
              "816207 1991-09-23 12:00:00      1\n",
              "816208 1991-09-23 12:00:00      1\n",
              "816209 1991-09-23 12:00:00      1\n",
              "...                    ...    ...\n",
              "818540 1991-09-23 23:40:00      1\n",
              "818541 1991-09-23 23:40:00      1\n",
              "818542 1991-09-23 23:40:00      1\n",
              "818543 1991-09-23 23:40:00      1\n",
              "818544 1991-09-23 23:40:00      1\n",
              "\n",
              "[2340 rows x 2 columns]"
            ],
            "text/html": [
              "\n",
              "  <div id=\"df-eedb4c84-6b2d-4b7a-8e21-2050b926d4b5\">\n",
              "    <div class=\"colab-df-container\">\n",
              "      <div>\n",
              "<style scoped>\n",
              "    .dataframe tbody tr th:only-of-type {\n",
              "        vertical-align: middle;\n",
              "    }\n",
              "\n",
              "    .dataframe tbody tr th {\n",
              "        vertical-align: top;\n",
              "    }\n",
              "\n",
              "    .dataframe thead th {\n",
              "        text-align: right;\n",
              "    }\n",
              "</style>\n",
              "<table border=\"1\" class=\"dataframe\">\n",
              "  <thead>\n",
              "    <tr style=\"text-align: right;\">\n",
              "      <th></th>\n",
              "      <th>time</th>\n",
              "      <th>day_0</th>\n",
              "    </tr>\n",
              "  </thead>\n",
              "  <tbody>\n",
              "    <tr>\n",
              "      <th>816205</th>\n",
              "      <td>1991-09-23 12:00:00</td>\n",
              "      <td>1</td>\n",
              "    </tr>\n",
              "    <tr>\n",
              "      <th>816206</th>\n",
              "      <td>1991-09-23 12:00:00</td>\n",
              "      <td>1</td>\n",
              "    </tr>\n",
              "    <tr>\n",
              "      <th>816207</th>\n",
              "      <td>1991-09-23 12:00:00</td>\n",
              "      <td>1</td>\n",
              "    </tr>\n",
              "    <tr>\n",
              "      <th>816208</th>\n",
              "      <td>1991-09-23 12:00:00</td>\n",
              "      <td>1</td>\n",
              "    </tr>\n",
              "    <tr>\n",
              "      <th>816209</th>\n",
              "      <td>1991-09-23 12:00:00</td>\n",
              "      <td>1</td>\n",
              "    </tr>\n",
              "    <tr>\n",
              "      <th>...</th>\n",
              "      <td>...</td>\n",
              "      <td>...</td>\n",
              "    </tr>\n",
              "    <tr>\n",
              "      <th>818540</th>\n",
              "      <td>1991-09-23 23:40:00</td>\n",
              "      <td>1</td>\n",
              "    </tr>\n",
              "    <tr>\n",
              "      <th>818541</th>\n",
              "      <td>1991-09-23 23:40:00</td>\n",
              "      <td>1</td>\n",
              "    </tr>\n",
              "    <tr>\n",
              "      <th>818542</th>\n",
              "      <td>1991-09-23 23:40:00</td>\n",
              "      <td>1</td>\n",
              "    </tr>\n",
              "    <tr>\n",
              "      <th>818543</th>\n",
              "      <td>1991-09-23 23:40:00</td>\n",
              "      <td>1</td>\n",
              "    </tr>\n",
              "    <tr>\n",
              "      <th>818544</th>\n",
              "      <td>1991-09-23 23:40:00</td>\n",
              "      <td>1</td>\n",
              "    </tr>\n",
              "  </tbody>\n",
              "</table>\n",
              "<p>2340 rows × 2 columns</p>\n",
              "</div>\n",
              "      <button class=\"colab-df-convert\" onclick=\"convertToInteractive('df-eedb4c84-6b2d-4b7a-8e21-2050b926d4b5')\"\n",
              "              title=\"Convert this dataframe to an interactive table.\"\n",
              "              style=\"display:none;\">\n",
              "        \n",
              "  <svg xmlns=\"http://www.w3.org/2000/svg\" height=\"24px\"viewBox=\"0 0 24 24\"\n",
              "       width=\"24px\">\n",
              "    <path d=\"M0 0h24v24H0V0z\" fill=\"none\"/>\n",
              "    <path d=\"M18.56 5.44l.94 2.06.94-2.06 2.06-.94-2.06-.94-.94-2.06-.94 2.06-2.06.94zm-11 1L8.5 8.5l.94-2.06 2.06-.94-2.06-.94L8.5 2.5l-.94 2.06-2.06.94zm10 10l.94 2.06.94-2.06 2.06-.94-2.06-.94-.94-2.06-.94 2.06-2.06.94z\"/><path d=\"M17.41 7.96l-1.37-1.37c-.4-.4-.92-.59-1.43-.59-.52 0-1.04.2-1.43.59L10.3 9.45l-7.72 7.72c-.78.78-.78 2.05 0 2.83L4 21.41c.39.39.9.59 1.41.59.51 0 1.02-.2 1.41-.59l7.78-7.78 2.81-2.81c.8-.78.8-2.07 0-2.86zM5.41 20L4 18.59l7.72-7.72 1.47 1.35L5.41 20z\"/>\n",
              "  </svg>\n",
              "      </button>\n",
              "      \n",
              "  <style>\n",
              "    .colab-df-container {\n",
              "      display:flex;\n",
              "      flex-wrap:wrap;\n",
              "      gap: 12px;\n",
              "    }\n",
              "\n",
              "    .colab-df-convert {\n",
              "      background-color: #E8F0FE;\n",
              "      border: none;\n",
              "      border-radius: 50%;\n",
              "      cursor: pointer;\n",
              "      display: none;\n",
              "      fill: #1967D2;\n",
              "      height: 32px;\n",
              "      padding: 0 0 0 0;\n",
              "      width: 32px;\n",
              "    }\n",
              "\n",
              "    .colab-df-convert:hover {\n",
              "      background-color: #E2EBFA;\n",
              "      box-shadow: 0px 1px 2px rgba(60, 64, 67, 0.3), 0px 1px 3px 1px rgba(60, 64, 67, 0.15);\n",
              "      fill: #174EA6;\n",
              "    }\n",
              "\n",
              "    [theme=dark] .colab-df-convert {\n",
              "      background-color: #3B4455;\n",
              "      fill: #D2E3FC;\n",
              "    }\n",
              "\n",
              "    [theme=dark] .colab-df-convert:hover {\n",
              "      background-color: #434B5C;\n",
              "      box-shadow: 0px 1px 3px 1px rgba(0, 0, 0, 0.15);\n",
              "      filter: drop-shadow(0px 1px 2px rgba(0, 0, 0, 0.3));\n",
              "      fill: #FFFFFF;\n",
              "    }\n",
              "  </style>\n",
              "\n",
              "      <script>\n",
              "        const buttonEl =\n",
              "          document.querySelector('#df-eedb4c84-6b2d-4b7a-8e21-2050b926d4b5 button.colab-df-convert');\n",
              "        buttonEl.style.display =\n",
              "          google.colab.kernel.accessAllowed ? 'block' : 'none';\n",
              "\n",
              "        async function convertToInteractive(key) {\n",
              "          const element = document.querySelector('#df-eedb4c84-6b2d-4b7a-8e21-2050b926d4b5');\n",
              "          const dataTable =\n",
              "            await google.colab.kernel.invokeFunction('convertToInteractive',\n",
              "                                                     [key], {});\n",
              "          if (!dataTable) return;\n",
              "\n",
              "          const docLinkHtml = 'Like what you see? Visit the ' +\n",
              "            '<a target=\"_blank\" href=https://colab.research.google.com/notebooks/data_table.ipynb>data table notebook</a>'\n",
              "            + ' to learn more about interactive tables.';\n",
              "          element.innerHTML = '';\n",
              "          dataTable['output_type'] = 'display_data';\n",
              "          await google.colab.output.renderOutput(dataTable, element);\n",
              "          const docLink = document.createElement('div');\n",
              "          docLink.innerHTML = docLinkHtml;\n",
              "          element.appendChild(docLink);\n",
              "        }\n",
              "      </script>\n",
              "    </div>\n",
              "  </div>\n",
              "  "
            ]
          },
          "metadata": {},
          "execution_count": 59
        }
      ]
    },
    {
      "cell_type": "code",
      "source": [
        "X_train = X.iloc[:848834-32629,:]\n",
        "y_train = y.iloc[:848834-32629,:]\n",
        "X_val = X.iloc[848834-32629:848834-32629+2340,:]\n",
        "y_val = y.iloc[848834-32629:848834-32629+2340,:]"
      ],
      "metadata": {
        "id": "1MeubLJSa1LF"
      },
      "execution_count": 15,
      "outputs": []
    },
    {
      "cell_type": "code",
      "source": [
        "con_sc = MinMaxScaler()\n",
        "y_train['congestion'] = con_sc.fit_transform(y_train[['congestion']])\n",
        "y_val['congestion'] = con_sc.transform(y_val[['congestion']])"
      ],
      "metadata": {
        "id": "arwztVlhc5X3",
        "colab": {
          "base_uri": "https://localhost:8080/"
        },
        "outputId": "ff8b8b14-9486-4d08-c185-f6be2439dd1b"
      },
      "execution_count": 16,
      "outputs": [
        {
          "output_type": "stream",
          "name": "stderr",
          "text": [
            "/usr/local/lib/python3.7/dist-packages/ipykernel_launcher.py:2: SettingWithCopyWarning: \n",
            "A value is trying to be set on a copy of a slice from a DataFrame.\n",
            "Try using .loc[row_indexer,col_indexer] = value instead\n",
            "\n",
            "See the caveats in the documentation: https://pandas.pydata.org/pandas-docs/stable/user_guide/indexing.html#returning-a-view-versus-a-copy\n",
            "  \n",
            "/usr/local/lib/python3.7/dist-packages/ipykernel_launcher.py:3: SettingWithCopyWarning: \n",
            "A value is trying to be set on a copy of a slice from a DataFrame.\n",
            "Try using .loc[row_indexer,col_indexer] = value instead\n",
            "\n",
            "See the caveats in the documentation: https://pandas.pydata.org/pandas-docs/stable/user_guide/indexing.html#returning-a-view-versus-a-copy\n",
            "  This is separate from the ipykernel package so we can avoid doing imports until\n"
          ]
        }
      ]
    },
    {
      "cell_type": "markdown",
      "source": [
        "XGBoost for regression"
      ],
      "metadata": {
        "id": "VecOjVg-RCEU"
      }
    },
    {
      "cell_type": "code",
      "source": [
        "XGB_model = XGBRegressor(n_estimators=50, max_depth=10, eta=0.01, random_state=42, enable_categorical=False)"
      ],
      "metadata": {
        "id": "tVC_Yr4IPK8g"
      },
      "execution_count": 17,
      "outputs": []
    },
    {
      "cell_type": "code",
      "source": [
        "XGB_model.fit(X_train,y_train.values)"
      ],
      "metadata": {
        "colab": {
          "base_uri": "https://localhost:8080/"
        },
        "id": "bXXLMn-omD8-",
        "outputId": "5b073d55-a502-4d0e-9303-41dbae7f4a90"
      },
      "execution_count": 18,
      "outputs": [
        {
          "output_type": "stream",
          "name": "stdout",
          "text": [
            "[21:02:44] WARNING: /workspace/src/objective/regression_obj.cu:152: reg:linear is now deprecated in favor of reg:squarederror.\n"
          ]
        },
        {
          "output_type": "execute_result",
          "data": {
            "text/plain": [
              "XGBRegressor(enable_categorical=False, eta=0.01, max_depth=10, n_estimators=50,\n",
              "             random_state=42)"
            ]
          },
          "metadata": {},
          "execution_count": 18
        }
      ]
    },
    {
      "cell_type": "code",
      "source": [
        "from sklearn.metrics import mean_absolute_error\n",
        "xg_pred = XGB_model.predict(X_val)\n",
        "mean_absolute_error(y_val.values,xg_pred)"
      ],
      "metadata": {
        "colab": {
          "base_uri": "https://localhost:8080/"
        },
        "id": "k2XXg2z2nXXk",
        "outputId": "23b08410-ac24-48e1-a450-d2f7bdd81155"
      },
      "execution_count": 19,
      "outputs": [
        {
          "output_type": "execute_result",
          "data": {
            "text/plain": [
              "0.05721019664992635"
            ]
          },
          "metadata": {},
          "execution_count": 19
        }
      ]
    },
    {
      "cell_type": "code",
      "source": [
        "XGB_model.fit(X,y.values)\n",
        "pred = XGB_model.predict(X_test)"
      ],
      "metadata": {
        "colab": {
          "base_uri": "https://localhost:8080/"
        },
        "id": "zBoLKlPkSZgc",
        "outputId": "adc7cefb-de28-4513-a28c-79717e57f73d"
      },
      "execution_count": 21,
      "outputs": [
        {
          "metadata": {
            "tags": null
          },
          "name": "stdout",
          "output_type": "stream",
          "text": [
            "[21:08:37] WARNING: /workspace/src/objective/regression_obj.cu:152: reg:linear is now deprecated in favor of reg:squarederror.\n"
          ]
        }
      ]
    },
    {
      "cell_type": "code",
      "source": [
        "submission = pd.read_csv('submission.csv')"
      ],
      "metadata": {
        "id": "ROMHJr_eTVa6"
      },
      "execution_count": 23,
      "outputs": []
    },
    {
      "cell_type": "code",
      "source": [
        "submission['congestion'] = np.round(pred).astype(int)"
      ],
      "metadata": {
        "id": "hnYr6g5XUJmF"
      },
      "execution_count": 26,
      "outputs": []
    },
    {
      "cell_type": "code",
      "source": [
        "submission.to_csv('./submission1.csv', index=False)"
      ],
      "metadata": {
        "id": "yp8yuwHwUq8-"
      },
      "execution_count": 27,
      "outputs": []
    },
    {
      "cell_type": "markdown",
      "source": [
        "RandomForrest"
      ],
      "metadata": {
        "id": "hrSYzobQng6I"
      }
    },
    {
      "cell_type": "code",
      "source": [
        "from sklearn.ensemble import RandomForestRegressor\n",
        "rf_model = RandomForestRegressor(n_estimators= 20, max_depth=4, random_state=42, criterion= 'absolute_error')\n",
        "rf_model.fit(X_train, y_train.values.reshape(y_train.shape[0]))"
      ],
      "metadata": {
        "id": "lS6cXD7Kngi0"
      },
      "execution_count": null,
      "outputs": []
    },
    {
      "cell_type": "code",
      "source": [
        "from sklearn.metrics import mean_absolute_error\n",
        "rf_pred = rf_model.predict(X_val)\n",
        "mean_absolute_error(y_val.values,rf_pred)"
      ],
      "metadata": {
        "id": "MTSiNqpTp0EC"
      },
      "execution_count": null,
      "outputs": []
    }
  ]
}