{
  "nbformat": 4,
  "nbformat_minor": 0,
  "metadata": {
    "colab": {
      "name": "Logistic_regression.ipynb",
      "provenance": []
    },
    "kernelspec": {
      "name": "python3",
      "display_name": "Python 3"
    },
    "language_info": {
      "name": "python"
    }
  },
  "cells": [
    {
      "cell_type": "code",
      "execution_count": 1,
      "metadata": {
        "id": "Yt-fQX0a-GAn"
      },
      "outputs": [],
      "source": [
        "#importing libraries\n",
        "import numpy as np\n",
        "import pandas as pd\n",
        "import matplotlib.pyplot as plt\n",
        "from sklearn.model_selection import train_test_split, cross_val_score\n",
        "from sklearn.preprocessing import StandardScaler\n",
        "from sklearn.linear_model import LogisticRegression\n",
        "from sklearn.metrics import confusion_matrix, accuracy_score"
      ]
    },
    {
      "cell_type": "code",
      "source": [
        "#importing dataset\n",
        "df = pd.read_csv('Social_Network_Ads.csv')\n",
        "X=df.iloc[:,:-1].values\n",
        "y=df.iloc[:,-1].values"
      ],
      "metadata": {
        "id": "RHb3wRqg-6nj"
      },
      "execution_count": 2,
      "outputs": []
    },
    {
      "cell_type": "code",
      "source": [
        "#splitting the dataset\n",
        "\n",
        "X_train, X_test, y_train, y_test = train_test_split(X, y, test_size= 0.25, random_state=0)"
      ],
      "metadata": {
        "id": "8omnoLuW-9uZ"
      },
      "execution_count": 3,
      "outputs": []
    },
    {
      "cell_type": "code",
      "source": [
        "#scaling features\n",
        "sc= StandardScaler()\n",
        "X_train = sc.fit_transform(X_train)\n",
        "X_test = sc.transform(X_test)"
      ],
      "metadata": {
        "id": "9YNcFrinAI_g"
      },
      "execution_count": 4,
      "outputs": []
    },
    {
      "cell_type": "code",
      "source": [
        "#training the model\n",
        "classifier= LogisticRegression(random_state=0)\n",
        "classifier.fit(X_train, y_train)\n"
      ],
      "metadata": {
        "colab": {
          "base_uri": "https://localhost:8080/"
        },
        "id": "Z3UFjhbcAc3V",
        "outputId": "5b4686dc-6ea2-46bb-bd38-788814d0d68d"
      },
      "execution_count": 5,
      "outputs": [
        {
          "output_type": "execute_result",
          "data": {
            "text/plain": [
              "LogisticRegression(random_state=0)"
            ]
          },
          "metadata": {},
          "execution_count": 5
        }
      ]
    },
    {
      "cell_type": "code",
      "source": [
        "#predicting new result\n",
        "print(classifier.predict(X_test[0].reshape(1,2)))\n"
      ],
      "metadata": {
        "colab": {
          "base_uri": "https://localhost:8080/"
        },
        "id": "H4vTYmCHDdji",
        "outputId": "590f2aff-f462-4626-9148-201cee21584a"
      },
      "execution_count": 6,
      "outputs": [
        {
          "output_type": "stream",
          "name": "stdout",
          "text": [
            "[0]\n"
          ]
        }
      ]
    },
    {
      "cell_type": "code",
      "source": [
        "#predicting Test set\n",
        "y_hat = classifier.predict(X_test)\n",
        "error = (1/len(y_hat))*np.sum((y_hat-y_test)**2)\n",
        "error"
      ],
      "metadata": {
        "colab": {
          "base_uri": "https://localhost:8080/"
        },
        "id": "oafBZcwKD-zZ",
        "outputId": "507e8d6e-e53c-40e1-a576-e784174fc4f6"
      },
      "execution_count": 7,
      "outputs": [
        {
          "output_type": "execute_result",
          "data": {
            "text/plain": [
              "0.11"
            ]
          },
          "metadata": {},
          "execution_count": 7
        }
      ]
    },
    {
      "cell_type": "code",
      "source": [
        "#confusion matrix\n",
        "cm = confusion_matrix(y_test, y_hat)\n",
        "acc= accuracy_score(y_test, y_hat)\n",
        "print(\"\\nConfusion matrix:\")\n",
        "print(pd.crosstab(y_test, y_hat, rownames=['True'], colnames=['Predicted'], margins=True))\n",
        "print(\"\\nAccuracy: \",acc)"
      ],
      "metadata": {
        "colab": {
          "base_uri": "https://localhost:8080/"
        },
        "id": "kdkwYxbUFlyW",
        "outputId": "5e2c3f54-a153-4161-d6ec-716b62f266e8"
      },
      "execution_count": 8,
      "outputs": [
        {
          "output_type": "stream",
          "name": "stdout",
          "text": [
            "\n",
            "Confusion matrix:\n",
            "Predicted   0   1  All\n",
            "True                  \n",
            "0          65   3   68\n",
            "1           8  24   32\n",
            "All        73  27  100\n",
            "\n",
            "Accuracy:  0.89\n"
          ]
        }
      ]
    },
    {
      "cell_type": "code",
      "source": [
        "# 10-fold cross validation for the model\n",
        "scores = cross_val_score(classifier, X_train, y_train, cv=10) \n",
        "#print(\"\\n\\n\\n Cross-validation scores: {}\".format(scores))\n",
        "print(\"Average cross-validation score: {:.2f}\\n\".format(scores.mean()*100))\n",
        "print(\"Standard deviation cross-validation score: {:.2f}\\n\\n\\n\".format(scores.std()*100))"
      ],
      "metadata": {
        "colab": {
          "base_uri": "https://localhost:8080/"
        },
        "id": "wvxGta-FPdl6",
        "outputId": "9f2c0019-1626-46f7-a1c7-9f0c89cbecc4"
      },
      "execution_count": 9,
      "outputs": [
        {
          "output_type": "stream",
          "name": "stdout",
          "text": [
            "Average cross-validation score: 82.33\n",
            "\n",
            "Standard deviation cross-validation score: 9.67\n",
            "\n",
            "\n",
            "\n"
          ]
        }
      ]
    }
  ]
}